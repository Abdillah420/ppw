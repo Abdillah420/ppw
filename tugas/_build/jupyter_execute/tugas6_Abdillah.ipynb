{
 "cells": [
  {
   "cell_type": "markdown",
   "metadata": {
    "id": "ehIxLpbh_c3r"
   },
   "source": [
    "# Klasifikasi Berita menggunakan Fitur Latent Dirichlet Allocation"
   ]
  },
  {
   "cell_type": "code",
   "execution_count": 46,
   "metadata": {
    "colab": {
     "base_uri": "https://localhost:8080/",
     "height": 206
    },
    "id": "o71xwBGhe9cC",
    "outputId": "4543a2b2-4359-41a0-d654-e7a1f1dc0080"
   },
   "outputs": [
    {
     "data": {
      "application/vnd.google.colaboratory.intrinsic+json": {
       "summary": "{\n  \"name\": \"data[['isi', 'hasil_preprocessing', 'kategori']]\",\n  \"rows\": 5,\n  \"fields\": [\n    {\n      \"column\": \"isi\",\n      \"properties\": {\n        \"dtype\": \"string\",\n        \"num_unique_values\": 5,\n        \"samples\": [\n          \"Timnas Indonesiasudah gagal lolos kePiala Dunia 2026. Eks pelatih kiper Skuad Garuda, Yoo Jae-hoon, mengungkapkan kesedihan. Di King Abdullah Sports City Stadium, Minggu (12/10/2025), Indonesia kalah 0-1 dari Irak. Gol dari Zidane Iqbal uang menjadi penyebab kekalahan tim Merah-Putih. Indonesia dipastikan gagal lolos ke Piala Dunia 2026 karena pada laga sebelumnya kalah 2-3 dari Arab Saudi. Indonesia menjadi juru kunci Grup B babak keempat Kualifikasi Piala Dunia 2026. SCROLL TO CONTINUE WITH CONTENT Perjuangan panjang dijalani Indonesia di Kualifikasi Piala Dunia 2026. Indonesia bermain sejak babak pertama, ada 20 pertandingan yang dijalani. Yoo Jae-hoon, yang menjadi staf pelatih Shin Tae-yong, menjalani pertandingan sebanyak 14 kali. Ketika langkahIndonesiasudah dipastikan setop, eks kiper Persipura Jayapura itu pun merasakan kesedihan. Pernah menjadi perjuangan Indonesia ke Piala Dunia 2026, Yoo Jae-hoon mengucapkan terima kasih atas perjuangan pemain. Dia juga meminta para suporter tak mengendurkan dukungan untuk tim Merah-Putih. \\\"Saya mengucapkan terimakasih kepada seluruh anggota timnas atas perjuangannya. Kami telah berjuang keras dari babak kualifikasi pertama untuk Piala Dunia 2026, tetapi sayangnya mimpi itu pupus, sehingga saya sangat sedih,\\\" kata Yoo Jae-hoon di Instagram pribadinya. \\\"Kami memulai bersama, tetapi tidak bisa mengakhiri bersama, itu membuat hati saya sakit. Namun, saya percaya sepakbola Indonesia bukanlah akhir, melainkan awal baru. Kita harus terus melangkah menuju yang lebih tinggi.\\\" \\\"Saya berharap seluruh rakyat dan para penggemar sepakbola dapat terus mendukung para pemain dan PSSI. Saya pun, seperti selama 16 tahun terakhir, akan terus mencintai dan mendukung sepakbolaIndonesiake depannya,\\\" kata dia menambahkan. [Gambas:Instagram]\",\n          \"Kylian Mbappemengaku merasa lebih tenang sejak pindah keReal Madrid. Ia menilai suasana kehidupan di ibu kota Spanyol membantunya lebih fokus di lapangan hijau. Striker asal Prancis itu bergabung dengan Madrid sejak musim panas 2024 usai kontraknya di Paris Saint-Germain habis. Meski gagal meraih trofi mayor, namun ia mampu mencetak 44 gol dalam 59 penampilan. Pada musim ini, ia langsung tancap gas dengan 14 gol dalam 10 penampilan dan baru satu kali menyelesaikan laga tanpa mencatatkan namanya di papan skor. Jika menghitung performa di Timnas Prancis bulan lalu, total ia sudah mengemas 16 gol dalam 12 penampilan. SCROLL TO CONTINUE WITH CONTENT Padahal Mbappe butuh sampai Januari untuk mencetak gol sebanyak itu pada musim lalu, seolah menandakan bahwa ia semakin nyaman di Madrid yang kini dilatih Xabi Alonso. Mbappe tak menampik bahwa kepindahan ke Madrid turut membantu mengangkat performanya. \\\"Saya beradaptasi dengan baik di Madrid, saya sedikit lebih santai di sana,\\\" ujarnya seperti dikutip dari ESPN pada Kamis (9/10/2025). \\\"Tak ada maksud menjelek-jelekkan Prancis. Hanya saja gaya hidupnya berbeda, tak seramai di Paris. Saya bisa menyesuaikan diri,\\\" jelas pemain 26 tahun itu. Mbappe sedang bersama Timnas Prancis untuk menjalani dua laga Kualifikasi Piala Dunia 2026 menghadapi Azerbaijan di Paris pada Sabtu (11/10) pukul 01.45 WIB dan Islandia tiga hari berselang di Reykjavik. Les Bleus sedang memimpin klasemen sementara Grup D dengan enam poin usai merebut dua kemenangan atas Ukraina dan Islandia bulan lalu.\",\n          \"Sejak pertama kali diperkenalkan pada tahun 1995,Mercedes-Benz Sprinter telah menjadi salah satu kendaraan komersial paling berpengaruhdalam sejarah otomotif modern. Dirancang untuk menggabungkan keandalan khas Mercedes dengan fleksibilitas tinggi, Sprinter muncul sebagai jawaban atas kebutuhan dunia akan kendaraan multiguna yang tangguh dan efisien. Dalam waktu singkat, van ini menjadi pilihan utama di berbagai sektor industri, mulai dari logistik hingga transportasi umum, berkat daya tahan mesinnya, desain kabin yang ergonomis, serta kemampuannya menyesuaikan diri dengan berbagai kebutuhan pengguna.\"\n        ],\n        \"semantic_type\": \"\",\n        \"description\": \"\"\n      }\n    },\n    {\n      \"column\": \"hasil_preprocessing\",\n      \"properties\": {\n        \"dtype\": \"string\",\n        \"num_unique_values\": 5,\n        \"samples\": [\n          \"['timnas', 'indonesiasudah', 'gagal', 'lolos', 'piala', 'dunia', 'eks', 'latih', 'kiper', 'skuad', 'garuda', 'yoo', 'jaehoon', 'sedih', 'king', 'abdullah', 'sports', 'city', 'stadium', 'minggu', 'indonesia', 'kalah', 'irak', 'gol', 'zidane', 'iqbal', 'uang', 'sebab', 'kalah', 'tim', 'merahputih', 'indonesia', 'gagal', 'lolos', 'piala', 'dunia', 'laga', 'kalah', 'arab', 'saudi', 'indonesia', 'juru', 'kunci', 'grup', 'b', 'babak', 'empat', 'kualifikasi', 'piala', 'dunia', 'scroll', 'to', 'continue', 'with', 'content', 'juang', 'jalan', 'indonesia', 'kualifikasi', 'piala', 'dunia', 'indonesia', 'main', 'babak', 'tanding', 'jalan', 'yoo', 'jaehoon', 'staf', 'latih', 'shin', 'taeyong', 'jalan', 'tanding', 'kali', 'langkahindonesiasudah', 'setop', 'eks', 'kiper', 'persipura', 'jayapura', 'rasa', 'sedih', 'juang', 'indonesia', 'piala', 'dunia', 'yoo', 'jaehoon', 'terima', 'kasih', 'juang', 'main', 'suporter', 'kendur', 'dukung', 'tim', 'merahputih', 'terimakasih', 'anggota', 'timnas', 'juang', 'juang', 'keras', 'babak', 'kualifikasi', 'piala', 'dunia', 'sayang', 'mimpi', 'pupus', 'sedih', 'yoo', 'jaehoon', 'instagram', 'pribadi', 'hati', 'sakit', 'percaya', 'sepakbola', 'indonesia', 'lang', 'harap', 'rakyat', 'gemar', 'sepakbola', 'dukung', 'main', 'pssi', 'cinta', 'dukung', 'sepakbolaindonesiake', 'depan', 'gambasinstagram']\",\n          \"['kylian', 'mbappemengaku', 'tenang', 'pindah', 'real', 'madrid', 'nilai', 'suasana', 'hidup', 'kota', 'spanyol', 'bantu', 'fokus', 'lapang', 'hijau', 'striker', 'prancis', 'gabung', 'madrid', 'musim', 'panas', 'kontrak', 'paris', 'saintgermain', 'habis', 'gagal', 'raih', 'trofi', 'mayor', 'cetak', 'gol', 'tampil', 'musim', 'langsung', 'tancap', 'gas', 'gol', 'tampil', 'kali', 'selesai', 'laga', 'catat', 'nama', 'papan', 'skor', 'hitung', 'performa', 'timnas', 'prancis', 'total', 'emas', 'gol', 'tampil', 'scroll', 'to', 'continue', 'with', 'content', 'mbappe', 'butuh', 'januari', 'cetak', 'gol', 'musim', 'tanda', 'nyaman', 'madrid', 'latih', 'xabi', 'alonso', 'mbappe', 'tampik', 'pindah', 'madrid', 'bantu', 'angkat', 'performa', 'adaptasi', 'madrid', 'santai', 'kutip', 'espn', 'kamis', 'maksud', 'menjelekjelekkan', 'prancis', 'gaya', 'hidup', 'beda', 'serama', 'paris', 'sesuai', 'main', 'mbappe', 'timnas', 'prancis', 'jalan', 'laga', 'kualifikasi', 'piala', 'dunia', 'hadap', 'azerbaijan', 'paris', 'sabtu', 'wib', 'islandia', 'selang', 'reykjavik', 'les', 'bleus', 'pimpin', 'klasemen', 'grup', 'd', 'enam', 'poin', 'rebut', 'menang', 'ukraina', 'islandia']\",\n          \"['kali', 'kenal', 'mercedesbenz', 'sprinter', 'salah', 'kendara', 'komersial', 'berpengaruhdalam', 'sejarah', 'otomotif', 'modern', 'rancang', 'gabung', 'andal', 'khas', 'mercedes', 'fleksibilitas', 'sprinter', 'muncul', 'butuh', 'dunia', 'kendara', 'multiguna', 'tangguh', 'efisien', 'singkat', 'van', 'pilih', 'utama', 'sektor', 'industri', 'logistik', 'transportasi', 'berkat', 'daya', 'tahan', 'mesin', 'desain', 'kabin', 'ergonomis', 'mampu', 'sesuai', 'butuh', 'guna']\"\n        ],\n        \"semantic_type\": \"\",\n        \"description\": \"\"\n      }\n    },\n    {\n      \"column\": \"kategori\",\n      \"properties\": {\n        \"dtype\": \"category\",\n        \"num_unique_values\": 2,\n        \"samples\": [\n          \"Edu\",\n          \"Lainnya\"\n        ],\n        \"semantic_type\": \"\",\n        \"description\": \"\"\n      }\n    }\n  ]\n}",
       "type": "dataframe"
      },
      "text/html": [
       "\n",
       "  <div id=\"df-36b9820d-0f74-42b9-af1b-3530c72e154d\" class=\"colab-df-container\">\n",
       "    <div>\n",
       "<style scoped>\n",
       "    .dataframe tbody tr th:only-of-type {\n",
       "        vertical-align: middle;\n",
       "    }\n",
       "\n",
       "    .dataframe tbody tr th {\n",
       "        vertical-align: top;\n",
       "    }\n",
       "\n",
       "    .dataframe thead th {\n",
       "        text-align: right;\n",
       "    }\n",
       "</style>\n",
       "<table border=\"1\" class=\"dataframe\">\n",
       "  <thead>\n",
       "    <tr style=\"text-align: right;\">\n",
       "      <th></th>\n",
       "      <th>isi</th>\n",
       "      <th>hasil_preprocessing</th>\n",
       "      <th>kategori</th>\n",
       "    </tr>\n",
       "  </thead>\n",
       "  <tbody>\n",
       "    <tr>\n",
       "      <th>0</th>\n",
       "      <td>PebasketSatria MudaAvan Seputramengaku terkeju...</td>\n",
       "      <td>['pebasketsatria', 'mudaavan', 'seputramengaku...</td>\n",
       "      <td>Lainnya</td>\n",
       "    </tr>\n",
       "    <tr>\n",
       "      <th>1</th>\n",
       "      <td>Timnas Indonesiasudah gagal lolos kePiala Duni...</td>\n",
       "      <td>['timnas', 'indonesiasudah', 'gagal', 'lolos',...</td>\n",
       "      <td>Lainnya</td>\n",
       "    </tr>\n",
       "    <tr>\n",
       "      <th>2</th>\n",
       "      <td>Sejak pertama kali diperkenalkan pada tahun 19...</td>\n",
       "      <td>['kali', 'kenal', 'mercedesbenz', 'sprinter', ...</td>\n",
       "      <td>Lainnya</td>\n",
       "    </tr>\n",
       "    <tr>\n",
       "      <th>3</th>\n",
       "      <td>Ada banyak dosen inspiratif di Indonesia. Seba...</td>\n",
       "      <td>['dosen', 'inspiratif', 'indonesia', 'jajar', ...</td>\n",
       "      <td>Edu</td>\n",
       "    </tr>\n",
       "    <tr>\n",
       "      <th>4</th>\n",
       "      <td>Kylian Mbappemengaku merasa lebih tenang sejak...</td>\n",
       "      <td>['kylian', 'mbappemengaku', 'tenang', 'pindah'...</td>\n",
       "      <td>Lainnya</td>\n",
       "    </tr>\n",
       "  </tbody>\n",
       "</table>\n",
       "</div>\n",
       "    <div class=\"colab-df-buttons\">\n",
       "\n",
       "  <div class=\"colab-df-container\">\n",
       "    <button class=\"colab-df-convert\" onclick=\"convertToInteractive('df-36b9820d-0f74-42b9-af1b-3530c72e154d')\"\n",
       "            title=\"Convert this dataframe to an interactive table.\"\n",
       "            style=\"display:none;\">\n",
       "\n",
       "  <svg xmlns=\"http://www.w3.org/2000/svg\" height=\"24px\" viewBox=\"0 -960 960 960\">\n",
       "    <path d=\"M120-120v-720h720v720H120Zm60-500h600v-160H180v160Zm220 220h160v-160H400v160Zm0 220h160v-160H400v160ZM180-400h160v-160H180v160Zm440 0h160v-160H620v160ZM180-180h160v-160H180v160Zm440 0h160v-160H620v160Z\"/>\n",
       "  </svg>\n",
       "    </button>\n",
       "\n",
       "  <style>\n",
       "    .colab-df-container {\n",
       "      display:flex;\n",
       "      gap: 12px;\n",
       "    }\n",
       "\n",
       "    .colab-df-convert {\n",
       "      background-color: #E8F0FE;\n",
       "      border: none;\n",
       "      border-radius: 50%;\n",
       "      cursor: pointer;\n",
       "      display: none;\n",
       "      fill: #1967D2;\n",
       "      height: 32px;\n",
       "      padding: 0 0 0 0;\n",
       "      width: 32px;\n",
       "    }\n",
       "\n",
       "    .colab-df-convert:hover {\n",
       "      background-color: #E2EBFA;\n",
       "      box-shadow: 0px 1px 2px rgba(60, 64, 67, 0.3), 0px 1px 3px 1px rgba(60, 64, 67, 0.15);\n",
       "      fill: #174EA6;\n",
       "    }\n",
       "\n",
       "    .colab-df-buttons div {\n",
       "      margin-bottom: 4px;\n",
       "    }\n",
       "\n",
       "    [theme=dark] .colab-df-convert {\n",
       "      background-color: #3B4455;\n",
       "      fill: #D2E3FC;\n",
       "    }\n",
       "\n",
       "    [theme=dark] .colab-df-convert:hover {\n",
       "      background-color: #434B5C;\n",
       "      box-shadow: 0px 1px 3px 1px rgba(0, 0, 0, 0.15);\n",
       "      filter: drop-shadow(0px 1px 2px rgba(0, 0, 0, 0.3));\n",
       "      fill: #FFFFFF;\n",
       "    }\n",
       "  </style>\n",
       "\n",
       "    <script>\n",
       "      const buttonEl =\n",
       "        document.querySelector('#df-36b9820d-0f74-42b9-af1b-3530c72e154d button.colab-df-convert');\n",
       "      buttonEl.style.display =\n",
       "        google.colab.kernel.accessAllowed ? 'block' : 'none';\n",
       "\n",
       "      async function convertToInteractive(key) {\n",
       "        const element = document.querySelector('#df-36b9820d-0f74-42b9-af1b-3530c72e154d');\n",
       "        const dataTable =\n",
       "          await google.colab.kernel.invokeFunction('convertToInteractive',\n",
       "                                                    [key], {});\n",
       "        if (!dataTable) return;\n",
       "\n",
       "        const docLinkHtml = 'Like what you see? Visit the ' +\n",
       "          '<a target=\"_blank\" href=https://colab.research.google.com/notebooks/data_table.ipynb>data table notebook</a>'\n",
       "          + ' to learn more about interactive tables.';\n",
       "        element.innerHTML = '';\n",
       "        dataTable['output_type'] = 'display_data';\n",
       "        await google.colab.output.renderOutput(dataTable, element);\n",
       "        const docLink = document.createElement('div');\n",
       "        docLink.innerHTML = docLinkHtml;\n",
       "        element.appendChild(docLink);\n",
       "      }\n",
       "    </script>\n",
       "  </div>\n",
       "\n",
       "\n",
       "    <div id=\"df-ab86eb69-95c9-48db-ae6f-ca2f402f4455\">\n",
       "      <button class=\"colab-df-quickchart\" onclick=\"quickchart('df-ab86eb69-95c9-48db-ae6f-ca2f402f4455')\"\n",
       "                title=\"Suggest charts\"\n",
       "                style=\"display:none;\">\n",
       "\n",
       "<svg xmlns=\"http://www.w3.org/2000/svg\" height=\"24px\"viewBox=\"0 0 24 24\"\n",
       "     width=\"24px\">\n",
       "    <g>\n",
       "        <path d=\"M19 3H5c-1.1 0-2 .9-2 2v14c0 1.1.9 2 2 2h14c1.1 0 2-.9 2-2V5c0-1.1-.9-2-2-2zM9 17H7v-7h2v7zm4 0h-2V7h2v10zm4 0h-2v-4h2v4z\"/>\n",
       "    </g>\n",
       "</svg>\n",
       "      </button>\n",
       "\n",
       "<style>\n",
       "  .colab-df-quickchart {\n",
       "      --bg-color: #E8F0FE;\n",
       "      --fill-color: #1967D2;\n",
       "      --hover-bg-color: #E2EBFA;\n",
       "      --hover-fill-color: #174EA6;\n",
       "      --disabled-fill-color: #AAA;\n",
       "      --disabled-bg-color: #DDD;\n",
       "  }\n",
       "\n",
       "  [theme=dark] .colab-df-quickchart {\n",
       "      --bg-color: #3B4455;\n",
       "      --fill-color: #D2E3FC;\n",
       "      --hover-bg-color: #434B5C;\n",
       "      --hover-fill-color: #FFFFFF;\n",
       "      --disabled-bg-color: #3B4455;\n",
       "      --disabled-fill-color: #666;\n",
       "  }\n",
       "\n",
       "  .colab-df-quickchart {\n",
       "    background-color: var(--bg-color);\n",
       "    border: none;\n",
       "    border-radius: 50%;\n",
       "    cursor: pointer;\n",
       "    display: none;\n",
       "    fill: var(--fill-color);\n",
       "    height: 32px;\n",
       "    padding: 0;\n",
       "    width: 32px;\n",
       "  }\n",
       "\n",
       "  .colab-df-quickchart:hover {\n",
       "    background-color: var(--hover-bg-color);\n",
       "    box-shadow: 0 1px 2px rgba(60, 64, 67, 0.3), 0 1px 3px 1px rgba(60, 64, 67, 0.15);\n",
       "    fill: var(--button-hover-fill-color);\n",
       "  }\n",
       "\n",
       "  .colab-df-quickchart-complete:disabled,\n",
       "  .colab-df-quickchart-complete:disabled:hover {\n",
       "    background-color: var(--disabled-bg-color);\n",
       "    fill: var(--disabled-fill-color);\n",
       "    box-shadow: none;\n",
       "  }\n",
       "\n",
       "  .colab-df-spinner {\n",
       "    border: 2px solid var(--fill-color);\n",
       "    border-color: transparent;\n",
       "    border-bottom-color: var(--fill-color);\n",
       "    animation:\n",
       "      spin 1s steps(1) infinite;\n",
       "  }\n",
       "\n",
       "  @keyframes spin {\n",
       "    0% {\n",
       "      border-color: transparent;\n",
       "      border-bottom-color: var(--fill-color);\n",
       "      border-left-color: var(--fill-color);\n",
       "    }\n",
       "    20% {\n",
       "      border-color: transparent;\n",
       "      border-left-color: var(--fill-color);\n",
       "      border-top-color: var(--fill-color);\n",
       "    }\n",
       "    30% {\n",
       "      border-color: transparent;\n",
       "      border-left-color: var(--fill-color);\n",
       "      border-top-color: var(--fill-color);\n",
       "      border-right-color: var(--fill-color);\n",
       "    }\n",
       "    40% {\n",
       "      border-color: transparent;\n",
       "      border-right-color: var(--fill-color);\n",
       "      border-top-color: var(--fill-color);\n",
       "    }\n",
       "    60% {\n",
       "      border-color: transparent;\n",
       "      border-right-color: var(--fill-color);\n",
       "    }\n",
       "    80% {\n",
       "      border-color: transparent;\n",
       "      border-right-color: var(--fill-color);\n",
       "      border-bottom-color: var(--fill-color);\n",
       "    }\n",
       "    90% {\n",
       "      border-color: transparent;\n",
       "      border-bottom-color: var(--fill-color);\n",
       "    }\n",
       "  }\n",
       "</style>\n",
       "\n",
       "      <script>\n",
       "        async function quickchart(key) {\n",
       "          const quickchartButtonEl =\n",
       "            document.querySelector('#' + key + ' button');\n",
       "          quickchartButtonEl.disabled = true;  // To prevent multiple clicks.\n",
       "          quickchartButtonEl.classList.add('colab-df-spinner');\n",
       "          try {\n",
       "            const charts = await google.colab.kernel.invokeFunction(\n",
       "                'suggestCharts', [key], {});\n",
       "          } catch (error) {\n",
       "            console.error('Error during call to suggestCharts:', error);\n",
       "          }\n",
       "          quickchartButtonEl.classList.remove('colab-df-spinner');\n",
       "          quickchartButtonEl.classList.add('colab-df-quickchart-complete');\n",
       "        }\n",
       "        (() => {\n",
       "          let quickchartButtonEl =\n",
       "            document.querySelector('#df-ab86eb69-95c9-48db-ae6f-ca2f402f4455 button');\n",
       "          quickchartButtonEl.style.display =\n",
       "            google.colab.kernel.accessAllowed ? 'block' : 'none';\n",
       "        })();\n",
       "      </script>\n",
       "    </div>\n",
       "\n",
       "    </div>\n",
       "  </div>\n"
      ],
      "text/plain": [
       "                                                 isi  \\\n",
       "0  PebasketSatria MudaAvan Seputramengaku terkeju...   \n",
       "1  Timnas Indonesiasudah gagal lolos kePiala Duni...   \n",
       "2  Sejak pertama kali diperkenalkan pada tahun 19...   \n",
       "3  Ada banyak dosen inspiratif di Indonesia. Seba...   \n",
       "4  Kylian Mbappemengaku merasa lebih tenang sejak...   \n",
       "\n",
       "                                 hasil_preprocessing kategori  \n",
       "0  ['pebasketsatria', 'mudaavan', 'seputramengaku...  Lainnya  \n",
       "1  ['timnas', 'indonesiasudah', 'gagal', 'lolos',...  Lainnya  \n",
       "2  ['kali', 'kenal', 'mercedesbenz', 'sprinter', ...  Lainnya  \n",
       "3  ['dosen', 'inspiratif', 'indonesia', 'jajar', ...      Edu  \n",
       "4  ['kylian', 'mbappemengaku', 'tenang', 'pindah'...  Lainnya  "
      ]
     },
     "execution_count": 46,
     "metadata": {},
     "output_type": "execute_result"
    }
   ],
   "source": [
    "import pandas as pd\n",
    "data = pd.read_csv('hasil_preprocessing_berita_supe.csv')\n",
    "\n",
    "# Tampilkan kolom utama dari file Anda\n",
    "data[['isi', 'hasil_preprocessing', 'kategori']].head()"
   ]
  },
  {
   "cell_type": "code",
   "execution_count": 47,
   "metadata": {
    "colab": {
     "base_uri": "https://localhost:8080/",
     "height": 206
    },
    "id": "6NkHI_2s9OzV",
    "outputId": "07af1da0-e5a2-49cf-e489-f44fdd0ada92"
   },
   "outputs": [
    {
     "data": {
      "application/vnd.google.colaboratory.intrinsic+json": {
       "summary": "{\n  \"name\": \"data_text\",\n  \"rows\": 500,\n  \"fields\": [\n    {\n      \"column\": \"hasil_preprocessing\",\n      \"properties\": {\n        \"dtype\": \"string\",\n        \"num_unique_values\": 500,\n        \"samples\": [\n          \"['tensi', 'lagaindonesia', 'vs', 'irakjay', 'idzesmenunjukkan', 'tenang', 'tanggung', 'kaptensaat', 'emosi', 'suporter', 'puncak', 'main', 'sassuolo', 'maju', 'tenang', 'tonton', 'timnas', 'indonesia', 'kalah', 'irak', 'laga', 'ronde', 'empat', 'kualifikasi', 'piala', 'dunia', 'zona', 'asia', 'gol', 'tunggal', 'singa', 'mesopotamia', 'lahir', 'zidane', 'iqbal', 'kalah', 'indonesia', 'tutup', 'ronde', 'juru', 'kunci', 'klasemen', 'grup', 'b', 'indonesia', 'kalah', 'arab', 'saudi']\",\n          \"['byd', 'raya', 'produksi', 'mobil', 'energi', 'juta', 'unit', 'tonggak', 'sejarah', 'byd', 'tumbuh', 'jual', 'signifikan', 'tahun', 'mobil', 'energi', 'juta', 'unit', 'byd', 'luncur', 'produksi', 'pabrik', 'mobil', 'tumpang', 'camacari', 'brasil', 'kutip', 'carnewschina', 'mobil', 'juta', 'unit', 'byd', 'suv', 'hybrid', 'byd', 'song', 'pro', 'mobil', 'serah', 'daftar', 'nama', 'presiden', 'brasil', 'luiz', 'in cio', 'lula', 'da', 'silva', 'scroll', 'to', 'continue', 'with', 'content', 'mobil', 'serah', 'presiden', 'brasil', 'model', 'hybrid', 'superfleksibel', 'byd', 'rancang', 'khusus', 'pasar', 'amerika', 'selatan', 'mobil', 'produksi', 'edisi', 'khusus', 'cop', 'kendara', 'lengkap', 'teknologi', 'hybrid', 'baru', 'byd', 'rancang', 'optimal', 'efisiensi', 'bahan', 'bakar', 'performa', 'kondisi', 'kendara', 'bahan', 'bakar', 'capai', 'produksi', 'juta', 'unit', 'tonggak', 'sejarah', 'byd', 'capai', 'bukti', 'tumbuh', 'cepat', 'produksi', 'jual', 'kendara', 'listrik', 'byd', 'capai', 'tonggak', 'sejarah', 'kendara', 'energi', 'juta', 'unit', 'november', 'genap', 'tahun', 'tepat', 'oktober', 'angka', 'lipat', 'ganda', 'juta', 'unit', 'chairman', 'byd', 'wang', 'chuanfu', 'byd', 'pimpin', 'pasar', 'kendara', 'energi', 'brasil', 'berturutturut', 'dukung', 'operasi', 'regional', 'cakup', 'manufaktur', 'bus', 'listrik', 'produksi', 'kendara', 'tumpang', 'proyek', 'rakit', 'baterai', 'wang', 'umum', 'byd', 'pasok', 'kendara', 'energi', 'dikustomisasi', 'cop', 'konferensi', 'ubah', 'iklim', 'serikat', 'bangsabangsa', 'ada', 'belem', 'brasil', 'acara', 'kendaraankendaraan', 'sumbang', 'sekolahsekolah', 'lembagalembaga', 'publik', 'guna', 'transportasi', 'seharihari']\",\n          \"['media', 'inggrissports', 'molememprediksi', 'lagairak', 'vs', 'indonesiagaruda', 'polesanpatrick', 'kluivertmungkin', 'cercah', 'harap', 'sulit', 'konsistensi', 'ronde', 'keempatkualifikasi', 'piala', 'dunia', 'zona', 'asialanjutkanmatchdaykedua', 'grup', 'b', 'saji', 'duelirak', 'vs', 'indonesiadi', 'king', 'abdullah', 'sports', 'city', 'jeddah', 'minggu', 'wib', 'timnas', 'indonesia', 'poin', 'kalah', 'arab', 'saudi', 'laga', 'indonesia', 'grup', 'b', 'kontra', 'irak', 'menang', 'harga', 'mati', 'pasukanpatrick', 'kluivert', 'scroll', 'to', 'continue', 'with', 'content', 'ronde', 'empat', 'grup', 'a', 'b', 'masingmasing', 'isi', 'tim', 'sistem', 'round', 'robin', 'tim', 'finis', 'atas', 'laga', 'langsung', 'lolos', 'piala', 'dunia', 'tim', 'finis', 'runner', 'up', 'adu', 'ronde', 'tim', 'finis', 'posisi', 'gugur', 'iraktentu', 'incar', 'menang', 'laga', 'perdana', 'ronde', 'empat', 'singa', 'mesopotamia', 'fit', 'kondisi', 'media', 'inggrissports', 'molemepreviewlagairak', 'vs', 'indonesiananti', 'prediksi', 'menang', 'singa', 'mesopotamia', 'nilai', 'sejarah', 'head', 'to', 'head', 'tim', 'irak', 'digdaya', 'delapan', 'kali', 'menang', 'kali', 'imbang', 'kalah', 'satusatunya', 'kalah', 'irak', 'indonesia', 'tim', 'kali', 'temu', 'kualifikasi', 'olimpiade', 'garuda', 'menang', 'irak', 'sapu', 'bersih', 'menang', 'kali', 'untun', 'indonesia', 'temu', 'indonesia', 'inkonsistensi', 'poles', 'pelatihpatrick', 'kluivert', 'pasu', 'kluivert', 'menang', 'tanding', 'kompetisi', 'cercah', 'potensi', 'sulit', 'konsisten', 'tulis', 'sports', 'molemenilaiirakdalam', 'kondisi', 'prima', 'dibandingtimnas', 'indonesiamaka', 'rasarasanya', 'sulit', 'jay', 'idzes', 'dkk', 'kejut', 'sejarah', 'pihak', 'indonesia', 'gagal', 'menang', 'delapan', 'temu', 'irak', 'kalah', 'enam', 'kali', 'seri', 'kali', 'satusatunya', 'menang', 'raih', 'olimpiade', 'tulis', 'menang', 'irak', 'kejut', 'hidup', 'impi', 'indonesia', 'indonesia', 'kalah', 'irak', 'irak', 'kalah', 'arab', 'saudi', 'saing', 'ketat', 'tiga', 'tim', 'tutup']\"\n        ],\n        \"semantic_type\": \"\",\n        \"description\": \"\"\n      }\n    }\n  ]\n}",
       "type": "dataframe",
       "variable_name": "data_text"
      },
      "text/html": [
       "\n",
       "  <div id=\"df-ecaaf6d1-799c-463d-9b26-70fa03ced35b\" class=\"colab-df-container\">\n",
       "    <div>\n",
       "<style scoped>\n",
       "    .dataframe tbody tr th:only-of-type {\n",
       "        vertical-align: middle;\n",
       "    }\n",
       "\n",
       "    .dataframe tbody tr th {\n",
       "        vertical-align: top;\n",
       "    }\n",
       "\n",
       "    .dataframe thead th {\n",
       "        text-align: right;\n",
       "    }\n",
       "</style>\n",
       "<table border=\"1\" class=\"dataframe\">\n",
       "  <thead>\n",
       "    <tr style=\"text-align: right;\">\n",
       "      <th></th>\n",
       "      <th>hasil_preprocessing</th>\n",
       "    </tr>\n",
       "  </thead>\n",
       "  <tbody>\n",
       "    <tr>\n",
       "      <th>0</th>\n",
       "      <td>['pebasketsatria', 'mudaavan', 'seputramengaku...</td>\n",
       "    </tr>\n",
       "    <tr>\n",
       "      <th>1</th>\n",
       "      <td>['timnas', 'indonesiasudah', 'gagal', 'lolos',...</td>\n",
       "    </tr>\n",
       "    <tr>\n",
       "      <th>2</th>\n",
       "      <td>['kali', 'kenal', 'mercedesbenz', 'sprinter', ...</td>\n",
       "    </tr>\n",
       "    <tr>\n",
       "      <th>3</th>\n",
       "      <td>['dosen', 'inspiratif', 'indonesia', 'jajar', ...</td>\n",
       "    </tr>\n",
       "    <tr>\n",
       "      <th>4</th>\n",
       "      <td>['kylian', 'mbappemengaku', 'tenang', 'pindah'...</td>\n",
       "    </tr>\n",
       "  </tbody>\n",
       "</table>\n",
       "</div>\n",
       "    <div class=\"colab-df-buttons\">\n",
       "\n",
       "  <div class=\"colab-df-container\">\n",
       "    <button class=\"colab-df-convert\" onclick=\"convertToInteractive('df-ecaaf6d1-799c-463d-9b26-70fa03ced35b')\"\n",
       "            title=\"Convert this dataframe to an interactive table.\"\n",
       "            style=\"display:none;\">\n",
       "\n",
       "  <svg xmlns=\"http://www.w3.org/2000/svg\" height=\"24px\" viewBox=\"0 -960 960 960\">\n",
       "    <path d=\"M120-120v-720h720v720H120Zm60-500h600v-160H180v160Zm220 220h160v-160H400v160Zm0 220h160v-160H400v160ZM180-400h160v-160H180v160Zm440 0h160v-160H620v160ZM180-180h160v-160H180v160Zm440 0h160v-160H620v160Z\"/>\n",
       "  </svg>\n",
       "    </button>\n",
       "\n",
       "  <style>\n",
       "    .colab-df-container {\n",
       "      display:flex;\n",
       "      gap: 12px;\n",
       "    }\n",
       "\n",
       "    .colab-df-convert {\n",
       "      background-color: #E8F0FE;\n",
       "      border: none;\n",
       "      border-radius: 50%;\n",
       "      cursor: pointer;\n",
       "      display: none;\n",
       "      fill: #1967D2;\n",
       "      height: 32px;\n",
       "      padding: 0 0 0 0;\n",
       "      width: 32px;\n",
       "    }\n",
       "\n",
       "    .colab-df-convert:hover {\n",
       "      background-color: #E2EBFA;\n",
       "      box-shadow: 0px 1px 2px rgba(60, 64, 67, 0.3), 0px 1px 3px 1px rgba(60, 64, 67, 0.15);\n",
       "      fill: #174EA6;\n",
       "    }\n",
       "\n",
       "    .colab-df-buttons div {\n",
       "      margin-bottom: 4px;\n",
       "    }\n",
       "\n",
       "    [theme=dark] .colab-df-convert {\n",
       "      background-color: #3B4455;\n",
       "      fill: #D2E3FC;\n",
       "    }\n",
       "\n",
       "    [theme=dark] .colab-df-convert:hover {\n",
       "      background-color: #434B5C;\n",
       "      box-shadow: 0px 1px 3px 1px rgba(0, 0, 0, 0.15);\n",
       "      filter: drop-shadow(0px 1px 2px rgba(0, 0, 0, 0.3));\n",
       "      fill: #FFFFFF;\n",
       "    }\n",
       "  </style>\n",
       "\n",
       "    <script>\n",
       "      const buttonEl =\n",
       "        document.querySelector('#df-ecaaf6d1-799c-463d-9b26-70fa03ced35b button.colab-df-convert');\n",
       "      buttonEl.style.display =\n",
       "        google.colab.kernel.accessAllowed ? 'block' : 'none';\n",
       "\n",
       "      async function convertToInteractive(key) {\n",
       "        const element = document.querySelector('#df-ecaaf6d1-799c-463d-9b26-70fa03ced35b');\n",
       "        const dataTable =\n",
       "          await google.colab.kernel.invokeFunction('convertToInteractive',\n",
       "                                                    [key], {});\n",
       "        if (!dataTable) return;\n",
       "\n",
       "        const docLinkHtml = 'Like what you see? Visit the ' +\n",
       "          '<a target=\"_blank\" href=https://colab.research.google.com/notebooks/data_table.ipynb>data table notebook</a>'\n",
       "          + ' to learn more about interactive tables.';\n",
       "        element.innerHTML = '';\n",
       "        dataTable['output_type'] = 'display_data';\n",
       "        await google.colab.output.renderOutput(dataTable, element);\n",
       "        const docLink = document.createElement('div');\n",
       "        docLink.innerHTML = docLinkHtml;\n",
       "        element.appendChild(docLink);\n",
       "      }\n",
       "    </script>\n",
       "  </div>\n",
       "\n",
       "\n",
       "    <div id=\"df-0e6409fb-4406-4ea2-9448-f4d9a4976d86\">\n",
       "      <button class=\"colab-df-quickchart\" onclick=\"quickchart('df-0e6409fb-4406-4ea2-9448-f4d9a4976d86')\"\n",
       "                title=\"Suggest charts\"\n",
       "                style=\"display:none;\">\n",
       "\n",
       "<svg xmlns=\"http://www.w3.org/2000/svg\" height=\"24px\"viewBox=\"0 0 24 24\"\n",
       "     width=\"24px\">\n",
       "    <g>\n",
       "        <path d=\"M19 3H5c-1.1 0-2 .9-2 2v14c0 1.1.9 2 2 2h14c1.1 0 2-.9 2-2V5c0-1.1-.9-2-2-2zM9 17H7v-7h2v7zm4 0h-2V7h2v10zm4 0h-2v-4h2v4z\"/>\n",
       "    </g>\n",
       "</svg>\n",
       "      </button>\n",
       "\n",
       "<style>\n",
       "  .colab-df-quickchart {\n",
       "      --bg-color: #E8F0FE;\n",
       "      --fill-color: #1967D2;\n",
       "      --hover-bg-color: #E2EBFA;\n",
       "      --hover-fill-color: #174EA6;\n",
       "      --disabled-fill-color: #AAA;\n",
       "      --disabled-bg-color: #DDD;\n",
       "  }\n",
       "\n",
       "  [theme=dark] .colab-df-quickchart {\n",
       "      --bg-color: #3B4455;\n",
       "      --fill-color: #D2E3FC;\n",
       "      --hover-bg-color: #434B5C;\n",
       "      --hover-fill-color: #FFFFFF;\n",
       "      --disabled-bg-color: #3B4455;\n",
       "      --disabled-fill-color: #666;\n",
       "  }\n",
       "\n",
       "  .colab-df-quickchart {\n",
       "    background-color: var(--bg-color);\n",
       "    border: none;\n",
       "    border-radius: 50%;\n",
       "    cursor: pointer;\n",
       "    display: none;\n",
       "    fill: var(--fill-color);\n",
       "    height: 32px;\n",
       "    padding: 0;\n",
       "    width: 32px;\n",
       "  }\n",
       "\n",
       "  .colab-df-quickchart:hover {\n",
       "    background-color: var(--hover-bg-color);\n",
       "    box-shadow: 0 1px 2px rgba(60, 64, 67, 0.3), 0 1px 3px 1px rgba(60, 64, 67, 0.15);\n",
       "    fill: var(--button-hover-fill-color);\n",
       "  }\n",
       "\n",
       "  .colab-df-quickchart-complete:disabled,\n",
       "  .colab-df-quickchart-complete:disabled:hover {\n",
       "    background-color: var(--disabled-bg-color);\n",
       "    fill: var(--disabled-fill-color);\n",
       "    box-shadow: none;\n",
       "  }\n",
       "\n",
       "  .colab-df-spinner {\n",
       "    border: 2px solid var(--fill-color);\n",
       "    border-color: transparent;\n",
       "    border-bottom-color: var(--fill-color);\n",
       "    animation:\n",
       "      spin 1s steps(1) infinite;\n",
       "  }\n",
       "\n",
       "  @keyframes spin {\n",
       "    0% {\n",
       "      border-color: transparent;\n",
       "      border-bottom-color: var(--fill-color);\n",
       "      border-left-color: var(--fill-color);\n",
       "    }\n",
       "    20% {\n",
       "      border-color: transparent;\n",
       "      border-left-color: var(--fill-color);\n",
       "      border-top-color: var(--fill-color);\n",
       "    }\n",
       "    30% {\n",
       "      border-color: transparent;\n",
       "      border-left-color: var(--fill-color);\n",
       "      border-top-color: var(--fill-color);\n",
       "      border-right-color: var(--fill-color);\n",
       "    }\n",
       "    40% {\n",
       "      border-color: transparent;\n",
       "      border-right-color: var(--fill-color);\n",
       "      border-top-color: var(--fill-color);\n",
       "    }\n",
       "    60% {\n",
       "      border-color: transparent;\n",
       "      border-right-color: var(--fill-color);\n",
       "    }\n",
       "    80% {\n",
       "      border-color: transparent;\n",
       "      border-right-color: var(--fill-color);\n",
       "      border-bottom-color: var(--fill-color);\n",
       "    }\n",
       "    90% {\n",
       "      border-color: transparent;\n",
       "      border-bottom-color: var(--fill-color);\n",
       "    }\n",
       "  }\n",
       "</style>\n",
       "\n",
       "      <script>\n",
       "        async function quickchart(key) {\n",
       "          const quickchartButtonEl =\n",
       "            document.querySelector('#' + key + ' button');\n",
       "          quickchartButtonEl.disabled = true;  // To prevent multiple clicks.\n",
       "          quickchartButtonEl.classList.add('colab-df-spinner');\n",
       "          try {\n",
       "            const charts = await google.colab.kernel.invokeFunction(\n",
       "                'suggestCharts', [key], {});\n",
       "          } catch (error) {\n",
       "            console.error('Error during call to suggestCharts:', error);\n",
       "          }\n",
       "          quickchartButtonEl.classList.remove('colab-df-spinner');\n",
       "          quickchartButtonEl.classList.add('colab-df-quickchart-complete');\n",
       "        }\n",
       "        (() => {\n",
       "          let quickchartButtonEl =\n",
       "            document.querySelector('#df-0e6409fb-4406-4ea2-9448-f4d9a4976d86 button');\n",
       "          quickchartButtonEl.style.display =\n",
       "            google.colab.kernel.accessAllowed ? 'block' : 'none';\n",
       "        })();\n",
       "      </script>\n",
       "    </div>\n",
       "\n",
       "    </div>\n",
       "  </div>\n"
      ],
      "text/plain": [
       "                                 hasil_preprocessing\n",
       "0  ['pebasketsatria', 'mudaavan', 'seputramengaku...\n",
       "1  ['timnas', 'indonesiasudah', 'gagal', 'lolos',...\n",
       "2  ['kali', 'kenal', 'mercedesbenz', 'sprinter', ...\n",
       "3  ['dosen', 'inspiratif', 'indonesia', 'jajar', ...\n",
       "4  ['kylian', 'mbappemengaku', 'tenang', 'pindah'..."
      ]
     },
     "execution_count": 47,
     "metadata": {},
     "output_type": "execute_result"
    }
   ],
   "source": [
    "# Gunakan kolom teks bersih Anda\n",
    "# 'hasil_preprocessing' pada file Anda berisi token hasil preprocessing\n",
    "# Kita simpan sebagai kolom tunggal untuk analisis\n",
    "\n",
    "data_text = data[['hasil_preprocessing']]\n",
    "\n",
    "data_text.head()"
   ]
  },
  {
   "cell_type": "code",
   "execution_count": 48,
   "metadata": {
    "colab": {
     "base_uri": "https://localhost:8080/",
     "height": 311
    },
    "id": "6VO_J0ee9nsg",
    "outputId": "7b43c22a-f041-46d6-b039-1538621a9ad5"
   },
   "outputs": [
    {
     "name": "stderr",
     "output_type": "stream",
     "text": [
      "/tmp/ipython-input-118329293.py:1: SettingWithCopyWarning: \n",
      "A value is trying to be set on a copy of a slice from a DataFrame.\n",
      "Try using .loc[row_indexer,col_indexer] = value instead\n",
      "\n",
      "See the caveats in the documentation: https://pandas.pydata.org/pandas-docs/stable/user_guide/indexing.html#returning-a-view-versus-a-copy\n",
      "  data_text['index'] = data_text.index\n"
     ]
    },
    {
     "data": {
      "application/vnd.google.colaboratory.intrinsic+json": {
       "summary": "{\n  \"name\": \"documents\",\n  \"rows\": 500,\n  \"fields\": [\n    {\n      \"column\": \"hasil_preprocessing\",\n      \"properties\": {\n        \"dtype\": \"string\",\n        \"num_unique_values\": 500,\n        \"samples\": [\n          \"['tensi', 'lagaindonesia', 'vs', 'irakjay', 'idzesmenunjukkan', 'tenang', 'tanggung', 'kaptensaat', 'emosi', 'suporter', 'puncak', 'main', 'sassuolo', 'maju', 'tenang', 'tonton', 'timnas', 'indonesia', 'kalah', 'irak', 'laga', 'ronde', 'empat', 'kualifikasi', 'piala', 'dunia', 'zona', 'asia', 'gol', 'tunggal', 'singa', 'mesopotamia', 'lahir', 'zidane', 'iqbal', 'kalah', 'indonesia', 'tutup', 'ronde', 'juru', 'kunci', 'klasemen', 'grup', 'b', 'indonesia', 'kalah', 'arab', 'saudi']\",\n          \"['byd', 'raya', 'produksi', 'mobil', 'energi', 'juta', 'unit', 'tonggak', 'sejarah', 'byd', 'tumbuh', 'jual', 'signifikan', 'tahun', 'mobil', 'energi', 'juta', 'unit', 'byd', 'luncur', 'produksi', 'pabrik', 'mobil', 'tumpang', 'camacari', 'brasil', 'kutip', 'carnewschina', 'mobil', 'juta', 'unit', 'byd', 'suv', 'hybrid', 'byd', 'song', 'pro', 'mobil', 'serah', 'daftar', 'nama', 'presiden', 'brasil', 'luiz', 'in cio', 'lula', 'da', 'silva', 'scroll', 'to', 'continue', 'with', 'content', 'mobil', 'serah', 'presiden', 'brasil', 'model', 'hybrid', 'superfleksibel', 'byd', 'rancang', 'khusus', 'pasar', 'amerika', 'selatan', 'mobil', 'produksi', 'edisi', 'khusus', 'cop', 'kendara', 'lengkap', 'teknologi', 'hybrid', 'baru', 'byd', 'rancang', 'optimal', 'efisiensi', 'bahan', 'bakar', 'performa', 'kondisi', 'kendara', 'bahan', 'bakar', 'capai', 'produksi', 'juta', 'unit', 'tonggak', 'sejarah', 'byd', 'capai', 'bukti', 'tumbuh', 'cepat', 'produksi', 'jual', 'kendara', 'listrik', 'byd', 'capai', 'tonggak', 'sejarah', 'kendara', 'energi', 'juta', 'unit', 'november', 'genap', 'tahun', 'tepat', 'oktober', 'angka', 'lipat', 'ganda', 'juta', 'unit', 'chairman', 'byd', 'wang', 'chuanfu', 'byd', 'pimpin', 'pasar', 'kendara', 'energi', 'brasil', 'berturutturut', 'dukung', 'operasi', 'regional', 'cakup', 'manufaktur', 'bus', 'listrik', 'produksi', 'kendara', 'tumpang', 'proyek', 'rakit', 'baterai', 'wang', 'umum', 'byd', 'pasok', 'kendara', 'energi', 'dikustomisasi', 'cop', 'konferensi', 'ubah', 'iklim', 'serikat', 'bangsabangsa', 'ada', 'belem', 'brasil', 'acara', 'kendaraankendaraan', 'sumbang', 'sekolahsekolah', 'lembagalembaga', 'publik', 'guna', 'transportasi', 'seharihari']\",\n          \"['media', 'inggrissports', 'molememprediksi', 'lagairak', 'vs', 'indonesiagaruda', 'polesanpatrick', 'kluivertmungkin', 'cercah', 'harap', 'sulit', 'konsistensi', 'ronde', 'keempatkualifikasi', 'piala', 'dunia', 'zona', 'asialanjutkanmatchdaykedua', 'grup', 'b', 'saji', 'duelirak', 'vs', 'indonesiadi', 'king', 'abdullah', 'sports', 'city', 'jeddah', 'minggu', 'wib', 'timnas', 'indonesia', 'poin', 'kalah', 'arab', 'saudi', 'laga', 'indonesia', 'grup', 'b', 'kontra', 'irak', 'menang', 'harga', 'mati', 'pasukanpatrick', 'kluivert', 'scroll', 'to', 'continue', 'with', 'content', 'ronde', 'empat', 'grup', 'a', 'b', 'masingmasing', 'isi', 'tim', 'sistem', 'round', 'robin', 'tim', 'finis', 'atas', 'laga', 'langsung', 'lolos', 'piala', 'dunia', 'tim', 'finis', 'runner', 'up', 'adu', 'ronde', 'tim', 'finis', 'posisi', 'gugur', 'iraktentu', 'incar', 'menang', 'laga', 'perdana', 'ronde', 'empat', 'singa', 'mesopotamia', 'fit', 'kondisi', 'media', 'inggrissports', 'molemepreviewlagairak', 'vs', 'indonesiananti', 'prediksi', 'menang', 'singa', 'mesopotamia', 'nilai', 'sejarah', 'head', 'to', 'head', 'tim', 'irak', 'digdaya', 'delapan', 'kali', 'menang', 'kali', 'imbang', 'kalah', 'satusatunya', 'kalah', 'irak', 'indonesia', 'tim', 'kali', 'temu', 'kualifikasi', 'olimpiade', 'garuda', 'menang', 'irak', 'sapu', 'bersih', 'menang', 'kali', 'untun', 'indonesia', 'temu', 'indonesia', 'inkonsistensi', 'poles', 'pelatihpatrick', 'kluivert', 'pasu', 'kluivert', 'menang', 'tanding', 'kompetisi', 'cercah', 'potensi', 'sulit', 'konsisten', 'tulis', 'sports', 'molemenilaiirakdalam', 'kondisi', 'prima', 'dibandingtimnas', 'indonesiamaka', 'rasarasanya', 'sulit', 'jay', 'idzes', 'dkk', 'kejut', 'sejarah', 'pihak', 'indonesia', 'gagal', 'menang', 'delapan', 'temu', 'irak', 'kalah', 'enam', 'kali', 'seri', 'kali', 'satusatunya', 'menang', 'raih', 'olimpiade', 'tulis', 'menang', 'irak', 'kejut', 'hidup', 'impi', 'indonesia', 'indonesia', 'kalah', 'irak', 'irak', 'kalah', 'arab', 'saudi', 'saing', 'ketat', 'tiga', 'tim', 'tutup']\"\n        ],\n        \"semantic_type\": \"\",\n        \"description\": \"\"\n      }\n    },\n    {\n      \"column\": \"index\",\n      \"properties\": {\n        \"dtype\": \"number\",\n        \"std\": 144,\n        \"min\": 0,\n        \"max\": 499,\n        \"num_unique_values\": 500,\n        \"samples\": [\n          361,\n          73,\n          374\n        ],\n        \"semantic_type\": \"\",\n        \"description\": \"\"\n      }\n    }\n  ]\n}",
       "type": "dataframe",
       "variable_name": "documents"
      },
      "text/html": [
       "\n",
       "  <div id=\"df-a210b43a-4b68-4f32-aa97-89e7095ef7de\" class=\"colab-df-container\">\n",
       "    <div>\n",
       "<style scoped>\n",
       "    .dataframe tbody tr th:only-of-type {\n",
       "        vertical-align: middle;\n",
       "    }\n",
       "\n",
       "    .dataframe tbody tr th {\n",
       "        vertical-align: top;\n",
       "    }\n",
       "\n",
       "    .dataframe thead th {\n",
       "        text-align: right;\n",
       "    }\n",
       "</style>\n",
       "<table border=\"1\" class=\"dataframe\">\n",
       "  <thead>\n",
       "    <tr style=\"text-align: right;\">\n",
       "      <th></th>\n",
       "      <th>hasil_preprocessing</th>\n",
       "      <th>index</th>\n",
       "    </tr>\n",
       "  </thead>\n",
       "  <tbody>\n",
       "    <tr>\n",
       "      <th>0</th>\n",
       "      <td>['pebasketsatria', 'mudaavan', 'seputramengaku...</td>\n",
       "      <td>0</td>\n",
       "    </tr>\n",
       "    <tr>\n",
       "      <th>1</th>\n",
       "      <td>['timnas', 'indonesiasudah', 'gagal', 'lolos',...</td>\n",
       "      <td>1</td>\n",
       "    </tr>\n",
       "    <tr>\n",
       "      <th>2</th>\n",
       "      <td>['kali', 'kenal', 'mercedesbenz', 'sprinter', ...</td>\n",
       "      <td>2</td>\n",
       "    </tr>\n",
       "    <tr>\n",
       "      <th>3</th>\n",
       "      <td>['dosen', 'inspiratif', 'indonesia', 'jajar', ...</td>\n",
       "      <td>3</td>\n",
       "    </tr>\n",
       "    <tr>\n",
       "      <th>4</th>\n",
       "      <td>['kylian', 'mbappemengaku', 'tenang', 'pindah'...</td>\n",
       "      <td>4</td>\n",
       "    </tr>\n",
       "  </tbody>\n",
       "</table>\n",
       "</div>\n",
       "    <div class=\"colab-df-buttons\">\n",
       "\n",
       "  <div class=\"colab-df-container\">\n",
       "    <button class=\"colab-df-convert\" onclick=\"convertToInteractive('df-a210b43a-4b68-4f32-aa97-89e7095ef7de')\"\n",
       "            title=\"Convert this dataframe to an interactive table.\"\n",
       "            style=\"display:none;\">\n",
       "\n",
       "  <svg xmlns=\"http://www.w3.org/2000/svg\" height=\"24px\" viewBox=\"0 -960 960 960\">\n",
       "    <path d=\"M120-120v-720h720v720H120Zm60-500h600v-160H180v160Zm220 220h160v-160H400v160Zm0 220h160v-160H400v160ZM180-400h160v-160H180v160Zm440 0h160v-160H620v160ZM180-180h160v-160H180v160Zm440 0h160v-160H620v160Z\"/>\n",
       "  </svg>\n",
       "    </button>\n",
       "\n",
       "  <style>\n",
       "    .colab-df-container {\n",
       "      display:flex;\n",
       "      gap: 12px;\n",
       "    }\n",
       "\n",
       "    .colab-df-convert {\n",
       "      background-color: #E8F0FE;\n",
       "      border: none;\n",
       "      border-radius: 50%;\n",
       "      cursor: pointer;\n",
       "      display: none;\n",
       "      fill: #1967D2;\n",
       "      height: 32px;\n",
       "      padding: 0 0 0 0;\n",
       "      width: 32px;\n",
       "    }\n",
       "\n",
       "    .colab-df-convert:hover {\n",
       "      background-color: #E2EBFA;\n",
       "      box-shadow: 0px 1px 2px rgba(60, 64, 67, 0.3), 0px 1px 3px 1px rgba(60, 64, 67, 0.15);\n",
       "      fill: #174EA6;\n",
       "    }\n",
       "\n",
       "    .colab-df-buttons div {\n",
       "      margin-bottom: 4px;\n",
       "    }\n",
       "\n",
       "    [theme=dark] .colab-df-convert {\n",
       "      background-color: #3B4455;\n",
       "      fill: #D2E3FC;\n",
       "    }\n",
       "\n",
       "    [theme=dark] .colab-df-convert:hover {\n",
       "      background-color: #434B5C;\n",
       "      box-shadow: 0px 1px 3px 1px rgba(0, 0, 0, 0.15);\n",
       "      filter: drop-shadow(0px 1px 2px rgba(0, 0, 0, 0.3));\n",
       "      fill: #FFFFFF;\n",
       "    }\n",
       "  </style>\n",
       "\n",
       "    <script>\n",
       "      const buttonEl =\n",
       "        document.querySelector('#df-a210b43a-4b68-4f32-aa97-89e7095ef7de button.colab-df-convert');\n",
       "      buttonEl.style.display =\n",
       "        google.colab.kernel.accessAllowed ? 'block' : 'none';\n",
       "\n",
       "      async function convertToInteractive(key) {\n",
       "        const element = document.querySelector('#df-a210b43a-4b68-4f32-aa97-89e7095ef7de');\n",
       "        const dataTable =\n",
       "          await google.colab.kernel.invokeFunction('convertToInteractive',\n",
       "                                                    [key], {});\n",
       "        if (!dataTable) return;\n",
       "\n",
       "        const docLinkHtml = 'Like what you see? Visit the ' +\n",
       "          '<a target=\"_blank\" href=https://colab.research.google.com/notebooks/data_table.ipynb>data table notebook</a>'\n",
       "          + ' to learn more about interactive tables.';\n",
       "        element.innerHTML = '';\n",
       "        dataTable['output_type'] = 'display_data';\n",
       "        await google.colab.output.renderOutput(dataTable, element);\n",
       "        const docLink = document.createElement('div');\n",
       "        docLink.innerHTML = docLinkHtml;\n",
       "        element.appendChild(docLink);\n",
       "      }\n",
       "    </script>\n",
       "  </div>\n",
       "\n",
       "\n",
       "    <div id=\"df-46cac280-1506-4d92-bd36-31d269e39465\">\n",
       "      <button class=\"colab-df-quickchart\" onclick=\"quickchart('df-46cac280-1506-4d92-bd36-31d269e39465')\"\n",
       "                title=\"Suggest charts\"\n",
       "                style=\"display:none;\">\n",
       "\n",
       "<svg xmlns=\"http://www.w3.org/2000/svg\" height=\"24px\"viewBox=\"0 0 24 24\"\n",
       "     width=\"24px\">\n",
       "    <g>\n",
       "        <path d=\"M19 3H5c-1.1 0-2 .9-2 2v14c0 1.1.9 2 2 2h14c1.1 0 2-.9 2-2V5c0-1.1-.9-2-2-2zM9 17H7v-7h2v7zm4 0h-2V7h2v10zm4 0h-2v-4h2v4z\"/>\n",
       "    </g>\n",
       "</svg>\n",
       "      </button>\n",
       "\n",
       "<style>\n",
       "  .colab-df-quickchart {\n",
       "      --bg-color: #E8F0FE;\n",
       "      --fill-color: #1967D2;\n",
       "      --hover-bg-color: #E2EBFA;\n",
       "      --hover-fill-color: #174EA6;\n",
       "      --disabled-fill-color: #AAA;\n",
       "      --disabled-bg-color: #DDD;\n",
       "  }\n",
       "\n",
       "  [theme=dark] .colab-df-quickchart {\n",
       "      --bg-color: #3B4455;\n",
       "      --fill-color: #D2E3FC;\n",
       "      --hover-bg-color: #434B5C;\n",
       "      --hover-fill-color: #FFFFFF;\n",
       "      --disabled-bg-color: #3B4455;\n",
       "      --disabled-fill-color: #666;\n",
       "  }\n",
       "\n",
       "  .colab-df-quickchart {\n",
       "    background-color: var(--bg-color);\n",
       "    border: none;\n",
       "    border-radius: 50%;\n",
       "    cursor: pointer;\n",
       "    display: none;\n",
       "    fill: var(--fill-color);\n",
       "    height: 32px;\n",
       "    padding: 0;\n",
       "    width: 32px;\n",
       "  }\n",
       "\n",
       "  .colab-df-quickchart:hover {\n",
       "    background-color: var(--hover-bg-color);\n",
       "    box-shadow: 0 1px 2px rgba(60, 64, 67, 0.3), 0 1px 3px 1px rgba(60, 64, 67, 0.15);\n",
       "    fill: var(--button-hover-fill-color);\n",
       "  }\n",
       "\n",
       "  .colab-df-quickchart-complete:disabled,\n",
       "  .colab-df-quickchart-complete:disabled:hover {\n",
       "    background-color: var(--disabled-bg-color);\n",
       "    fill: var(--disabled-fill-color);\n",
       "    box-shadow: none;\n",
       "  }\n",
       "\n",
       "  .colab-df-spinner {\n",
       "    border: 2px solid var(--fill-color);\n",
       "    border-color: transparent;\n",
       "    border-bottom-color: var(--fill-color);\n",
       "    animation:\n",
       "      spin 1s steps(1) infinite;\n",
       "  }\n",
       "\n",
       "  @keyframes spin {\n",
       "    0% {\n",
       "      border-color: transparent;\n",
       "      border-bottom-color: var(--fill-color);\n",
       "      border-left-color: var(--fill-color);\n",
       "    }\n",
       "    20% {\n",
       "      border-color: transparent;\n",
       "      border-left-color: var(--fill-color);\n",
       "      border-top-color: var(--fill-color);\n",
       "    }\n",
       "    30% {\n",
       "      border-color: transparent;\n",
       "      border-left-color: var(--fill-color);\n",
       "      border-top-color: var(--fill-color);\n",
       "      border-right-color: var(--fill-color);\n",
       "    }\n",
       "    40% {\n",
       "      border-color: transparent;\n",
       "      border-right-color: var(--fill-color);\n",
       "      border-top-color: var(--fill-color);\n",
       "    }\n",
       "    60% {\n",
       "      border-color: transparent;\n",
       "      border-right-color: var(--fill-color);\n",
       "    }\n",
       "    80% {\n",
       "      border-color: transparent;\n",
       "      border-right-color: var(--fill-color);\n",
       "      border-bottom-color: var(--fill-color);\n",
       "    }\n",
       "    90% {\n",
       "      border-color: transparent;\n",
       "      border-bottom-color: var(--fill-color);\n",
       "    }\n",
       "  }\n",
       "</style>\n",
       "\n",
       "      <script>\n",
       "        async function quickchart(key) {\n",
       "          const quickchartButtonEl =\n",
       "            document.querySelector('#' + key + ' button');\n",
       "          quickchartButtonEl.disabled = true;  // To prevent multiple clicks.\n",
       "          quickchartButtonEl.classList.add('colab-df-spinner');\n",
       "          try {\n",
       "            const charts = await google.colab.kernel.invokeFunction(\n",
       "                'suggestCharts', [key], {});\n",
       "          } catch (error) {\n",
       "            console.error('Error during call to suggestCharts:', error);\n",
       "          }\n",
       "          quickchartButtonEl.classList.remove('colab-df-spinner');\n",
       "          quickchartButtonEl.classList.add('colab-df-quickchart-complete');\n",
       "        }\n",
       "        (() => {\n",
       "          let quickchartButtonEl =\n",
       "            document.querySelector('#df-46cac280-1506-4d92-bd36-31d269e39465 button');\n",
       "          quickchartButtonEl.style.display =\n",
       "            google.colab.kernel.accessAllowed ? 'block' : 'none';\n",
       "        })();\n",
       "      </script>\n",
       "    </div>\n",
       "\n",
       "    </div>\n",
       "  </div>\n"
      ],
      "text/plain": [
       "                                 hasil_preprocessing  index\n",
       "0  ['pebasketsatria', 'mudaavan', 'seputramengaku...      0\n",
       "1  ['timnas', 'indonesiasudah', 'gagal', 'lolos',...      1\n",
       "2  ['kali', 'kenal', 'mercedesbenz', 'sprinter', ...      2\n",
       "3  ['dosen', 'inspiratif', 'indonesia', 'jajar', ...      3\n",
       "4  ['kylian', 'mbappemengaku', 'tenang', 'pindah'...      4"
      ]
     },
     "execution_count": 48,
     "metadata": {},
     "output_type": "execute_result"
    }
   ],
   "source": [
    "data_text['index'] = data_text.index\n",
    "\n",
    "documents = data_text\n",
    "documents.head()"
   ]
  },
  {
   "cell_type": "code",
   "execution_count": 49,
   "metadata": {
    "colab": {
     "base_uri": "https://localhost:8080/"
    },
    "id": "ElRQd9ri9rzK",
    "outputId": "7b9acb70-acd4-4b76-9c16-89067804ce8d"
   },
   "outputs": [
    {
     "data": {
      "text/plain": [
       "500"
      ]
     },
     "execution_count": 49,
     "metadata": {},
     "output_type": "execute_result"
    }
   ],
   "source": [
    "len(documents)"
   ]
  },
  {
   "cell_type": "code",
   "execution_count": 50,
   "metadata": {
    "colab": {
     "base_uri": "https://localhost:8080/"
    },
    "id": "-u5dAXfoA9q3",
    "outputId": "7b995a56-fb4d-4674-b431-7c7394f9b546"
   },
   "outputs": [
    {
     "name": "stdout",
     "output_type": "stream",
     "text": [
      "Requirement already satisfied: gensim in /usr/local/lib/python3.12/dist-packages (4.3.3)\n",
      "Requirement already satisfied: numpy<2.0,>=1.18.5 in /usr/local/lib/python3.12/dist-packages (from gensim) (1.26.4)\n",
      "Requirement already satisfied: scipy<1.14.0,>=1.7.0 in /usr/local/lib/python3.12/dist-packages (from gensim) (1.13.1)\n",
      "Requirement already satisfied: smart-open>=1.8.1 in /usr/local/lib/python3.12/dist-packages (from gensim) (7.3.1)\n",
      "Requirement already satisfied: wrapt in /usr/local/lib/python3.12/dist-packages (from smart-open>=1.8.1->gensim) (1.17.3)\n"
     ]
    }
   ],
   "source": [
    "!pip install gensim\n"
   ]
  },
  {
   "cell_type": "code",
   "execution_count": 51,
   "metadata": {
    "id": "kE4DmLnL9u3u"
   },
   "outputs": [],
   "source": [
    "import gensim\n",
    "from gensim.utils import simple_preprocess\n",
    "from nltk.corpus import stopwords\n",
    "from nltk.stem.porter import *\n",
    "import numpy as np"
   ]
  },
  {
   "cell_type": "code",
   "execution_count": null,
   "metadata": {
    "colab": {
     "base_uri": "https://localhost:8080/"
    },
    "id": "f5fae9bf",
    "outputId": "649328a8-dfb4-4805-f6c8-99a1065c87c8"
   },
   "outputs": [
    {
     "name": "stdout",
     "output_type": "stream",
     "text": [
      "Requirement already satisfied: gensim in /usr/local/lib/python3.12/dist-packages (4.3.3)\n",
      "Requirement already satisfied: numpy<2.0,>=1.18.5 in /usr/local/lib/python3.12/dist-packages (from gensim) (1.26.4)\n",
      "Requirement already satisfied: scipy<1.14.0,>=1.7.0 in /usr/local/lib/python3.12/dist-packages (from gensim) (1.13.1)\n",
      "Requirement already satisfied: smart-open>=1.8.1 in /usr/local/lib/python3.12/dist-packages (from gensim) (7.3.1)\n",
      "Requirement already satisfied: wrapt in /usr/local/lib/python3.12/dist-packages (from smart-open>=1.8.1->gensim) (1.17.3)\n"
     ]
    }
   ],
   "source": [
    "!pip install gensim"
   ]
  },
  {
   "cell_type": "code",
   "execution_count": 52,
   "metadata": {
    "colab": {
     "base_uri": "https://localhost:8080/"
    },
    "id": "cfgXU-4_90to",
    "outputId": "8a91a0f5-c482-475f-ac27-4cd47372638a"
   },
   "outputs": [
    {
     "name": "stderr",
     "output_type": "stream",
     "text": [
      "[nltk_data] Downloading package wordnet to /root/nltk_data...\n",
      "[nltk_data]   Package wordnet is already up-to-date!\n"
     ]
    },
    {
     "data": {
      "text/plain": [
       "True"
      ]
     },
     "execution_count": 52,
     "metadata": {},
     "output_type": "execute_result"
    }
   ],
   "source": [
    "import nltk\n",
    "nltk.download('wordnet')"
   ]
  },
  {
   "cell_type": "code",
   "execution_count": 53,
   "metadata": {
    "colab": {
     "base_uri": "https://localhost:8080/"
    },
    "id": "Z_Dwd2hSBYOJ",
    "outputId": "3c86bfa2-cfd6-4a48-c647-fe2aba58747f"
   },
   "outputs": [
    {
     "name": "stdout",
     "output_type": "stream",
     "text": [
      "Requirement already satisfied: Sastrawi in /usr/local/lib/python3.12/dist-packages (1.0.1)\n"
     ]
    }
   ],
   "source": [
    "!pip install Sastrawi\n"
   ]
  },
  {
   "cell_type": "code",
   "execution_count": 54,
   "metadata": {
    "colab": {
     "base_uri": "https://localhost:8080/"
    },
    "id": "cp_l_15s93OM",
    "outputId": "c788ee38-7fb8-4b2d-c713-e2b7a6199c28"
   },
   "outputs": [
    {
     "name": "stderr",
     "output_type": "stream",
     "text": [
      "[nltk_data] Downloading package stopwords to /root/nltk_data...\n",
      "[nltk_data]   Package stopwords is already up-to-date!\n"
     ]
    }
   ],
   "source": [
    "from Sastrawi.Stemmer.StemmerFactory import StemmerFactory\n",
    "from nltk.corpus import stopwords\n",
    "import nltk\n",
    "\n",
    "nltk.download('stopwords')\n",
    "\n",
    "factory = StemmerFactory()\n",
    "stemmer = factory.create_stemmer()\n",
    "\n",
    "stop_words = stopwords.words('indonesian')\n",
    "\n",
    "def stemming_indonesia(text):\n",
    "    return stemmer.stem(text)\n",
    "\n",
    "def preprocess(text):\n",
    "    result = []\n",
    "    for token in gensim.utils.simple_preprocess(str(text)):  # tokenisasi\n",
    "        if token not in stop_words and len(token) > 3:\n",
    "            result.append(stemming_indonesia(token))\n",
    "    return result"
   ]
  },
  {
   "cell_type": "code",
   "execution_count": 58,
   "metadata": {
    "colab": {
     "base_uri": "https://localhost:8080/"
    },
    "id": "8oRoTjbl9-AB",
    "outputId": "ff7abcb4-322c-4fa3-ac92-520844a29773"
   },
   "outputs": [
    {
     "name": "stdout",
     "output_type": "stream",
     "text": [
      "\n",
      "Tampilan kolom 'isi' dan 'hasil_preprocessing':\n",
      "                                                 isi  \\\n",
      "0  PebasketSatria MudaAvan Seputramengaku terkeju...   \n",
      "1  Timnas Indonesiasudah gagal lolos kePiala Duni...   \n",
      "2  Sejak pertama kali diperkenalkan pada tahun 19...   \n",
      "3  Ada banyak dosen inspiratif di Indonesia. Seba...   \n",
      "4  Kylian Mbappemengaku merasa lebih tenang sejak...   \n",
      "\n",
      "                                 hasil_preprocessing  \n",
      "0  ['pebasketsatria', 'mudaavan', 'seputramengaku...  \n",
      "1  ['timnas', 'indonesiasudah', 'gagal', 'lolos',...  \n",
      "2  ['kali', 'kenal', 'mercedesbenz', 'sprinter', ...  \n",
      "3  ['dosen', 'inspiratif', 'indonesia', 'jajar', ...  \n",
      "4  ['kylian', 'mbappemengaku', 'tenang', 'pindah'...  \n",
      "\n",
      "Jumlah data: (500, 3)\n"
     ]
    }
   ],
   "source": [
    "import pandas as pd\n",
    "\n",
    "# Pakai file dan kolom milik Anda\n",
    "data = pd.read_csv('hasil_preprocessing_berita_supe.csv')\n",
    "document = data  # alias agar konsisten di cell lain\n",
    "\n",
    "print(\"\\nTampilan kolom 'isi' dan 'hasil_preprocessing':\")\n",
    "print(document[['isi', 'hasil_preprocessing']].head())\n",
    "\n",
    "print(\"\\nJumlah data:\", document.shape)"
   ]
  },
  {
   "cell_type": "code",
   "execution_count": 59,
   "metadata": {
    "id": "vNZnFYya-2XK"
   },
   "outputs": [],
   "source": [
    "import ast\n",
    "\n",
    "def to_tokens(text: str):\n",
    "    # Jika sudah list, kembalikan langsung\n",
    "    if isinstance(text, list):\n",
    "        return [t for t in text if t]\n",
    "    # Jika string: coba parse list-string, kalau gagal split spasi\n",
    "    s = str(text).strip()\n",
    "    if s.startswith('[') and s.endswith(']'):\n",
    "        try:\n",
    "            parsed = ast.literal_eval(s)\n",
    "            if isinstance(parsed, list):\n",
    "                return [str(t).strip(\"'\\\"\") for t in parsed if str(t).strip(\"'\\\"\")]\n",
    "        except Exception:\n",
    "            pass\n",
    "    return [t for t in s.split() if t]"
   ]
  },
  {
   "cell_type": "code",
   "execution_count": 60,
   "metadata": {
    "colab": {
     "base_uri": "https://localhost:8080/"
    },
    "id": "wj5K7Pl_-AuU",
    "outputId": "a6650b14-55cd-4248-f67f-9fb47e5868f6"
   },
   "outputs": [
    {
     "name": "stdout",
     "output_type": "stream",
     "text": [
      "\n",
      "Original document (isi):\n",
      "Barcelonagagal meraih poin saat melawanSevilladi pekan ke-8 Liga Spanyol 2025/2026.Blaugranadibantai dengan skor telak, 1-4. Bertanding di Stadion Ramon Sanchez Pizjuan, Seville, Minggu (5/10/2025), Sevilla menekan sejak awal. Taktik itu memaksa Barcelona melakukan kesalahan. Di menit ke-11, Barcelona dihukum penalti usai Isaac Romero dilanggar Ronald Araujo. Alexis Sanchez, eks winger Barcelona, maju jadi eksekutor penalti dan mengonversinya masuk ke gawang Wojciech Szczesny, yang juga mantan rekannya di Arsenal. Skor 1-0 untuk Sevilla. SCROLL TO CONTINUE WITH CONTENT Barcelona cukup kesulitan mengejar ketertinggalannya. Serangannya mudah dipatahkan barisan belakang Sevilla, yang tampil solid di laga ini. SementaraSevillabeberapa kali nyaman menekanBarcelona. Isaac Romero menjadi ancaman bagi Ronald Araujo Cs di lini belakang Barcelona. Dan Romero benar-benar jadi mimpi buruk Barcelona di menit ke-36. Ia bisa merobek gawang tim tamu usai menerima sodoran Ruben Vargas. Skor 2-0 untuk tuan rumah. Barcelona coba menekan di sisa waktu babak pertama. Marcus Rashford sempat memperkecil skor menjadi 1-2 lewat golnya di masa injury time sebelum turun minum. Babak kedua digelar, Barcelona mengganti dua beknya. Tekanan Sevilla mulai bisa diredam kali ini. Di satu sisi, Barcelona masih kesulitan mencari gol penyeimbang. Serangan yang dilancarkan masih susah membuahkan hasil hingga menit ke-70. Pada menit ke-73, kansBarcelonamenyamakan skor datang lewat penalti. Adnan Januzaj, yang baru masuk, langsung melanggar Alejandro Balde dan Sevilla dihukum tendangan 12 pas. Lewandowski maju, namun gagal memasukkan bola! Tendangannya mengarahkan bola melebar ke sisi kiri gawang Sevilla, yang dijaga Odisseas Vlachodimos. Barcelona masih tertinggal. Pada menit ke-88, Sevilla sempat bikin gol lewat Akor Adams. Namun gol dianulir karena sang penyerang sudah dalam posisi offside. Dua menit berselang, gol ketiga akhirnya dicetak Sevilla. Jose Angel Carmona membobol gawang Barcelona lewat sepakan dari dalam kotak penalti, dalam skema serangan balik. Skor 3-1. Belum selesai di situ, Sevilla sekali lagi menghukum Barcelona. Adams akhirnya bisa menjebol gawang Szczesny usai menerima sodoran Chidera Ejuke, yang baru masuk. Skor akhir 4-1 untuk kemenangan tim asuhan Matias Almeyda. Hasil ini membuatBarcelonamasih tertahan di peringkat duaklasemen Liga Spanyoldengan 19 poin dari 8 laga, tertinggal dua poin dari Real Madrid, yang berada di posisi pertama. SementaraSevillanaik ke peringkat empat dengan 13 poin. Susunan Pemain Sevilla: Odisseas Vlachodimos, Marcao, Cesar Azpilicueta, Gabriel Suazo, Jose Angel Carmona, Djibril Sow (Nemanja Gudelj 61), Batista Mendy (Peque 63'), Lucien Agoume, Isaac Romero (Akor Adams 61'), Ruben Vargas (Adnan Januzaj 73'), Alexis Sanchez (Chidera Ejuke 90+3') Barcelona: Wojciech Szczesny, Pau Cubarsi, Ronald Araujo (Eric Garcia 45'), Gerard Martin (Alejandro Balde 45'), Jules Kounde, Dani Olmo, Pedri, Frenkie de Jong (Andreas Christensen 88'), Robert Lewandowski Ferran Torres (Roony Bardghji 69'), Marcus Rashford\n",
      "\n",
      "Hasil preprocessing (hasil_preprocessing):\n",
      "['barcelonagagal', 'raih', 'poin', 'melawansevilladi', 'pekan', 'liga', 'spanyol', 'blaugranadibantai', 'skor', 'telak', 'tanding', 'stadion', 'ramon', 'sanchez', 'pizjuan', 'seville', 'minggu', 'sevilla', 'tekan', 'taktik', 'paksa', 'barcelona', 'salah', 'menit', 'barcelona', 'hukum', 'penalti', 'isaac', 'romero', 'langgar', 'ronald', 'araujo', 'alexis', 'sanchez', 'eks', 'winger', 'barcelona', 'maju', 'eksekutor', 'penalti', 'konversi', 'masuk', 'gawang', 'wojciech', 'szczesny', 'mantan', 'rekan', 'arsenal', 'skor', 'sevilla', 'scroll', 'to', 'continue', 'with', 'content', 'barcelona', 'sulit', 'kejar', 'tinggal', 'serang', 'mudah', 'patah', 'baris', 'sevilla', 'tampil', 'solid', 'laga', 'sementarasevillabeberapa', 'kali', 'nyaman', 'menekanbarcelona', 'isaac', 'romero', 'ancam', 'ronald', 'araujo', 'cs', 'lini', 'barcelona', 'romero', 'benarbenar', 'mimpi', 'buruk', 'barcelona', 'menit', 'robek', 'gawang', 'tim', 'tamu', 'terima', 'sodor', 'ruben', 'vargas', 'skor', 'tuan', 'rumah', 'barcelona', 'coba', 'tekan', 'sisa', 'babak', 'marcus', 'rashford', 'kecil', 'skor', 'gol', 'injury', 'time', 'turun', 'minum', 'babak', 'gelar', 'barcelona', 'ganti', 'bek', 'tekan', 'sevilla', 'redam', 'kali', 'sisi', 'barcelona', 'sulit', 'cari', 'gol', 'imbang', 'serang', 'lancar', 'susah', 'buah', 'hasil', 'menit', 'menit', 'kansbarcelonamenyamakan', 'skor', 'penalti', 'adnan', 'januzaj', 'masuk', 'langsung', 'langgar', 'alejandro', 'balde', 'sevilla', 'hukum', 'tendang', 'pas', 'lewandowski', 'maju', 'gagal', 'masuk', 'bola', 'tendang', 'arah', 'bola', 'lebar', 'sisi', 'kiri', 'gawang', 'sevilla', 'jaga', 'odisseas', 'vlachodimos', 'barcelona', 'tinggal', 'menit', 'sevilla', 'bikin', 'gol', 'akor', 'adams', 'gol', 'anulir', 'sang', 'serang', 'posisi', 'offside', 'menit', 'selang', 'gol', 'tiga', 'cetak', 'sevilla', 'jose', 'angel', 'carmona', 'bobol', 'gawang', 'barcelona', 'pakan', 'kotak', 'penalti', 'skema', 'serang', 'skor', 'selesai', 'situ', 'sevilla', 'hukum', 'barcelona', 'adams', 'jebol', 'gawang', 'szczesny', 'terima', 'sodor', 'chidera', 'ejuke', 'masuk', 'skor', 'menang', 'tim', 'asuh', 'matias', 'almeyda', 'hasil', 'membuatbarcelonamasih', 'tahan', 'peringkat', 'duaklasemen', 'liga', 'spanyoldengan', 'poin', 'laga', 'tinggal', 'poin', 'real', 'madrid', 'posisi', 'sementarasevillanaik', 'peringkat', 'poin', 'susun', 'main', 'sevilla', 'odisseas', 'vlachodimos', 'marcao', 'cesar', 'azpilicueta', 'gabriel', 'suazo', 'jose', 'angel', 'carmona', 'djibril', 'sow', 'nemanja', 'gudelj', 'batista', 'mendy', 'peque', 'lucien', 'agoume', 'isaac', 'romero', 'akor', 'adams', 'ruben', 'vargas', 'adnan', 'januzaj', 'alexis', 'sanchez', 'chidera', 'ejuke', 'barcelona', 'wojciech', 'szczesny', 'pau', 'cubarsi', 'ronald', 'araujo', 'eric', 'garcia', 'gerard', 'martin', 'alejandro', 'balde', 'jules', 'kounde', 'dan', 'olmo', 'pedri', 'frenkie', 'de', 'jong', 'andreas', 'christensen', 'robert', 'lewandowski', 'ferran', 'torres', 'roony', 'bardghji', 'marcus', 'rashford']\n",
      "\n",
      "Tokenized words:\n",
      "['barcelonagagal', 'raih', 'poin', 'melawansevilladi', 'pekan', 'liga', 'spanyol', 'blaugranadibantai', 'skor', 'telak', 'tanding', 'stadion', 'ramon', 'sanchez', 'pizjuan', 'seville', 'minggu', 'sevilla', 'tekan', 'taktik', 'paksa', 'barcelona', 'salah', 'menit', 'barcelona', 'hukum', 'penalti', 'isaac', 'romero', 'langgar', 'ronald', 'araujo', 'alexis', 'sanchez', 'eks', 'winger', 'barcelona', 'maju', 'eksekutor', 'penalti', 'konversi', 'masuk', 'gawang', 'wojciech', 'szczesny', 'mantan', 'rekan', 'arsenal', 'skor', 'sevilla', 'scroll', 'to', 'continue', 'with', 'content', 'barcelona', 'sulit', 'kejar', 'tinggal', 'serang', 'mudah', 'patah', 'baris', 'sevilla', 'tampil', 'solid', 'laga', 'sementarasevillabeberapa', 'kali', 'nyaman', 'menekanbarcelona', 'isaac', 'romero', 'ancam', 'ronald', 'araujo', 'cs', 'lini', 'barcelona', 'romero', 'benarbenar', 'mimpi', 'buruk', 'barcelona', 'menit', 'robek', 'gawang', 'tim', 'tamu', 'terima', 'sodor', 'ruben', 'vargas', 'skor', 'tuan', 'rumah', 'barcelona', 'coba', 'tekan', 'sisa', 'babak', 'marcus', 'rashford', 'kecil', 'skor', 'gol', 'injury', 'time', 'turun', 'minum', 'babak', 'gelar', 'barcelona', 'ganti', 'bek', 'tekan', 'sevilla', 'redam', 'kali', 'sisi', 'barcelona', 'sulit', 'cari', 'gol', 'imbang', 'serang', 'lancar', 'susah', 'buah', 'hasil', 'menit', 'menit', 'kansbarcelonamenyamakan', 'skor', 'penalti', 'adnan', 'januzaj', 'masuk', 'langsung', 'langgar', 'alejandro', 'balde', 'sevilla', 'hukum', 'tendang', 'pas', 'lewandowski', 'maju', 'gagal', 'masuk', 'bola', 'tendang', 'arah', 'bola', 'lebar', 'sisi', 'kiri', 'gawang', 'sevilla', 'jaga', 'odisseas', 'vlachodimos', 'barcelona', 'tinggal', 'menit', 'sevilla', 'bikin', 'gol', 'akor', 'adams', 'gol', 'anulir', 'sang', 'serang', 'posisi', 'offside', 'menit', 'selang', 'gol', 'tiga', 'cetak', 'sevilla', 'jose', 'angel', 'carmona', 'bobol', 'gawang', 'barcelona', 'pakan', 'kotak', 'penalti', 'skema', 'serang', 'skor', 'selesai', 'situ', 'sevilla', 'hukum', 'barcelona', 'adams', 'jebol', 'gawang', 'szczesny', 'terima', 'sodor', 'chidera', 'ejuke', 'masuk', 'skor', 'menang', 'tim', 'asuh', 'matias', 'almeyda', 'hasil', 'membuatbarcelonamasih', 'tahan', 'peringkat', 'duaklasemen', 'liga', 'spanyoldengan', 'poin', 'laga', 'tinggal', 'poin', 'real', 'madrid', 'posisi', 'sementarasevillanaik', 'peringkat', 'poin', 'susun', 'main', 'sevilla', 'odisseas', 'vlachodimos', 'marcao', 'cesar', 'azpilicueta', 'gabriel', 'suazo', 'jose', 'angel', 'carmona', 'djibril', 'sow', 'nemanja', 'gudelj', 'batista', 'mendy', 'peque', 'lucien', 'agoume', 'isaac', 'romero', 'akor', 'adams', 'ruben', 'vargas', 'adnan', 'januzaj', 'alexis', 'sanchez', 'chidera', 'ejuke', 'barcelona', 'wojciech', 'szczesny', 'pau', 'cubarsi', 'ronald', 'araujo', 'eric', 'garcia', 'gerard', 'martin', 'alejandro', 'balde', 'jules', 'kounde', 'dan', 'olmo', 'pedri', 'frenkie', 'de', 'jong', 'andreas', 'christensen', 'robert', 'lewandowski', 'ferran', 'torres', 'roony', 'bardghji', 'marcus', 'rashford']\n"
     ]
    }
   ],
   "source": [
    "if document_num < len(document):\n",
    "    doc_raw = document.iloc[document_num]['isi']\n",
    "    doc_tokens = document.iloc[document_num]['hasil_preprocessing']\n",
    "\n",
    "    print(\"\\nOriginal document (isi):\")\n",
    "    print(doc_raw)\n",
    "\n",
    "    print(\"\\nHasil preprocessing (hasil_preprocessing):\")\n",
    "    print(doc_tokens)\n",
    "\n",
    "    # Token array dari hasil_preprocessing (list-string -> list token)\n",
    "    words = to_tokens(str(doc_tokens))\n",
    "    print(\"\\nTokenized words:\")\n",
    "    print(words)\n",
    "else:\n",
    "    print(f\"\\n⚠️ Nomor {document_num} melebihi jumlah baris ({len(document)})\")\n"
   ]
  },
  {
   "cell_type": "code",
   "execution_count": 61,
   "metadata": {
    "colab": {
     "base_uri": "https://localhost:8080/"
    },
    "id": "8ce2t6lfBP3-",
    "outputId": "5dba79b5-07ad-451a-fbbd-3e18668c18a3"
   },
   "outputs": [
    {
     "name": "stdout",
     "output_type": "stream",
     "text": [
      "['isi', 'hasil_preprocessing', 'kategori']\n"
     ]
    }
   ],
   "source": [
    "print(document.columns.tolist())"
   ]
  },
  {
   "cell_type": "code",
   "execution_count": 62,
   "metadata": {
    "colab": {
     "base_uri": "https://localhost:8080/"
    },
    "id": "7A_DMAO9-2XL",
    "outputId": "8269e1be-9fd4-4727-9da2-ec90ded2cdb0"
   },
   "outputs": [
    {
     "name": "stdout",
     "output_type": "stream",
     "text": [
      "['pebasketsatria', 'mudaavan', 'seputramengaku', 'kejut', 'tim', 'akuisisi', 'persib', 'positif', 'ubah', 'manajemen', 'grup', 'persib', 'langkah', 'ambil', 'alih', 'klub', 'basket', 'satria', 'muda', 'umum']\n"
     ]
    }
   ],
   "source": [
    "# Helper untuk mengubah kolom 'hasil_preprocessing' menjadi list token\n",
    "# Menangani format list-string seperti \"['kata1', 'kata2', ...]\" atau string biasa terpisah spasi\n",
    "import ast\n",
    "\n",
    "def to_tokens(text: str):\n",
    "    if isinstance(text, list):\n",
    "        return [t for t in text if t]\n",
    "    if isinstance(text, str):\n",
    "        s = text.strip()\n",
    "        # Coba parse sebagai list literal\n",
    "        if s.startswith('[') and s.endswith(']'):\n",
    "            try:\n",
    "                parsed = ast.literal_eval(s)\n",
    "                if isinstance(parsed, list):\n",
    "                    return [str(t).strip(\"'\\\"\") for t in parsed if str(t).strip(\"'\\\"\")]\n",
    "            except Exception:\n",
    "                pass\n",
    "        # Fallback: split spasi\n",
    "        return [t for t in s.split() if t]\n",
    "    return []\n",
    "\n",
    "# Tampilkan contoh token hasil konversi\n",
    "sample_idx = 0\n",
    "print(to_tokens(str(data.iloc[sample_idx]['hasil_preprocessing']))[:20])\n"
   ]
  },
  {
   "cell_type": "code",
   "execution_count": 63,
   "metadata": {
    "id": "BJFy_vevAqij"
   },
   "outputs": [],
   "source": [
    "process_docs = document['isi'].map(preprocess)"
   ]
  },
  {
   "cell_type": "code",
   "execution_count": 64,
   "metadata": {
    "colab": {
     "base_uri": "https://localhost:8080/",
     "height": 398
    },
    "id": "Ov5iXLanBHf0",
    "outputId": "5cc49b3d-2254-4c7b-8a4d-dfcddc1e5da1"
   },
   "outputs": [
    {
     "data": {
      "text/html": [
       "<div>\n",
       "<style scoped>\n",
       "    .dataframe tbody tr th:only-of-type {\n",
       "        vertical-align: middle;\n",
       "    }\n",
       "\n",
       "    .dataframe tbody tr th {\n",
       "        vertical-align: top;\n",
       "    }\n",
       "\n",
       "    .dataframe thead th {\n",
       "        text-align: right;\n",
       "    }\n",
       "</style>\n",
       "<table border=\"1\" class=\"dataframe\">\n",
       "  <thead>\n",
       "    <tr style=\"text-align: right;\">\n",
       "      <th></th>\n",
       "      <th>isi</th>\n",
       "    </tr>\n",
       "  </thead>\n",
       "  <tbody>\n",
       "    <tr>\n",
       "      <th>0</th>\n",
       "      <td>[pebasketsatria, mudaavan, seputramengaku, kej...</td>\n",
       "    </tr>\n",
       "    <tr>\n",
       "      <th>1</th>\n",
       "      <td>[timnas, indonesiasudah, gagal, lolos, piala, ...</td>\n",
       "    </tr>\n",
       "    <tr>\n",
       "      <th>2</th>\n",
       "      <td>[kali, kenal, mercedes, benz, sprinter, salah,...</td>\n",
       "    </tr>\n",
       "    <tr>\n",
       "      <th>3</th>\n",
       "      <td>[dosen, inspiratif, indonesia, jajar, ilmuwan,...</td>\n",
       "    </tr>\n",
       "    <tr>\n",
       "      <th>4</th>\n",
       "      <td>[kylian, mbappemengaku, tenang, pindah, real, ...</td>\n",
       "    </tr>\n",
       "    <tr>\n",
       "      <th>5</th>\n",
       "      <td>[harry, maguiresudah, pasuk, kontrak, dimanche...</td>\n",
       "    </tr>\n",
       "    <tr>\n",
       "      <th>6</th>\n",
       "      <td>[legenda, jermanmichael, ballackmemahami, muni...</td>\n",
       "    </tr>\n",
       "    <tr>\n",
       "      <th>7</th>\n",
       "      <td>[matamiyu, dancer, cilik, indonesia, bikin, ba...</td>\n",
       "    </tr>\n",
       "    <tr>\n",
       "      <th>8</th>\n",
       "      <td>[christian, vierimenyambut, rencana, runtuh, s...</td>\n",
       "    </tr>\n",
       "    <tr>\n",
       "      <th>9</th>\n",
       "      <td>[putus, menteri, uang, purbaya, yudhi, sadewa,...</td>\n",
       "    </tr>\n",
       "  </tbody>\n",
       "</table>\n",
       "</div><br><label><b>dtype:</b> object</label>"
      ],
      "text/plain": [
       "0    [pebasketsatria, mudaavan, seputramengaku, kej...\n",
       "1    [timnas, indonesiasudah, gagal, lolos, piala, ...\n",
       "2    [kali, kenal, mercedes, benz, sprinter, salah,...\n",
       "3    [dosen, inspiratif, indonesia, jajar, ilmuwan,...\n",
       "4    [kylian, mbappemengaku, tenang, pindah, real, ...\n",
       "5    [harry, maguiresudah, pasuk, kontrak, dimanche...\n",
       "6    [legenda, jermanmichael, ballackmemahami, muni...\n",
       "7    [matamiyu, dancer, cilik, indonesia, bikin, ba...\n",
       "8    [christian, vierimenyambut, rencana, runtuh, s...\n",
       "9    [putus, menteri, uang, purbaya, yudhi, sadewa,...\n",
       "Name: isi, dtype: object"
      ]
     },
     "execution_count": 64,
     "metadata": {},
     "output_type": "execute_result"
    }
   ],
   "source": [
    "process_docs[:10]"
   ]
  },
  {
   "cell_type": "markdown",
   "metadata": {
    "id": "2y5BUigKCve-"
   },
   "source": [
    "**Get a BOW Dict from data**"
   ]
  },
  {
   "cell_type": "code",
   "execution_count": 65,
   "metadata": {
    "colab": {
     "base_uri": "https://localhost:8080/"
    },
    "id": "X3kioNfHCsAP",
    "outputId": "b9dc5c6f-f891-4411-9522-3e7a5a6e198a"
   },
   "outputs": [
    {
     "name": "stdout",
     "output_type": "stream",
     "text": [
      "0 agustus\n",
      "1 akuisisi\n",
      "2 akun\n",
      "3 alih\n",
      "4 ambil\n",
      "5 anggap\n",
      "6 atmosfer\n",
      "7 avan\n",
      "8 bandung\n",
      "9 barat\n",
      "10 basket\n"
     ]
    }
   ],
   "source": [
    "dic = gensim.corpora.Dictionary(process_docs)\n",
    "count = 0\n",
    "for k, v in dic.items():\n",
    "    print(k, v)\n",
    "    count += 1\n",
    "    if count > 10:\n",
    "        break"
   ]
  },
  {
   "cell_type": "markdown",
   "metadata": {
    "id": "uZ0iE9_DC7fv"
   },
   "source": [
    "**filter the dict**"
   ]
  },
  {
   "cell_type": "code",
   "execution_count": 66,
   "metadata": {
    "id": "xPd8jHj8C48G"
   },
   "outputs": [],
   "source": [
    "dic.filter_extremes(no_below=15, no_above=0.1, keep_n=100000)"
   ]
  },
  {
   "cell_type": "markdown",
   "metadata": {
    "id": "y1t_jtiuDCCy"
   },
   "source": [
    "**Convert document into BOW format by doc2bow**"
   ]
  },
  {
   "cell_type": "code",
   "execution_count": 67,
   "metadata": {
    "id": "sPGfeQLRDAXO"
   },
   "outputs": [],
   "source": [
    "bow_corpus = [dic.doc2bow(doc) for doc in process_docs]"
   ]
  },
  {
   "cell_type": "code",
   "execution_count": 68,
   "metadata": {
    "colab": {
     "base_uri": "https://localhost:8080/"
    },
    "id": "r0Wpivq6DGsv",
    "outputId": "97bc7666-6d1c-4bc0-b216-8a1a8dad9717"
   },
   "outputs": [
    {
     "name": "stdout",
     "output_type": "stream",
     "text": [
      "=== Isi dokumen ke-34 ===\n",
      "\n",
      "Word ID 10 (\"bola\") appears 2 time(s).\n",
      "Word ID 23 (\"maju\") appears 2 time(s).\n",
      "Word ID 30 (\"paksa\") appears 1 time(s).\n",
      "Word ID 50 (\"babak\") appears 2 time(s).\n",
      "Word ID 53 (\"gagal\") appears 1 time(s).\n",
      "Word ID 67 (\"mimpi\") appears 1 time(s).\n",
      "Word ID 104 (\"cetak\") appears 1 time(s).\n",
      "Word ID 140 (\"madrid\") appears 1 time(s).\n",
      "Word ID 141 (\"nyaman\") appears 1 time(s).\n",
      "Word ID 144 (\"poin\") appears 4 time(s).\n",
      "Word ID 145 (\"raih\") appears 1 time(s).\n",
      "Word ID 146 (\"real\") appears 1 time(s).\n",
      "Word ID 148 (\"selesai\") appears 1 time(s).\n",
      "Word ID 149 (\"skor\") appears 7 time(s).\n",
      "Word ID 150 (\"spanyol\") appears 1 time(s).\n",
      "Word ID 169 (\"rekan\") appears 1 time(s).\n",
      "Word ID 197 (\"bikin\") appears 1 time(s).\n",
      "Word ID 210 (\"mantan\") appears 1 time(s).\n",
      "Word ID 214 (\"pekan\") appears 1 time(s).\n",
      "Word ID 218 (\"stadion\") appears 1 time(s).\n",
      "Word ID 221 (\"tuan\") appears 1 time(s).\n",
      "Word ID 224 (\"cari\") appears 1 time(s).\n",
      "Word ID 228 (\"imbang\") appears 1 time(s).\n",
      "Word ID 303 (\"lebar\") appears 1 time(s).\n",
      "Word ID 309 (\"sang\") appears 1 time(s).\n",
      "Word ID 311 (\"serang\") appears 4 time(s).\n",
      "Word ID 312 (\"sisa\") appears 1 time(s).\n",
      "Word ID 338 (\"buah\") appears 1 time(s).\n",
      "Word ID 346 (\"barcelona\") appears 13 time(s).\n",
      "Word ID 348 (\"buruk\") appears 1 time(s).\n",
      "Word ID 349 (\"kejar\") appears 1 time(s).\n",
      "Word ID 363 (\"situ\") appears 1 time(s).\n",
      "Word ID 388 (\"gawang\") appears 5 time(s).\n",
      "Word ID 389 (\"hukum\") appears 3 time(s).\n",
      "Word ID 409 (\"tiga\") appears 1 time(s).\n",
      "Word ID 427 (\"susun\") appears 1 time(s).\n",
      "Word ID 438 (\"langgar\") appears 2 time(s).\n",
      "Word ID 463 (\"kiri\") appears 1 time(s).\n",
      "Word ID 497 (\"minum\") appears 1 time(s).\n",
      "Word ID 514 (\"arah\") appears 1 time(s).\n",
      "Word ID 526 (\"ancam\") appears 1 time(s).\n",
      "Word ID 527 (\"bobol\") appears 1 time(s).\n",
      "Word ID 528 (\"kotak\") appears 1 time(s).\n",
      "Word ID 529 (\"lini\") appears 1 time(s).\n",
      "Word ID 530 (\"menit\") appears 6 time(s).\n",
      "Word ID 531 (\"penalti\") appears 4 time(s).\n"
     ]
    }
   ],
   "source": [
    "dictionary = dic\n",
    "\n",
    "document_num = 34\n",
    "\n",
    "bow_doc = bow_corpus[document_num]\n",
    "\n",
    "if len(bow_doc) == 0:\n",
    "    print(f\"Dokumen ke-{document_num} kosong.\")\n",
    "else:\n",
    "    print(f\"=== Isi dokumen ke-{document_num} ===\\n\")\n",
    "    for word_id, freq in bow_doc:\n",
    "        print(f\"Word ID {word_id} (\\\"{dictionary[word_id]}\\\") appears {freq} time(s).\")"
   ]
  },
  {
   "cell_type": "markdown",
   "metadata": {
    "id": "HiZw1WDtGBMg"
   },
   "source": [
    "**TF-IDF on our document set**"
   ]
  },
  {
   "cell_type": "code",
   "execution_count": 69,
   "metadata": {
    "id": "xmjaA4L_FbwR"
   },
   "outputs": [],
   "source": [
    "tfidf = gensim.models.TfidfModel(bow_corpus)"
   ]
  },
  {
   "cell_type": "code",
   "execution_count": 70,
   "metadata": {
    "id": "Dt6h-n2UGGuo"
   },
   "outputs": [],
   "source": [
    "corpus_tfidf = tfidf[bow_corpus]"
   ]
  },
  {
   "cell_type": "code",
   "execution_count": 71,
   "metadata": {
    "colab": {
     "base_uri": "https://localhost:8080/"
    },
    "id": "8dtgk28jGIc_",
    "outputId": "b5e9128f-630c-4094-d48e-181390e499d9"
   },
   "outputs": [
    {
     "name": "stdout",
     "output_type": "stream",
     "text": [
      "[(0, 0.04758716654100069), (1, 0.050067711994295744), (2, 0.04594193633874891), (3, 0.04351550754208484), (4, 0.4303769042851289), (5, 0.04397342694987031), (6, 0.38258064966835936), (7, 0.051461269896260306), (8, 0.0555580046881079), (9, 0.0555580046881079), (10, 0.12790701644302108), (11, 0.051461269896260306), (12, 0.09188387267749781), (13, 0.04492871625507722), (14, 0.054654378524051334), (15, 0.039876692158022704), (16, 0.051461269896260306), (17, 0.04542764921192031), (18, 0.04594193633874891), (19, 0.08527134429534738), (20, 0.10596336478948186), (21, 0.04594193633874891), (22, 0.056513293993314805), (23, 0.05298168239474093), (24, 0.0555580046881079), (25, 0.11721029442064124), (26, 0.6687975575326085), (27, 0.03882078236313636), (28, 0.05752651407698651), (29, 0.05860514721032062), (30, 0.04941221571123179), (31, 0.038483134256058156), (32, 0.040619615037240805), (33, 0.044444247178716055), (34, 0.1463443833736494), (35, 0.14276149962300205), (36, 0.0487814611245498), (37, 0.04397342694987031), (38, 0.03951725867372939), (39, 0.04594193633874891), (40, 0.051461269896260306), (41, 0.13192028084961094), (42, 0.1014999410268568), (43, 0.0507499705134284), (44, 0.054654378524051334), (45, 0.09517433308200138), (46, 0.08200767830166336)]\n"
     ]
    }
   ],
   "source": [
    "for docu in corpus_tfidf:\n",
    "    print(docu)\n",
    "    break"
   ]
  },
  {
   "cell_type": "markdown",
   "metadata": {
    "id": "TS8JicjeGRfs"
   },
   "source": [
    "**Running LDA using Bag of Words data**"
   ]
  },
  {
   "cell_type": "code",
   "execution_count": 72,
   "metadata": {
    "colab": {
     "base_uri": "https://localhost:8080/"
    },
    "id": "C5JwF81yGPQ7",
    "outputId": "0db5edd8-8250-4350-ba1a-99660e433b76"
   },
   "outputs": [
    {
     "name": "stderr",
     "output_type": "stream",
     "text": [
      "WARNING:gensim.models.ldamulticore:too few updates, training might not converge; consider increasing the number of passes or iterations to improve accuracy\n"
     ]
    }
   ],
   "source": [
    "lda_model = gensim.models.LdaMulticore(bow_corpus, num_topics=10, id2word = dic, passes = 2, workers=2)"
   ]
  },
  {
   "cell_type": "code",
   "execution_count": null,
   "metadata": {
    "colab": {
     "base_uri": "https://localhost:8080/",
     "height": 176
    },
    "id": "WwTy2N4QGc6x",
    "outputId": "802e674b-c4f4-4466-aa78-400d451bc1f9"
   },
   "outputs": [
    {
     "ename": "NameError",
     "evalue": "name 'lda_model' is not defined",
     "output_type": "error",
     "traceback": [
      "\u001b[0;31m---------------------------------------------------------------------------\u001b[0m",
      "\u001b[0;31mNameError\u001b[0m                                 Traceback (most recent call last)",
      "\u001b[0;32m/tmp/ipython-input-1978053397.py\u001b[0m in \u001b[0;36m<cell line: 0>\u001b[0;34m()\u001b[0m\n\u001b[0;32m----> 1\u001b[0;31m \u001b[0;32mfor\u001b[0m \u001b[0midx\u001b[0m\u001b[0;34m,\u001b[0m \u001b[0mtopic\u001b[0m \u001b[0;32min\u001b[0m \u001b[0mlda_model\u001b[0m\u001b[0;34m.\u001b[0m\u001b[0mprint_topics\u001b[0m\u001b[0;34m(\u001b[0m\u001b[0;34m)\u001b[0m\u001b[0;34m:\u001b[0m\u001b[0;34m\u001b[0m\u001b[0;34m\u001b[0m\u001b[0m\n\u001b[0m\u001b[1;32m      2\u001b[0m     \u001b[0mprint\u001b[0m\u001b[0;34m(\u001b[0m\u001b[0;34m\"Topic: {} \\nWords: {}\"\u001b[0m\u001b[0;34m.\u001b[0m\u001b[0mformat\u001b[0m\u001b[0;34m(\u001b[0m\u001b[0midx\u001b[0m\u001b[0;34m,\u001b[0m \u001b[0mtopic\u001b[0m\u001b[0;34m)\u001b[0m\u001b[0;34m)\u001b[0m\u001b[0;34m\u001b[0m\u001b[0;34m\u001b[0m\u001b[0m\n\u001b[1;32m      3\u001b[0m     \u001b[0mprint\u001b[0m\u001b[0;34m(\u001b[0m\u001b[0;34m\"\\n\"\u001b[0m\u001b[0;34m)\u001b[0m\u001b[0;34m\u001b[0m\u001b[0;34m\u001b[0m\u001b[0m\n",
      "\u001b[0;31mNameError\u001b[0m: name 'lda_model' is not defined"
     ]
    }
   ],
   "source": [
    "for idx, topic in lda_model.print_topics():\n",
    "    print(\"Topic: {} \\nWords: {}\".format(idx, topic))\n",
    "    print(\"\\n\")"
   ]
  },
  {
   "cell_type": "markdown",
   "metadata": {
    "id": "ZFFL4xz_G7TI"
   },
   "source": [
    "**Topic coherence**"
   ]
  },
  {
   "cell_type": "code",
   "execution_count": null,
   "metadata": {
    "colab": {
     "base_uri": "https://localhost:8080/"
    },
    "id": "UrpNZeQfGmKi",
    "outputId": "38acf8af-3616-4eee-cc82-84e47b722879"
   },
   "outputs": [
    {
     "name": "stdout",
     "output_type": "stream",
     "text": [
      "\n",
      "Coherence Score:  0.3808564656948213\n"
     ]
    }
   ],
   "source": [
    "from gensim.models import CoherenceModel\n",
    "\n",
    "coherence_model_lda = CoherenceModel(model=lda_model, texts=process_docs, dictionary=dic, coherence='c_v')\n",
    "coherence_lda = coherence_model_lda.get_coherence()\n",
    "print('\\nCoherence Score: ', coherence_lda)"
   ]
  },
  {
   "cell_type": "code",
   "execution_count": null,
   "metadata": {
    "colab": {
     "base_uri": "https://localhost:8080/"
    },
    "id": "y4hBUbeyHADs",
    "outputId": "689a7259-7c87-4342-b2b9-8daa30c52e4a"
   },
   "outputs": [
    {
     "ename": "NameError",
     "evalue": "name 'lda_model' is not defined",
     "output_type": "error",
     "traceback": [
      "\u001b[1;31m---------------------------------------------------------------------------\u001b[0m",
      "\u001b[1;31mNameError\u001b[0m                                 Traceback (most recent call last)",
      "Cell \u001b[1;32mIn[1], line 3\u001b[0m\n\u001b[0;32m      1\u001b[0m \u001b[38;5;28;01mfrom\u001b[39;00m \u001b[38;5;21;01mgensim\u001b[39;00m\u001b[38;5;21;01m.\u001b[39;00m\u001b[38;5;21;01mmodels\u001b[39;00m \u001b[38;5;28;01mimport\u001b[39;00m CoherenceModel\n\u001b[1;32m----> 3\u001b[0m coherence_model_lda \u001b[38;5;241m=\u001b[39m CoherenceModel(model\u001b[38;5;241m=\u001b[39m\u001b[43mlda_model\u001b[49m, texts\u001b[38;5;241m=\u001b[39mprocess_docs, dictionary\u001b[38;5;241m=\u001b[39mdic, coherence\u001b[38;5;241m=\u001b[39m\u001b[38;5;124m\"\u001b[39m\u001b[38;5;124mu_mass\u001b[39m\u001b[38;5;124m\"\u001b[39m)\n\u001b[0;32m      4\u001b[0m coherence_lda \u001b[38;5;241m=\u001b[39m coherence_model_lda\u001b[38;5;241m.\u001b[39mget_coherence()\n\u001b[0;32m      5\u001b[0m \u001b[38;5;28mprint\u001b[39m(\u001b[38;5;124m'\u001b[39m\u001b[38;5;130;01m\\n\u001b[39;00m\u001b[38;5;124mCoherence Score: \u001b[39m\u001b[38;5;124m'\u001b[39m, coherence_lda)\n",
      "\u001b[1;31mNameError\u001b[0m: name 'lda_model' is not defined"
     ]
    }
   ],
   "source": [
    "from gensim.models import CoherenceModel\n",
    "\n",
    "coherence_model_lda = CoherenceModel(model=lda_model, texts=process_docs, dictionary=dic, coherence=\"u_mass\")\n",
    "coherence_lda = coherence_model_lda.get_coherence()\n",
    "print('\\nCoherence Score: ', coherence_lda)"
   ]
  },
  {
   "cell_type": "markdown",
   "metadata": {
    "id": "6gSygZOhHEZT"
   },
   "source": [
    "**find the optimal number of topics**"
   ]
  },
  {
   "cell_type": "code",
   "execution_count": 1,
   "metadata": {
    "id": "GtiGOAOyHCj5"
   },
   "outputs": [],
   "source": [
    "def compute_coherence_values(dictionary, corpus, texts, limit, start=2, step=3):\n",
    "\n",
    "    coherence_values = []\n",
    "    model_list = []\n",
    "    for num_topics in range(start, limit, step):\n",
    "        model=gensim.models.LdaMulticore(corpus=corpus, id2word=dic, num_topics=num_topics)\n",
    "        model_list.append(model)\n",
    "        coherencemodel = CoherenceModel(model=model, texts=texts, dictionary=dic, coherence='c_v')\n",
    "        coherence_values.append(coherencemodel.get_coherence())\n",
    "\n",
    "    return model_list, coherence_values"
   ]
  },
  {
   "cell_type": "code",
   "execution_count": 2,
   "metadata": {
    "colab": {
     "base_uri": "https://localhost:8080/",
     "height": 141
    },
    "id": "A8JXTeeLHHp3",
    "outputId": "2ab69674-89b8-40a1-bf5f-d87280053c5d"
   },
   "outputs": [
    {
     "ename": "NameError",
     "evalue": "name 'dic' is not defined",
     "output_type": "error",
     "traceback": [
      "\u001b[0;31m---------------------------------------------------------------------------\u001b[0m",
      "\u001b[0;31mNameError\u001b[0m                                 Traceback (most recent call last)",
      "\u001b[0;32m/tmp/ipython-input-2824594887.py\u001b[0m in \u001b[0;36m<cell line: 0>\u001b[0;34m()\u001b[0m\n\u001b[0;32m----> 1\u001b[0;31m \u001b[0mmodel_list\u001b[0m\u001b[0;34m,\u001b[0m \u001b[0mcoherence_values\u001b[0m \u001b[0;34m=\u001b[0m \u001b[0mcompute_coherence_values\u001b[0m\u001b[0;34m(\u001b[0m\u001b[0mdictionary\u001b[0m\u001b[0;34m=\u001b[0m\u001b[0mdic\u001b[0m\u001b[0;34m,\u001b[0m \u001b[0mcorpus\u001b[0m\u001b[0;34m=\u001b[0m\u001b[0mbow_corpus\u001b[0m\u001b[0;34m,\u001b[0m \u001b[0mtexts\u001b[0m\u001b[0;34m=\u001b[0m\u001b[0mprocess_docs\u001b[0m\u001b[0;34m,\u001b[0m \u001b[0mstart\u001b[0m\u001b[0;34m=\u001b[0m\u001b[0;36m2\u001b[0m\u001b[0;34m,\u001b[0m \u001b[0mlimit\u001b[0m\u001b[0;34m=\u001b[0m\u001b[0;36m40\u001b[0m\u001b[0;34m,\u001b[0m \u001b[0mstep\u001b[0m\u001b[0;34m=\u001b[0m\u001b[0;36m6\u001b[0m\u001b[0;34m)\u001b[0m\u001b[0;34m\u001b[0m\u001b[0;34m\u001b[0m\u001b[0m\n\u001b[0m",
      "\u001b[0;31mNameError\u001b[0m: name 'dic' is not defined"
     ]
    }
   ],
   "source": [
    "model_list, coherence_values = compute_coherence_values(dictionary=dic, corpus=bow_corpus, texts=process_docs, start=2, limit=40, step=6)"
   ]
  },
  {
   "cell_type": "code",
   "execution_count": 3,
   "metadata": {
    "colab": {
     "base_uri": "https://localhost:8080/",
     "height": 211
    },
    "id": "AeLNT0aGHK85",
    "outputId": "927782c3-5d44-41bb-93c7-8247eaa4cb8b"
   },
   "outputs": [
    {
     "ename": "NameError",
     "evalue": "name 'coherence_values' is not defined",
     "output_type": "error",
     "traceback": [
      "\u001b[0;31m---------------------------------------------------------------------------\u001b[0m",
      "\u001b[0;31mNameError\u001b[0m                                 Traceback (most recent call last)",
      "\u001b[0;32m/tmp/ipython-input-1375805809.py\u001b[0m in \u001b[0;36m<cell line: 0>\u001b[0;34m()\u001b[0m\n\u001b[1;32m      2\u001b[0m \u001b[0mlimit\u001b[0m\u001b[0;34m=\u001b[0m\u001b[0;36m40\u001b[0m\u001b[0;34m;\u001b[0m \u001b[0mstart\u001b[0m\u001b[0;34m=\u001b[0m\u001b[0;36m2\u001b[0m\u001b[0;34m;\u001b[0m \u001b[0mstep\u001b[0m\u001b[0;34m=\u001b[0m\u001b[0;36m6\u001b[0m\u001b[0;34m;\u001b[0m\u001b[0;34m\u001b[0m\u001b[0;34m\u001b[0m\u001b[0m\n\u001b[1;32m      3\u001b[0m \u001b[0mx\u001b[0m \u001b[0;34m=\u001b[0m \u001b[0mrange\u001b[0m\u001b[0;34m(\u001b[0m\u001b[0mstart\u001b[0m\u001b[0;34m,\u001b[0m \u001b[0mlimit\u001b[0m\u001b[0;34m,\u001b[0m \u001b[0mstep\u001b[0m\u001b[0;34m)\u001b[0m\u001b[0;34m\u001b[0m\u001b[0;34m\u001b[0m\u001b[0m\n\u001b[0;32m----> 4\u001b[0;31m \u001b[0mplt\u001b[0m\u001b[0;34m.\u001b[0m\u001b[0mplot\u001b[0m\u001b[0;34m(\u001b[0m\u001b[0mx\u001b[0m\u001b[0;34m,\u001b[0m \u001b[0mcoherence_values\u001b[0m\u001b[0;34m)\u001b[0m\u001b[0;34m\u001b[0m\u001b[0;34m\u001b[0m\u001b[0m\n\u001b[0m\u001b[1;32m      5\u001b[0m \u001b[0mplt\u001b[0m\u001b[0;34m.\u001b[0m\u001b[0mxlabel\u001b[0m\u001b[0;34m(\u001b[0m\u001b[0;34m\"Num Topics\"\u001b[0m\u001b[0;34m)\u001b[0m\u001b[0;34m\u001b[0m\u001b[0;34m\u001b[0m\u001b[0m\n\u001b[1;32m      6\u001b[0m \u001b[0mplt\u001b[0m\u001b[0;34m.\u001b[0m\u001b[0mylabel\u001b[0m\u001b[0;34m(\u001b[0m\u001b[0;34m\"Coherence score\"\u001b[0m\u001b[0;34m)\u001b[0m\u001b[0;34m\u001b[0m\u001b[0;34m\u001b[0m\u001b[0m\n",
      "\u001b[0;31mNameError\u001b[0m: name 'coherence_values' is not defined"
     ]
    }
   ],
   "source": [
    "import matplotlib.pyplot as plt\n",
    "limit=40; start=2; step=6;\n",
    "x = range(start, limit, step)\n",
    "plt.plot(x, coherence_values)\n",
    "plt.xlabel(\"Num Topics\")\n",
    "plt.ylabel(\"Coherence score\")\n",
    "plt.legend((\"coherence_values\"), loc='best')\n",
    "plt.show()"
   ]
  },
  {
   "cell_type": "markdown",
   "metadata": {
    "id": "0Bkur3ZCHR5t"
   },
   "source": [
    "**Running LDA using TF-IDF**"
   ]
  },
  {
   "cell_type": "code",
   "execution_count": 4,
   "metadata": {
    "colab": {
     "base_uri": "https://localhost:8080/",
     "height": 141
    },
    "id": "E9Cp5LP3HPf3",
    "outputId": "b1ecd1ce-469a-427a-e8f2-2a135c240144"
   },
   "outputs": [
    {
     "ename": "NameError",
     "evalue": "name 'gensim' is not defined",
     "output_type": "error",
     "traceback": [
      "\u001b[0;31m---------------------------------------------------------------------------\u001b[0m",
      "\u001b[0;31mNameError\u001b[0m                                 Traceback (most recent call last)",
      "\u001b[0;32m/tmp/ipython-input-2968953563.py\u001b[0m in \u001b[0;36m<cell line: 0>\u001b[0;34m()\u001b[0m\n\u001b[0;32m----> 1\u001b[0;31m \u001b[0mlda_model_tfidf\u001b[0m \u001b[0;34m=\u001b[0m \u001b[0mgensim\u001b[0m\u001b[0;34m.\u001b[0m\u001b[0mmodels\u001b[0m\u001b[0;34m.\u001b[0m\u001b[0mLdaMulticore\u001b[0m\u001b[0;34m(\u001b[0m\u001b[0mcorpus_tfidf\u001b[0m\u001b[0;34m,\u001b[0m \u001b[0mnum_topics\u001b[0m\u001b[0;34m=\u001b[0m\u001b[0;36m10\u001b[0m\u001b[0;34m,\u001b[0m \u001b[0mid2word\u001b[0m \u001b[0;34m=\u001b[0m \u001b[0mdic\u001b[0m\u001b[0;34m,\u001b[0m \u001b[0mpasses\u001b[0m \u001b[0;34m=\u001b[0m \u001b[0;36m2\u001b[0m\u001b[0;34m,\u001b[0m \u001b[0mworkers\u001b[0m\u001b[0;34m=\u001b[0m\u001b[0;36m4\u001b[0m\u001b[0;34m)\u001b[0m\u001b[0;34m\u001b[0m\u001b[0;34m\u001b[0m\u001b[0m\n\u001b[0m",
      "\u001b[0;31mNameError\u001b[0m: name 'gensim' is not defined"
     ]
    }
   ],
   "source": [
    "lda_model_tfidf = gensim.models.LdaMulticore(corpus_tfidf, num_topics=10, id2word = dic, passes = 2, workers=4)"
   ]
  },
  {
   "cell_type": "code",
   "execution_count": 5,
   "metadata": {
    "colab": {
     "base_uri": "https://localhost:8080/",
     "height": 176
    },
    "id": "TYSOBsTfHb44",
    "outputId": "bf020c6e-f7a7-407e-d1d3-30098f05c8a3"
   },
   "outputs": [
    {
     "ename": "NameError",
     "evalue": "name 'lda_model_tfidf' is not defined",
     "output_type": "error",
     "traceback": [
      "\u001b[0;31m---------------------------------------------------------------------------\u001b[0m",
      "\u001b[0;31mNameError\u001b[0m                                 Traceback (most recent call last)",
      "\u001b[0;32m/tmp/ipython-input-1396912164.py\u001b[0m in \u001b[0;36m<cell line: 0>\u001b[0;34m()\u001b[0m\n\u001b[0;32m----> 1\u001b[0;31m \u001b[0;32mfor\u001b[0m \u001b[0midx\u001b[0m\u001b[0;34m,\u001b[0m \u001b[0mtopic\u001b[0m \u001b[0;32min\u001b[0m \u001b[0mlda_model_tfidf\u001b[0m\u001b[0;34m.\u001b[0m\u001b[0mprint_topics\u001b[0m\u001b[0;34m(\u001b[0m\u001b[0;34m-\u001b[0m\u001b[0;36m1\u001b[0m\u001b[0;34m)\u001b[0m\u001b[0;34m:\u001b[0m\u001b[0;34m\u001b[0m\u001b[0;34m\u001b[0m\u001b[0m\n\u001b[0m\u001b[1;32m      2\u001b[0m     \u001b[0mprint\u001b[0m\u001b[0;34m(\u001b[0m\u001b[0;34m\"Topic: {} Word: {}\"\u001b[0m\u001b[0;34m.\u001b[0m\u001b[0mformat\u001b[0m\u001b[0;34m(\u001b[0m\u001b[0midx\u001b[0m\u001b[0;34m,\u001b[0m \u001b[0mtopic\u001b[0m\u001b[0;34m)\u001b[0m\u001b[0;34m)\u001b[0m\u001b[0;34m\u001b[0m\u001b[0;34m\u001b[0m\u001b[0m\n\u001b[1;32m      3\u001b[0m     \u001b[0mprint\u001b[0m\u001b[0;34m(\u001b[0m\u001b[0;34m\"\\n\"\u001b[0m\u001b[0;34m)\u001b[0m\u001b[0;34m\u001b[0m\u001b[0;34m\u001b[0m\u001b[0m\n",
      "\u001b[0;31mNameError\u001b[0m: name 'lda_model_tfidf' is not defined"
     ]
    }
   ],
   "source": [
    "for idx, topic in lda_model_tfidf.print_topics(-1):\n",
    "    print(\"Topic: {} Word: {}\".format(idx, topic))\n",
    "    print(\"\\n\")"
   ]
  },
  {
   "cell_type": "code",
   "execution_count": 6,
   "metadata": {
    "colab": {
     "base_uri": "https://localhost:8080/",
     "height": 383
    },
    "id": "yVHe-ez3HeNF",
    "outputId": "fb2535f1-a3f7-4e98-924b-176ee7e10e80"
   },
   "outputs": [
    {
     "ename": "ModuleNotFoundError",
     "errorDetails": {
      "actions": [
       {
        "action": "open_url",
        "actionText": "Open Examples",
        "url": "/notebooks/snippets/importing_libraries.ipynb"
       }
      ]
     },
     "evalue": "No module named 'gensim'",
     "output_type": "error",
     "traceback": [
      "\u001b[0;31m---------------------------------------------------------------------------\u001b[0m",
      "\u001b[0;31mModuleNotFoundError\u001b[0m                       Traceback (most recent call last)",
      "\u001b[0;32m/tmp/ipython-input-2770358818.py\u001b[0m in \u001b[0;36m<cell line: 0>\u001b[0;34m()\u001b[0m\n\u001b[0;32m----> 1\u001b[0;31m \u001b[0;32mfrom\u001b[0m \u001b[0mgensim\u001b[0m\u001b[0;34m.\u001b[0m\u001b[0mmodels\u001b[0m \u001b[0;32mimport\u001b[0m \u001b[0mCoherenceModel\u001b[0m\u001b[0;34m\u001b[0m\u001b[0;34m\u001b[0m\u001b[0m\n\u001b[0m\u001b[1;32m      2\u001b[0m \u001b[0;34m\u001b[0m\u001b[0m\n\u001b[1;32m      3\u001b[0m \u001b[0mcoherence_model_lda_idf\u001b[0m \u001b[0;34m=\u001b[0m \u001b[0mCoherenceModel\u001b[0m\u001b[0;34m(\u001b[0m\u001b[0mmodel\u001b[0m\u001b[0;34m=\u001b[0m\u001b[0mlda_model_tfidf\u001b[0m\u001b[0;34m,\u001b[0m \u001b[0mtexts\u001b[0m\u001b[0;34m=\u001b[0m\u001b[0mprocess_docs\u001b[0m\u001b[0;34m,\u001b[0m \u001b[0mdictionary\u001b[0m\u001b[0;34m=\u001b[0m\u001b[0mdic\u001b[0m\u001b[0;34m,\u001b[0m \u001b[0mcoherence\u001b[0m\u001b[0;34m=\u001b[0m\u001b[0;34m'c_v'\u001b[0m\u001b[0;34m)\u001b[0m\u001b[0;34m\u001b[0m\u001b[0;34m\u001b[0m\u001b[0m\n\u001b[1;32m      4\u001b[0m \u001b[0mcoherence_model_lda_idf\u001b[0m \u001b[0;34m=\u001b[0m \u001b[0mcoherence_model_lda_idf\u001b[0m\u001b[0;34m.\u001b[0m\u001b[0mget_coherence\u001b[0m\u001b[0;34m(\u001b[0m\u001b[0;34m)\u001b[0m\u001b[0;34m\u001b[0m\u001b[0;34m\u001b[0m\u001b[0m\n\u001b[1;32m      5\u001b[0m \u001b[0mprint\u001b[0m\u001b[0;34m(\u001b[0m\u001b[0;34m'\\nCoherence Score: '\u001b[0m\u001b[0;34m,\u001b[0m \u001b[0mcoherence_model_lda_idf\u001b[0m\u001b[0;34m)\u001b[0m\u001b[0;34m\u001b[0m\u001b[0;34m\u001b[0m\u001b[0m\n",
      "\u001b[0;31mModuleNotFoundError\u001b[0m: No module named 'gensim'",
      "",
      "\u001b[0;31m---------------------------------------------------------------------------\u001b[0;32m\nNOTE: If your import is failing due to a missing package, you can\nmanually install dependencies using either !pip or !apt.\n\nTo view examples of installing some common dependencies, click the\n\"Open Examples\" button below.\n\u001b[0;31m---------------------------------------------------------------------------\u001b[0m\n"
     ]
    }
   ],
   "source": [
    "from gensim.models import CoherenceModel\n",
    "\n",
    "coherence_model_lda_idf = CoherenceModel(model=lda_model_tfidf, texts=process_docs, dictionary=dic, coherence='c_v')\n",
    "coherence_model_lda_idf = coherence_model_lda_idf.get_coherence()\n",
    "print('\\nCoherence Score: ', coherence_model_lda_idf)"
   ]
  },
  {
   "cell_type": "markdown",
   "metadata": {
    "id": "YxEjdAVOHjf2"
   },
   "source": [
    "**classifying sample document using LDA Bag of Words model**"
   ]
  },
  {
   "cell_type": "code",
   "execution_count": 7,
   "metadata": {
    "colab": {
     "base_uri": "https://localhost:8080/",
     "height": 141
    },
    "id": "EzlyPSPtHgzv",
    "outputId": "0d680202-af3c-402b-f5f7-d8bffc716a8e"
   },
   "outputs": [
    {
     "ename": "NameError",
     "evalue": "name 'process_docs' is not defined",
     "output_type": "error",
     "traceback": [
      "\u001b[0;31m---------------------------------------------------------------------------\u001b[0m",
      "\u001b[0;31mNameError\u001b[0m                                 Traceback (most recent call last)",
      "\u001b[0;32m/tmp/ipython-input-2544540863.py\u001b[0m in \u001b[0;36m<cell line: 0>\u001b[0;34m()\u001b[0m\n\u001b[0;32m----> 1\u001b[0;31m \u001b[0mprocess_docs\u001b[0m\u001b[0;34m[\u001b[0m\u001b[0mdocument_num\u001b[0m\u001b[0;34m]\u001b[0m\u001b[0;34m\u001b[0m\u001b[0;34m\u001b[0m\u001b[0m\n\u001b[0m",
      "\u001b[0;31mNameError\u001b[0m: name 'process_docs' is not defined"
     ]
    }
   ],
   "source": [
    "process_docs[document_num]"
   ]
  },
  {
   "cell_type": "code",
   "execution_count": 8,
   "metadata": {
    "colab": {
     "base_uri": "https://localhost:8080/",
     "height": 158
    },
    "id": "NBiAZdo9Hnyk",
    "outputId": "2a6b34dc-5104-4f8c-e9eb-12859aecf806"
   },
   "outputs": [
    {
     "ename": "NameError",
     "evalue": "name 'lda_model' is not defined",
     "output_type": "error",
     "traceback": [
      "\u001b[0;31m---------------------------------------------------------------------------\u001b[0m",
      "\u001b[0;31mNameError\u001b[0m                                 Traceback (most recent call last)",
      "\u001b[0;32m/tmp/ipython-input-1058352907.py\u001b[0m in \u001b[0;36m<cell line: 0>\u001b[0;34m()\u001b[0m\n\u001b[0;32m----> 1\u001b[0;31m \u001b[0;32mfor\u001b[0m \u001b[0mindex\u001b[0m\u001b[0;34m,\u001b[0m \u001b[0mscore\u001b[0m \u001b[0;32min\u001b[0m \u001b[0msorted\u001b[0m\u001b[0;34m(\u001b[0m\u001b[0mlda_model\u001b[0m\u001b[0;34m[\u001b[0m\u001b[0mbow_corpus\u001b[0m\u001b[0;34m[\u001b[0m\u001b[0mdocument_num\u001b[0m\u001b[0;34m]\u001b[0m\u001b[0;34m]\u001b[0m\u001b[0;34m,\u001b[0m \u001b[0mkey\u001b[0m\u001b[0;34m=\u001b[0m\u001b[0;32mlambda\u001b[0m \u001b[0mtup\u001b[0m\u001b[0;34m:\u001b[0m \u001b[0mtup\u001b[0m\u001b[0;34m[\u001b[0m\u001b[0;36m1\u001b[0m\u001b[0;34m]\u001b[0m\u001b[0;34m,\u001b[0m \u001b[0mreverse\u001b[0m\u001b[0;34m=\u001b[0m\u001b[0;32mTrue\u001b[0m\u001b[0;34m)\u001b[0m\u001b[0;34m:\u001b[0m\u001b[0;34m\u001b[0m\u001b[0;34m\u001b[0m\u001b[0m\n\u001b[0m\u001b[1;32m      2\u001b[0m     \u001b[0mprint\u001b[0m\u001b[0;34m(\u001b[0m\u001b[0;34m\"\\nScore: {}\\t Topic: {}\"\u001b[0m\u001b[0;34m.\u001b[0m\u001b[0mformat\u001b[0m\u001b[0;34m(\u001b[0m\u001b[0mscore\u001b[0m\u001b[0;34m,\u001b[0m \u001b[0mlda_model\u001b[0m\u001b[0;34m.\u001b[0m\u001b[0mprint_topic\u001b[0m\u001b[0;34m(\u001b[0m\u001b[0mindex\u001b[0m\u001b[0;34m,\u001b[0m \u001b[0;36m5\u001b[0m\u001b[0;34m)\u001b[0m\u001b[0;34m)\u001b[0m\u001b[0;34m)\u001b[0m\u001b[0;34m\u001b[0m\u001b[0;34m\u001b[0m\u001b[0m\n",
      "\u001b[0;31mNameError\u001b[0m: name 'lda_model' is not defined"
     ]
    }
   ],
   "source": [
    "for index, score in sorted(lda_model[bow_corpus[document_num]], key=lambda tup: tup[1], reverse=True):\n",
    "    print(\"\\nScore: {}\\t Topic: {}\".format(score, lda_model.print_topic(index, 5)))"
   ]
  },
  {
   "cell_type": "code",
   "execution_count": 9,
   "metadata": {
    "colab": {
     "base_uri": "https://localhost:8080/",
     "height": 141
    },
    "id": "rBYdjdNpHu1e",
    "outputId": "ad1f501c-65d6-4cb6-b439-907affaddeb1"
   },
   "outputs": [
    {
     "ename": "NameError",
     "evalue": "name 'lda_model' is not defined",
     "output_type": "error",
     "traceback": [
      "\u001b[0;31m---------------------------------------------------------------------------\u001b[0m",
      "\u001b[0;31mNameError\u001b[0m                                 Traceback (most recent call last)",
      "\u001b[0;32m/tmp/ipython-input-1866576793.py\u001b[0m in \u001b[0;36m<cell line: 0>\u001b[0;34m()\u001b[0m\n\u001b[0;32m----> 1\u001b[0;31m \u001b[0mlda_model\u001b[0m\u001b[0;34m[\u001b[0m\u001b[0mbow_corpus\u001b[0m\u001b[0;34m[\u001b[0m\u001b[0mdocument_num\u001b[0m\u001b[0;34m]\u001b[0m\u001b[0;34m]\u001b[0m\u001b[0;34m\u001b[0m\u001b[0;34m\u001b[0m\u001b[0m\n\u001b[0m",
      "\u001b[0;31mNameError\u001b[0m: name 'lda_model' is not defined"
     ]
    }
   ],
   "source": [
    "lda_model[bow_corpus[document_num]]"
   ]
  },
  {
   "cell_type": "code",
   "execution_count": 10,
   "metadata": {
    "colab": {
     "base_uri": "https://localhost:8080/",
     "height": 141
    },
    "id": "lVrSxtcOHxhA",
    "outputId": "5fe7ac7f-ec81-49c5-856d-66ef18ba7f8e"
   },
   "outputs": [
    {
     "ename": "NameError",
     "evalue": "name 'lda_model' is not defined",
     "output_type": "error",
     "traceback": [
      "\u001b[0;31m---------------------------------------------------------------------------\u001b[0m",
      "\u001b[0;31mNameError\u001b[0m                                 Traceback (most recent call last)",
      "\u001b[0;32m/tmp/ipython-input-2734158513.py\u001b[0m in \u001b[0;36m<cell line: 0>\u001b[0;34m()\u001b[0m\n\u001b[0;32m----> 1\u001b[0;31m \u001b[0msorted\u001b[0m\u001b[0;34m(\u001b[0m\u001b[0mlda_model\u001b[0m\u001b[0;34m[\u001b[0m\u001b[0mbow_corpus\u001b[0m\u001b[0;34m[\u001b[0m\u001b[0mdocument_num\u001b[0m\u001b[0;34m]\u001b[0m\u001b[0;34m]\u001b[0m\u001b[0;34m,\u001b[0m \u001b[0mkey\u001b[0m\u001b[0;34m=\u001b[0m\u001b[0;32mlambda\u001b[0m \u001b[0mtup\u001b[0m\u001b[0;34m:\u001b[0m \u001b[0mtup\u001b[0m\u001b[0;34m[\u001b[0m\u001b[0;36m1\u001b[0m\u001b[0;34m]\u001b[0m\u001b[0;34m,\u001b[0m \u001b[0mreverse\u001b[0m\u001b[0;34m=\u001b[0m\u001b[0;32mTrue\u001b[0m\u001b[0;34m)\u001b[0m\u001b[0;34m\u001b[0m\u001b[0;34m\u001b[0m\u001b[0m\n\u001b[0m",
      "\u001b[0;31mNameError\u001b[0m: name 'lda_model' is not defined"
     ]
    }
   ],
   "source": [
    "sorted(lda_model[bow_corpus[document_num]], key=lambda tup: tup[1], reverse=True)"
   ]
  },
  {
   "cell_type": "code",
   "execution_count": 11,
   "metadata": {
    "colab": {
     "base_uri": "https://localhost:8080/",
     "height": 141
    },
    "id": "plnINTQ4H0ho",
    "outputId": "25a076b6-b8d9-4284-e596-360f766c01d2"
   },
   "outputs": [
    {
     "ename": "NameError",
     "evalue": "name 'lda_model' is not defined",
     "output_type": "error",
     "traceback": [
      "\u001b[0;31m---------------------------------------------------------------------------\u001b[0m",
      "\u001b[0;31mNameError\u001b[0m                                 Traceback (most recent call last)",
      "\u001b[0;32m/tmp/ipython-input-4198281400.py\u001b[0m in \u001b[0;36m<cell line: 0>\u001b[0;34m()\u001b[0m\n\u001b[0;32m----> 1\u001b[0;31m \u001b[0mlda_model\u001b[0m\u001b[0;34m.\u001b[0m\u001b[0mprint_topic\u001b[0m\u001b[0;34m(\u001b[0m\u001b[0mindex\u001b[0m\u001b[0;34m,\u001b[0m \u001b[0;36m10\u001b[0m\u001b[0;34m)\u001b[0m\u001b[0;34m\u001b[0m\u001b[0;34m\u001b[0m\u001b[0m\n\u001b[0m",
      "\u001b[0;31mNameError\u001b[0m: name 'lda_model' is not defined"
     ]
    }
   ],
   "source": [
    "lda_model.print_topic(index, 10)"
   ]
  },
  {
   "cell_type": "markdown",
   "metadata": {
    "id": "4tjI1kvdJbqq"
   },
   "source": [
    "**classifying sample document using LDA TF-IDF model**"
   ]
  },
  {
   "cell_type": "code",
   "execution_count": 12,
   "metadata": {
    "colab": {
     "base_uri": "https://localhost:8080/",
     "height": 158
    },
    "id": "sFzBGFQCJZNZ",
    "outputId": "c48a2d6d-f6f5-48d5-82df-96c1303331b9"
   },
   "outputs": [
    {
     "ename": "NameError",
     "evalue": "name 'lda_model_tfidf' is not defined",
     "output_type": "error",
     "traceback": [
      "\u001b[0;31m---------------------------------------------------------------------------\u001b[0m",
      "\u001b[0;31mNameError\u001b[0m                                 Traceback (most recent call last)",
      "\u001b[0;32m/tmp/ipython-input-1534579684.py\u001b[0m in \u001b[0;36m<cell line: 0>\u001b[0;34m()\u001b[0m\n\u001b[0;32m----> 1\u001b[0;31m \u001b[0;32mfor\u001b[0m \u001b[0mindex\u001b[0m\u001b[0;34m,\u001b[0m \u001b[0mscore\u001b[0m \u001b[0;32min\u001b[0m \u001b[0msorted\u001b[0m\u001b[0;34m(\u001b[0m\u001b[0mlda_model_tfidf\u001b[0m\u001b[0;34m[\u001b[0m\u001b[0mbow_corpus\u001b[0m\u001b[0;34m[\u001b[0m\u001b[0mdocument_num\u001b[0m\u001b[0;34m]\u001b[0m\u001b[0;34m]\u001b[0m\u001b[0;34m,\u001b[0m \u001b[0mkey\u001b[0m\u001b[0;34m=\u001b[0m\u001b[0;32mlambda\u001b[0m \u001b[0mtup\u001b[0m\u001b[0;34m:\u001b[0m \u001b[0mtup\u001b[0m\u001b[0;34m[\u001b[0m\u001b[0;36m1\u001b[0m\u001b[0;34m]\u001b[0m\u001b[0;34m,\u001b[0m \u001b[0mreverse\u001b[0m\u001b[0;34m=\u001b[0m\u001b[0;32mTrue\u001b[0m\u001b[0;34m)\u001b[0m\u001b[0;34m:\u001b[0m\u001b[0;34m\u001b[0m\u001b[0;34m\u001b[0m\u001b[0m\n\u001b[0m\u001b[1;32m      2\u001b[0m     \u001b[0mprint\u001b[0m\u001b[0;34m(\u001b[0m\u001b[0;34m\"\\nScore: {}\\t Topic: {}\"\u001b[0m\u001b[0;34m.\u001b[0m\u001b[0mformat\u001b[0m\u001b[0;34m(\u001b[0m\u001b[0mscore\u001b[0m\u001b[0;34m,\u001b[0m \u001b[0mlda_model_tfidf\u001b[0m\u001b[0;34m.\u001b[0m\u001b[0mprint_topic\u001b[0m\u001b[0;34m(\u001b[0m\u001b[0mindex\u001b[0m\u001b[0;34m,\u001b[0m \u001b[0;36m5\u001b[0m\u001b[0;34m)\u001b[0m\u001b[0;34m)\u001b[0m\u001b[0;34m)\u001b[0m\u001b[0;34m\u001b[0m\u001b[0;34m\u001b[0m\u001b[0m\n",
      "\u001b[0;31mNameError\u001b[0m: name 'lda_model_tfidf' is not defined"
     ]
    }
   ],
   "source": [
    "for index, score in sorted(lda_model_tfidf[bow_corpus[document_num]], key=lambda tup: tup[1], reverse=True):\n",
    "    print(\"\\nScore: {}\\t Topic: {}\".format(score, lda_model_tfidf.print_topic(index, 5)))"
   ]
  },
  {
   "cell_type": "markdown",
   "metadata": {
    "id": "6Ukmmq6wJkCF"
   },
   "source": [
    "**Testing model on unseen document**"
   ]
  },
  {
   "cell_type": "code",
   "execution_count": null,
   "metadata": {
    "colab": {
     "base_uri": "https://localhost:8080/"
    },
    "id": "1ptdEnf0Jhjl",
    "outputId": "930ad22d-a358-4895-c0d4-45c795c839a3"
   },
   "outputs": [
    {
     "name": "stdout",
     "output_type": "stream",
     "text": [
      "Score: 0.549958348274231\t Topik 0.078*\"israel\" + 0.062*\"serang\" + 0.054*\"dunia\" + 0.050*\"mobil\" + 0.049*\"gaza\"\n",
      "Score: 0.0500214658677578\t Topik 0.132*\"presiden\" + 0.081*\"salah\" + 0.078*\"milik\" + 0.045*\"wakil\" + 0.043*\"subianto\"\n",
      "Score: 0.0500151701271534\t Topik 0.098*\"film\" + 0.081*\"sosial\" + 0.079*\"media\" + 0.078*\"jakarta\" + 0.061*\"usaha\"\n",
      "Score: 0.050001878291368484\t Topik 0.107*\"timnas\" + 0.078*\"lebanon\" + 0.064*\"fifa\" + 0.064*\"matchday\" + 0.058*\"laga\"\n",
      "Score: 0.05000173673033714\t Topik 0.085*\"rumah\" + 0.080*\"demo\" + 0.057*\"resmi\" + 0.057*\"juta\" + 0.057*\"menteri\"\n",
      "Score: 0.05000028759241104\t Topik 0.097*\"korea\" + 0.096*\"piala\" + 0.095*\"timnas\" + 0.079*\"asia\" + 0.072*\"kualifikasi\"\n",
      "Score: 0.05000028759241104\t Topik 0.125*\"september\" + 0.070*\"lapor\" + 0.067*\"main\" + 0.057*\"total\" + 0.045*\"nilai\"\n",
      "Score: 0.05000028759241104\t Topik 0.092*\"senin\" + 0.063*\"listrik\" + 0.058*\"lebanon\" + 0.051*\"timnas\" + 0.051*\"ribu\"\n",
      "Score: 0.05000028759241104\t Topik 0.101*\"makan\" + 0.073*\"perintah\" + 0.053*\"perdana\" + 0.041*\"harga\" + 0.040*\"menteri\"\n",
      "Score: 0.05000028759241104\t Topik 0.107*\"menteri\" + 0.076*\"purbaya\" + 0.076*\"sadewa\" + 0.076*\"yudhi\" + 0.071*\"uang\"\n"
     ]
    }
   ],
   "source": [
    "unseen_document = \"Perkenalkan saya Rifqi\"\n",
    "\n",
    "bow_vector = dic.doc2bow(preprocess(unseen_document))\n",
    "for index, score in sorted(lda_model[bow_vector], key = lambda tup : tup[1], reverse=True):\n",
    "  print('Score: {}\\t Topik {}'.format(score, lda_model.print_topic(index, 5)))"
   ]
  },
  {
   "cell_type": "code",
   "execution_count": null,
   "metadata": {
    "id": "unxdhZY0Jwip"
   },
   "outputs": [],
   "source": []
  }
 ],
 "metadata": {
  "colab": {
   "provenance": []
  },
  "kernelspec": {
   "display_name": "Python 3",
   "name": "python3"
  },
  "language_info": {
   "codemirror_mode": {
    "name": "ipython",
    "version": 3
   },
   "file_extension": ".py",
   "mimetype": "text/x-python",
   "name": "python",
   "nbconvert_exporter": "python",
   "pygments_lexer": "ipython3",
   "version": "3.11.9"
  }
 },
 "nbformat": 4,
 "nbformat_minor": 0
}