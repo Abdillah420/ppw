{
 "cells": [
  {
   "cell_type": "markdown",
   "metadata": {},
   "source": [
    "# Analisis Klasifikasi Berita dengan Topik Modelling\n",
    "## Menggunakan Naive Bayes dan SVM\n",
    "\n",
    "Proyek ini melakukan analisis klasifikasi berita dengan:\n",
    "1. Ekstraksi fitur menggunakan TF-IDF dan LDA (Latent Dirichlet Allocation)\n",
    "2. Classifier Naive Bayes dan SVM\n",
    "3. Evaluasi performa dengan confusion matrix dan cross validation\n",
    "\n",
    "**Dataset**: Berita.csv (1500 berita dengan 4 kategori: Ekonomi, Olahraga, Nasional, Internasional)\n"
   ]
  },
  {
   "cell_type": "code",
   "execution_count": 29,
   "metadata": {},
   "outputs": [
    {
     "name": "stdout",
     "output_type": "stream",
     "text": [
      "Python executable: c:\\Users\\LX\\AppData\\Local\\Programs\\Python\\Python311\\python.exe\n"
     ]
    },
    {
     "data": {
      "text/plain": [
       "0"
      ]
     },
     "execution_count": 29,
     "metadata": {},
     "output_type": "execute_result"
    }
   ],
   "source": [
    "import sys, subprocess\n",
    "print(\"Python executable:\", sys.executable)\n",
    "subprocess.check_call([sys.executable, \"-m\", \"pip\", \"install\", \"nltk\", \"gensim\", \"Sastrawi\", \"scikit-learn\", \"matplotlib\", \"seaborn\", \"pandas\", \"numpy\"])"
   ]
  },
  {
   "cell_type": "code",
   "execution_count": 30,
   "metadata": {},
   "outputs": [
    {
     "name": "stderr",
     "output_type": "stream",
     "text": [
      "[nltk_data] Downloading package punkt to\n",
      "[nltk_data]     C:\\Users\\LX\\AppData\\Roaming\\nltk_data...\n",
      "[nltk_data]   Package punkt is already up-to-date!\n",
      "[nltk_data] Downloading package stopwords to\n",
      "[nltk_data]     C:\\Users\\LX\\AppData\\Roaming\\nltk_data...\n",
      "[nltk_data]   Package stopwords is already up-to-date!\n"
     ]
    },
    {
     "data": {
      "text/plain": [
       "True"
      ]
     },
     "execution_count": 30,
     "metadata": {},
     "output_type": "execute_result"
    }
   ],
   "source": [
    "import nltk\n",
    "nltk.download('punkt')\n",
    "nltk.download('stopwords')"
   ]
  },
  {
   "cell_type": "code",
   "execution_count": null,
   "metadata": {},
   "outputs": [
    {
     "name": "stdout",
     "output_type": "stream",
     "text": [
      "NLTK data berhasil diunduh\n",
      "Semua library berhasil diimport!\n"
     ]
    }
   ],
   "source": [
    "# Cell 1: Import Libraries\n",
    "import pandas as pd\n",
    "import numpy as np\n",
    "import re\n",
    "import string\n",
    "from collections import Counter\n",
    "import matplotlib.pyplot as plt\n",
    "import seaborn as sns\n",
    "\n",
    "# Import libraries untuk preprocessing\n",
    "from sklearn.feature_extraction.text import TfidfVectorizer\n",
    "from sklearn.model_selection import train_test_split, cross_val_score\n",
    "from sklearn.naive_bayes import MultinomialNB\n",
    "from sklearn.svm import SVC\n",
    "from sklearn.metrics import classification_report, confusion_matrix, accuracy_score\n",
    "from sklearn.preprocessing import LabelEncoder\n",
    "\n",
    "# Import libraries untuk topic modelling\n",
    "from gensim import corpora, models\n",
    "from gensim.models import LdaModel\n",
    "import gensim.corpora as corpora\n",
    "from gensim.utils import simple_preprocess\n",
    "\n",
    "# Import libraries untuk preprocessing teks\n",
    "import nltk\n",
    "from nltk.corpus import stopwords\n",
    "from nltk.tokenize import word_tokenize\n",
    "from nltk.stem import PorterStemmer\n",
    "from Sastrawi.Stemmer.StemmerFactory import StemmerFactory\n",
    "\n",
    "# Download required NLTK data\n",
    "try:\n",
    "    nltk.download('punkt', quiet=True)\n",
    "    nltk.download('stopwords', quiet=True)\n",
    "    print(\"NLTK data berhasil diunduh\")\n",
    "except:\n",
    "    print(\"Gagal mengunduh NLTK data\")\n",
    "\n",
    "print(\"Semua library berhasil diimport!\")\n"
   ]
  },
  {
   "cell_type": "code",
   "execution_count": 32,
   "metadata": {},
   "outputs": [
    {
     "name": "stdout",
     "output_type": "stream",
     "text": [
      "Class KlasifikasiBerita berhasil didefinisikan!\n"
     ]
    }
   ],
   "source": [
    "# Cell 2: Definisi Class KlasifikasiBerita\n",
    "class KlasifikasiBerita:\n",
    "    def __init__(self):\n",
    "        self.data = None\n",
    "        self.X_train = None\n",
    "        self.X_test = None\n",
    "        self.y_train = None\n",
    "        self.y_test = None\n",
    "        self.tfidf_vectorizer = None\n",
    "        self.lda_model = None\n",
    "        self.nb_model = None\n",
    "        self.svm_model = None\n",
    "        self.label_encoder = LabelEncoder()\n",
    "        \n",
    "        # Inisialisasi stemmer untuk bahasa Indonesia\n",
    "        self.factory = StemmerFactory()\n",
    "        self.stemmer = self.factory.create_stemmer()\n",
    "        \n",
    "        # Stopwords bahasa Indonesia\n",
    "        self.indonesian_stopwords = set([\n",
    "            'yang', 'dan', 'di', 'ke', 'dari', 'ini', 'itu', 'dengan', 'untuk', 'pada',\n",
    "            'adalah', 'akan', 'telah', 'sudah', 'belum', 'tidak', 'bukan', 'juga',\n",
    "            'atau', 'namun', 'tetapi', 'karena', 'jika', 'ketika', 'sebagai', 'dalam',\n",
    "            'oleh', 'dengan', 'serta', 'atau', 'namun', 'tetapi', 'karena', 'jika',\n",
    "            'ketika', 'sebagai', 'dalam', 'oleh', 'dengan', 'serta', 'bisa', 'dapat',\n",
    "            'harus', 'perlu', 'mungkin', 'akan', 'sedang', 'sudah', 'telah', 'baru',\n",
    "            'saja', 'hanya', 'bahkan', 'juga', 'juga', 'lagi', 'masih', 'tetap',\n",
    "            'selalu', 'kadang', 'sering', 'biasa', 'umum', 'khusus', 'terutama'\n",
    "        ])\n",
    "    \n",
    "    def load_data(self, file_path):\n",
    "        \"\"\"Load data dari CSV file\"\"\"\n",
    "        print(\"Memuat data dari CSV...\")\n",
    "        self.data = pd.read_csv(file_path)\n",
    "        print(f\"Data berhasil dimuat: {len(self.data)} berita\")\n",
    "        print(f\"Kategori: {self.data['kategori'].value_counts().to_dict()}\")\n",
    "        return self.data\n",
    "    \n",
    "    def preprocess_text(self, text):\n",
    "        \"\"\"Preprocessing teks untuk bahasa Indonesia\"\"\"\n",
    "        if pd.isna(text):\n",
    "            return \"\"\n",
    "        \n",
    "        # Konversi ke lowercase\n",
    "        text = text.lower()\n",
    "        \n",
    "        # Hapus karakter khusus dan angka\n",
    "        text = re.sub(r'[^\\w\\s]', ' ', text)\n",
    "        text = re.sub(r'\\d+', '', text)\n",
    "        \n",
    "        # Hapus whitespace berlebih\n",
    "        text = re.sub(r'\\s+', ' ', text).strip()\n",
    "        \n",
    "        # Tokenisasi\n",
    "        tokens = word_tokenize(text)\n",
    "        \n",
    "        # Hapus stopwords\n",
    "        tokens = [token for token in tokens if token not in self.indonesian_stopwords]\n",
    "        \n",
    "        # Stemming\n",
    "        tokens = [self.stemmer.stem(token) for token in tokens]\n",
    "        \n",
    "        # Hapus token yang terlalu pendek\n",
    "        tokens = [token for token in tokens if len(token) > 2]\n",
    "        \n",
    "        return ' '.join(tokens)\n",
    "\n",
    "print(\"Class KlasifikasiBerita berhasil didefinisikan!\")\n"
   ]
  },
  {
   "cell_type": "code",
   "execution_count": null,
   "metadata": {},
   "outputs": [
    {
     "name": "stdout",
     "output_type": "stream",
     "text": [
      "Metode untuk persiapan data dan ekstraksi fitur berhasil ditambahkan!\n"
     ]
    }
   ],
   "source": [
    "# Cell 3: Metode untuk Persiapan Data dan Ekstraksi Fitur\n",
    "def prepare_data(self):\n",
    "    \"\"\"Mempersiapkan data untuk training dan testing\"\"\"\n",
    "    print(\"Memproses data...\")\n",
    "    \n",
    "    # Preprocessing teks\n",
    "    self.data['berita_processed'] = self.data['berita'].apply(self.preprocess_text)\n",
    "    \n",
    "    # Gabungkan judul dan berita\n",
    "    self.data['text_combined'] = self.data['judul'] + ' ' + self.data['berita_processed']\n",
    "    \n",
    "    # Encode labels\n",
    "    y = self.label_encoder.fit_transform(self.data['kategori'])\n",
    "    \n",
    "    # Split data\n",
    "    self.X_train, self.X_test, self.y_train, self.y_test = train_test_split(\n",
    "        self.data['text_combined'], y, test_size=0.2, random_state=42, stratify=y\n",
    "    )\n",
    "    \n",
    "    print(f\"Data training: {len(self.X_train)}\")\n",
    "    print(f\"Data testing: {len(self.X_test)}\")\n",
    "\n",
    "def extract_tfidf_features(self):\n",
    "    \"\"\"Ekstraksi fitur menggunakan TF-IDF\"\"\"\n",
    "    print(\"Ekstraksi fitur TF-IDF...\")\n",
    "    \n",
    "    self.tfidf_vectorizer = TfidfVectorizer(\n",
    "        max_features=5000,\n",
    "        ngram_range=(1, 2),\n",
    "        min_df=2,\n",
    "        max_df=0.95\n",
    "    )\n",
    "    \n",
    "    X_train_tfidf = self.tfidf_vectorizer.fit_transform(self.X_train)\n",
    "    X_test_tfidf = self.tfidf_vectorizer.transform(self.X_test)\n",
    "    \n",
    "    return X_train_tfidf, X_test_tfidf\n",
    "\n",
    "def extract_lda_features(self, num_topics=10):\n",
    "    \"\"\"Ekstraksi fitur menggunakan LDA (Latent Dirichlet Allocation)\"\"\"\n",
    "    print(f\"Ekstraksi fitur LDA dengan {num_topics} topik...\")\n",
    "\n",
    "    # Persiapan dokumen untuk LDA\n",
    "    documents = [doc.split() for doc in self.X_train]\n",
    "\n",
    "    # Buat dictionary dan corpus (bag-of-words)\n",
    "    dictionary = corpora.Dictionary(documents)\n",
    "    dictionary.filter_extremes(no_below=2, no_above=0.95)\n",
    "    corpus = [dictionary.doc2bow(doc) for doc in documents]\n",
    "\n",
    "    # Train LDA model\n",
    "    self.lda_model = LdaModel(\n",
    "        corpus=corpus,\n",
    "        id2word=dictionary,\n",
    "        num_topics=num_topics,\n",
    "        random_state=42,\n",
    "        passes=10,\n",
    "        alpha='auto',\n",
    "        per_word_topics=True\n",
    "    )\n",
    "\n",
    "    # Ekstraksi fitur LDA untuk training data\n",
    "    X_train_lda = []\n",
    "    for doc in documents:\n",
    "        bow = dictionary.doc2bow(doc)\n",
    "        topics = self.lda_model.get_document_topics(bow, minimum_probability=0.0)\n",
    "        topic_probs = [prob for _, prob in topics]\n",
    "        X_train_lda.append(topic_probs)\n",
    "\n",
    "    # Ekstraksi fitur LDA untuk testing data\n",
    "    X_test_lda = []\n",
    "    test_documents = [doc.split() for doc in self.X_test]\n",
    "    for doc in test_documents:\n",
    "        bow = dictionary.doc2bow(doc)\n",
    "        topics = self.lda_model.get_document_topics(bow, minimum_probability=0.0)\n",
    "        topic_probs = [prob for _, prob in topics]\n",
    "        X_test_lda.append(topic_probs)\n",
    "\n",
    "    return np.array(X_train_lda), np.array(X_test_lda)\n",
    "\n",
    "# Tambahkan method ke class\n",
    "KlasifikasiBerita.prepare_data = prepare_data\n",
    "KlasifikasiBerita.extract_tfidf_features = extract_tfidf_features\n",
    "KlasifikasiBerita.extract_lda_features = extract_lda_features\n",
    "\n",
    "print(\"Metode untuk persiapan data dan ekstraksi fitur berhasil ditambahkan!\")\n"
   ]
  },
  {
   "cell_type": "code",
   "execution_count": null,
   "metadata": {},
   "outputs": [
    {
     "name": "stdout",
     "output_type": "stream",
     "text": [
      "Metode untuk training classifier berhasil ditambahkan!\n"
     ]
    }
   ],
   "source": [
    "# Cell 4: Metode untuk Training Classifier\n",
    "def train_naive_bayes(self, X_train, X_test):\n",
    "    \"\"\"Training model Naive Bayes\"\"\"\n",
    "    print(\"Training Naive Bayes...\")\n",
    "    \n",
    "    self.nb_model = MultinomialNB(alpha=1.0)\n",
    "    self.nb_model.fit(X_train, self.y_train)\n",
    "    \n",
    "    # Prediksi\n",
    "    y_pred_nb = self.nb_model.predict(X_test)\n",
    "    \n",
    "    # Evaluasi\n",
    "    accuracy_nb = accuracy_score(self.y_test, y_pred_nb)\n",
    "    print(f\"Akurasi Naive Bayes: {accuracy_nb:.4f}\")\n",
    "    \n",
    "    return y_pred_nb, accuracy_nb\n",
    "\n",
    "def train_svm(self, X_train, X_test):\n",
    "    \"\"\"Training model SVM\"\"\"\n",
    "    print(\"Training SVM...\")\n",
    "    \n",
    "    self.svm_model = SVC(kernel='linear', C=1.0, random_state=42)\n",
    "    self.svm_model.fit(X_train, self.y_train)\n",
    "    \n",
    "    # Prediksi\n",
    "    y_pred_svm = self.svm_model.predict(X_test)\n",
    "    \n",
    "    # Evaluasi\n",
    "    accuracy_svm = accuracy_score(self.y_test, y_pred_svm)\n",
    "    print(f\"Akurasi SVM: {accuracy_svm:.4f}\")\n",
    "    \n",
    "    return y_pred_svm, accuracy_svm\n",
    "\n",
    "def show_lda_topics(self):\n",
    "    \"\"\"Menampilkan topik-topik yang ditemukan oleh LDA\"\"\"\n",
    "    if self.lda_model is None:\n",
    "        print(\"LDA model belum di-train!\")\n",
    "        return\n",
    "    \n",
    "    print(\"\\n=== TOPIK-TOPIK LDA ===\")\n",
    "    topics = self.lda_model.print_topics(num_words=10)\n",
    "    for idx, topic in enumerate(topics):\n",
    "        print(f\"Topik {idx + 1}: {topic}\")\n",
    "\n",
    "# Tambahkan method ke class\n",
    "KlasifikasiBerita.train_naive_bayes = train_naive_bayes\n",
    "KlasifikasiBerita.train_svm = train_svm\n",
    "KlasifikasiBerita.show_lda_topics = show_lda_topics\n",
    "\n",
    "print(\"Metode untuk training classifier berhasil ditambahkan!\")\n"
   ]
  },
  {
   "cell_type": "code",
   "execution_count": 35,
   "metadata": {},
   "outputs": [
    {
     "name": "stdout",
     "output_type": "stream",
     "text": [
      "Metode untuk evaluasi model berhasil ditambahkan!\n"
     ]
    }
   ],
   "source": [
    "# Cell 5: Metode untuk Evaluasi Model\n",
    "def evaluate_models(self, y_pred_nb, y_pred_svm):\n",
    "    \"\"\"Evaluasi dan perbandingan model\"\"\"\n",
    "    print(\"\\n=== EVALUASI MODEL ===\")\n",
    "    \n",
    "    # Classification Report\n",
    "    print(\"\\n--- Naive Bayes ---\")\n",
    "    print(classification_report(self.y_test, y_pred_nb, \n",
    "                              target_names=self.label_encoder.classes_))\n",
    "    \n",
    "    print(\"\\n--- SVM ---\")\n",
    "    print(classification_report(self.y_test, y_pred_svm, \n",
    "                              target_names=self.label_encoder.classes_))\n",
    "    \n",
    "    # Confusion Matrix\n",
    "    fig, (ax1, ax2) = plt.subplots(1, 2, figsize=(15, 6))\n",
    "    \n",
    "    # Naive Bayes Confusion Matrix\n",
    "    cm_nb = confusion_matrix(self.y_test, y_pred_nb)\n",
    "    sns.heatmap(cm_nb, annot=True, fmt='d', cmap='Blues', ax=ax1)\n",
    "    ax1.set_title('Confusion Matrix - Naive Bayes')\n",
    "    ax1.set_xlabel('Predicted')\n",
    "    ax1.set_ylabel('Actual')\n",
    "    ax1.set_xticklabels(self.label_encoder.classes_, rotation=45)\n",
    "    ax1.set_yticklabels(self.label_encoder.classes_, rotation=0)\n",
    "    \n",
    "    # SVM Confusion Matrix\n",
    "    cm_svm = confusion_matrix(self.y_test, y_pred_svm)\n",
    "    sns.heatmap(cm_svm, annot=True, fmt='d', cmap='Reds', ax=ax2)\n",
    "    ax2.set_title('Confusion Matrix - SVM')\n",
    "    ax2.set_xlabel('Predicted')\n",
    "    ax2.set_ylabel('Actual')\n",
    "    ax2.set_xticklabels(self.label_encoder.classes_, rotation=45)\n",
    "    ax2.set_yticklabels(self.label_encoder.classes_, rotation=0)\n",
    "    \n",
    "    plt.tight_layout()\n",
    "    plt.savefig('confusion_matrix.png', dpi=300, bbox_inches='tight')\n",
    "    plt.show()\n",
    "\n",
    "def cross_validation_evaluation(self, X_train, X_test):\n",
    "    \"\"\"Evaluasi dengan cross validation\"\"\"\n",
    "    print(\"\\n=== CROSS VALIDATION ===\")\n",
    "    \n",
    "    # Cross validation untuk Naive Bayes\n",
    "    nb_cv_scores = cross_val_score(MultinomialNB(), X_train, self.y_train, cv=5)\n",
    "    print(f\"Naive Bayes CV Scores: {nb_cv_scores}\")\n",
    "    print(f\"Naive Bayes CV Mean: {nb_cv_scores.mean():.4f} (+/- {nb_cv_scores.std() * 2:.4f})\")\n",
    "    \n",
    "    # Cross validation untuk SVM\n",
    "    svm_cv_scores = cross_val_score(SVC(kernel='linear', C=1.0), X_train, self.y_train, cv=5)\n",
    "    print(f\"SVM CV Scores: {svm_cv_scores}\")\n",
    "    print(f\"SVM CV Mean: {svm_cv_scores.mean():.4f} (+/- {svm_cv_scores.std() * 2:.4f})\")\n",
    "\n",
    "# Tambahkan method ke class\n",
    "KlasifikasiBerita.evaluate_models = evaluate_models\n",
    "KlasifikasiBerita.cross_validation_evaluation = cross_validation_evaluation\n",
    "\n",
    "print(\"Metode untuk evaluasi model berhasil ditambahkan!\")\n"
   ]
  },
  {
   "cell_type": "markdown",
   "metadata": {},
   "source": [
    "## 1. Load dan Eksplorasi Data\n"
   ]
  },
  {
   "cell_type": "code",
   "execution_count": 36,
   "metadata": {},
   "outputs": [
    {
     "name": "stdout",
     "output_type": "stream",
     "text": [
      "Memuat data dari CSV...\n",
      "Data berhasil dimuat: 1500 berita\n",
      "Kategori: {'Ekonomi': 375, 'Olahraga': 375, 'Nasional': 375, 'Internasional': 375}\n",
      "\n",
      "=== INFORMASI DATA ===\n",
      "Total berita: 1500\n",
      "Kolom: ['No', 'judul', 'berita', 'tanggal', 'kategori', 'link']\n",
      "Kategori unik: ['Ekonomi' 'Olahraga' 'Nasional' 'Internasional']\n",
      "\n",
      "=== DISTRIBUSI KATEGORI ===\n",
      "kategori\n",
      "Ekonomi          375\n",
      "Olahraga         375\n",
      "Nasional         375\n",
      "Internasional    375\n",
      "Name: count, dtype: int64\n",
      "\n",
      "=== CONTOH DATA ===\n",
      "                                               judul kategori\n",
      "0  Airlangga Harap Kenaikan UMP Tingkatkan Daya B...  Ekonomi\n",
      "1  PT SIER Beri Penghargaan untuk 50 Tenant Terba...  Ekonomi\n",
      "2  Prabowo Bakal Bentuk Kementerian Penerimaan Ne...  Ekonomi\n",
      "3  Sinergi Kemenag & BPJS Ketenagakerjaan Lindung...  Ekonomi\n",
      "4  Pemerintah Segera Bentuk Satgas PHK Usai Tetap...  Ekonomi\n"
     ]
    }
   ],
   "source": [
    "# Cell 6: Load dan Eksplorasi Data\n",
    "# Inisialisasi classifier\n",
    "classifier = KlasifikasiBerita()\n",
    "\n",
    "# Load data\n",
    "data = classifier.load_data('Berita.csv')\n",
    "\n",
    "# Tampilkan informasi dasar tentang data\n",
    "print(\"\\n=== INFORMASI DATA ===\")\n",
    "print(f\"Total berita: {len(data)}\")\n",
    "print(f\"Kolom: {list(data.columns)}\")\n",
    "print(f\"Kategori unik: {data['kategori'].unique()}\")\n",
    "\n",
    "# Tampilkan distribusi kategori\n",
    "print(\"\\n=== DISTRIBUSI KATEGORI ===\")\n",
    "print(data['kategori'].value_counts())\n",
    "\n",
    "# Tampilkan contoh data\n",
    "print(\"\\n=== CONTOH DATA ===\")\n",
    "print(data[['judul', 'kategori']].head())\n"
   ]
  },
  {
   "cell_type": "markdown",
   "metadata": {},
   "source": [
    "## 2. Preprocessing Data\n"
   ]
  },
  {
   "cell_type": "code",
   "execution_count": 37,
   "metadata": {},
   "outputs": [
    {
     "name": "stdout",
     "output_type": "stream",
     "text": [
      "Memproses data...\n",
      "Data training: 1200\n",
      "Data testing: 300\n",
      "\n",
      "=== CONTOH TEKS YANG SUDAH DIPROSES ===\n",
      "\n",
      "Berita 1:\n",
      "Judul asli: Airlangga Harap Kenaikan UMP Tingkatkan Daya Beli Masyarakat Menengah\n",
      "Berita asli (100 karakter pertama): Menteri Koordinator (Menko) Bidang Perekonomian Airlangga Hartarto berharap kenaikan upah minimum pr...\n",
      "Berita yang diproses (100 karakter pertama): menteri koordinator menko bidang ekonomi airlangga hartarto harap naik upah minimum provinsi ump bes...\n",
      "Kategori: Ekonomi\n",
      "\n",
      "Berita 2:\n",
      "Judul asli: PT SIER Beri Penghargaan untuk 50 Tenant Terbaik di HUT ke-50\n",
      "Berita asli (100 karakter pertama): Dalam rangka memeriahkan hari jadi ke-50, PT Surabaya Industrial Estate Rungkut (PT SIER) menggelar ...\n",
      "Berita yang diproses (100 karakter pertama): rangka riah hari jadi surabaya industrial estate rungkut sier gelar acara tajuk green industrial awa...\n",
      "Kategori: Ekonomi\n",
      "\n",
      "Berita 3:\n",
      "Judul asli: Prabowo Bakal Bentuk Kementerian Penerimaan Negara, Dipimpin Anggito\n",
      "Berita asli (100 karakter pertama): Wacana Presiden Prabowo Subianto akan membentuk akan membentuk Kementerian Penerimaan Negara kembali...\n",
      "Berita yang diproses (100 karakter pertama): wacana presiden prabowo subianto bentuk bentuk menteri terima negara kembali santer edar sinyal bent...\n",
      "Kategori: Ekonomi\n"
     ]
    }
   ],
   "source": [
    "# Cell 7: Preprocessing Data\n",
    "# Persiapan data untuk training dan testing\n",
    "classifier.prepare_data()\n",
    "\n",
    "# Tampilkan contoh teks yang sudah diproses\n",
    "print(\"\\n=== CONTOH TEKS YANG SUDAH DIPROSES ===\")\n",
    "for i in range(3):\n",
    "    print(f\"\\nBerita {i+1}:\")\n",
    "    print(f\"Judul asli: {data['judul'].iloc[i]}\")\n",
    "    print(f\"Berita asli (100 karakter pertama): {data['berita'].iloc[i][:100]}...\")\n",
    "    print(f\"Berita yang diproses (100 karakter pertama): {classifier.data['berita_processed'].iloc[i][:100]}...\")\n",
    "    print(f\"Kategori: {data['kategori'].iloc[i]}\")\n"
   ]
  },
  {
   "cell_type": "markdown",
   "metadata": {},
   "source": [
    "## 3. Ekstraksi Fitur TF-IDF\n"
   ]
  },
  {
   "cell_type": "code",
   "execution_count": 40,
   "metadata": {},
   "outputs": [
    {
     "name": "stdout",
     "output_type": "stream",
     "text": [
      "Ekstraksi fitur TF-IDF...\n",
      "Shape TF-IDF training: (1200, 5000)\n",
      "Shape TF-IDF testing: (300, 5000)\n",
      "Jumlah fitur TF-IDF: 5000\n",
      "\n",
      "Contoh fitur TF-IDF (10 pertama): ['10' '12' '12 persen' '20' '2024' '2025' 'abbas' 'abdul' 'abdul karim'\n",
      " 'abrasi']\n"
     ]
    }
   ],
   "source": [
    "# Cell 8: Ekstraksi Fitur TF-IDF\n",
    "# Ekstraksi fitur menggunakan TF-IDF\n",
    "X_train_tfidf, X_test_tfidf = classifier.extract_tfidf_features()\n",
    "\n",
    "print(f\"Shape TF-IDF training: {X_train_tfidf.shape}\")\n",
    "print(f\"Shape TF-IDF testing: {X_test_tfidf.shape}\")\n",
    "print(f\"Jumlah fitur TF-IDF: {X_train_tfidf.shape[1]}\")\n",
    "\n",
    "# Tampilkan beberapa fitur penting\n",
    "feature_names = classifier.tfidf_vectorizer.get_feature_names_out()\n",
    "print(f\"\\nContoh fitur TF-IDF (10 pertama): {feature_names[:10]}\")\n"
   ]
  },
  {
   "cell_type": "markdown",
   "metadata": {},
   "source": [
    "## 4. Ekstraksi Fitur LDA (Topic Modelling)\n"
   ]
  },
  {
   "cell_type": "code",
   "execution_count": 6,
   "metadata": {},
   "outputs": [
    {
     "name": "stdout",
     "output_type": "stream",
     "text": [
      "Memuat data dari CSV...\n",
      "Data berhasil dimuat: 1500 berita\n",
      "Kategori: {'Ekonomi': 375, 'Olahraga': 375, 'Nasional': 375, 'Internasional': 375}\n",
      "Memproses data...\n",
      "Data training: 1200\n",
      "Data testing: 300\n",
      "Ekstraksi fitur LDA dengan 10 topik...\n",
      "Shape LDA training: (1200, 10)\n",
      "Shape LDA testing: (300, 10)\n",
      "Jumlah topik LDA: 10\n",
      "\n",
      "=== TOPIK-TOPIK LDA ===\n",
      "Topik 1: (0, '0.017*\"persen\" + 0.009*\"jadi\" + 0.009*\"ppn\" + 0.009*\"naik\" + 0.009*\"perintah\" + 0.008*\"kata\" + 0.008*\"menteri\" + 0.008*\"harga\" + 0.008*\"besar\" + 0.007*\"tahun\"')\n",
      "Topik 2: (1, '0.012*\"kata\" + 0.010*\"sebut\" + 0.010*\"laku\" + 0.009*\"ada\" + 0.009*\"jadi\" + 0.008*\"orang\" + 0.007*\"korban\" + 0.007*\"duga\" + 0.006*\"kasus\" + 0.005*\"polisi\"')\n",
      "Topik 3: (2, '0.019*\"main\" + 0.015*\"indonesia\" + 0.012*\"piala\" + 0.011*\"gol\" + 0.011*\"timnas\" + 0.010*\"dua\" + 0.009*\"menit\" + 0.008*\"jadi\" + 0.008*\"laga\" + 0.008*\"poin\"')\n",
      "Topik 4: (3, '0.040*\"laut\" + 0.029*\"pagar\" + 0.015*\"ada\" + 0.012*\"tangerang\" + 0.011*\"sebut\" + 0.011*\"menteri\" + 0.010*\"milik\" + 0.010*\"kata\" + 0.008*\"kkp\" + 0.008*\"ikan\"')\n",
      "Topik 5: (4, '0.012*\"laku\" + 0.008*\"jadi\" + 0.008*\"sebut\" + 0.008*\"ada\" + 0.007*\"kerja\" + 0.007*\"kata\" + 0.007*\"nelayan\" + 0.006*\"korban\" + 0.005*\"sama\" + 0.005*\"jakarta\"')\n",
      "Topik 6: (5, '0.010*\"sebut\" + 0.007*\"ada\" + 0.007*\"yoon\" + 0.007*\"kata\" + 0.006*\"jadi\" + 0.006*\"laku\" + 0.006*\"indonesia\" + 0.006*\"presiden\" + 0.005*\"pesawat\" + 0.005*\"kpk\"')\n",
      "Topik 7: (6, '0.017*\"saya\" + 0.015*\"indonesia\" + 0.014*\"latih\" + 0.009*\"timnas\" + 0.008*\"kata\" + 0.007*\"jadi\" + 0.007*\"hasto\" + 0.006*\"kpk\" + 0.006*\"kluivert\" + 0.006*\"dia\"')\n",
      "Topik 8: (7, '0.017*\"bakar\" + 0.013*\"indonesia\" + 0.012*\"negara\" + 0.009*\"trump\" + 0.009*\"jadi\" + 0.009*\"los\" + 0.008*\"angeles\" + 0.008*\"kata\" + 0.007*\"brics\" + 0.007*\"sebut\"')\n",
      "Topik 9: (8, '0.021*\"israel\" + 0.012*\"gaza\" + 0.012*\"senjata\" + 0.010*\"gencat\" + 0.010*\"kata\" + 0.009*\"hamas\" + 0.009*\"sebut\" + 0.008*\"warga\" + 0.008*\"serang\" + 0.007*\"palestina\"')\n",
      "Topik 10: (9, '0.012*\"program\" + 0.011*\"makan\" + 0.011*\"gizi\" + 0.010*\"kata\" + 0.009*\"prabowo\" + 0.008*\"ada\" + 0.007*\"menteri\" + 0.007*\"jadi\" + 0.006*\"gratis\" + 0.006*\"kita\"')\n"
     ]
    }
   ],
   "source": [
    "# Cell 9: Ekstraksi Fitur LDA\n",
    "# Pastikan class dan objek classifier siap\n",
    "try:\n",
    "    KlasifikasiBerita\n",
    "except NameError:\n",
    "    from klasifikasi_berita import KlasifikasiBerita\n",
    "\n",
    "try:\n",
    "    classifier\n",
    "except NameError:\n",
    "    classifier = KlasifikasiBerita()\n",
    "    data = classifier.load_data('Berita.csv')\n",
    "    classifier.prepare_data()\n",
    "\n",
    "# Ekstraksi fitur menggunakan LDA dengan 10 topik\n",
    "X_train_lda, X_test_lda = classifier.extract_lda_features(num_topics=10)\n",
    "\n",
    "print(f\"Shape LDA training: {X_train_lda.shape}\")\n",
    "print(f\"Shape LDA testing: {X_test_lda.shape}\")\n",
    "print(f\"Jumlah topik LDA: {X_train_lda.shape[1]}\")\n",
    "\n",
    "# Tampilkan topik-topik yang ditemukan\n",
    "classifier.show_lda_topics()\n"
   ]
  },
  {
   "cell_type": "markdown",
   "metadata": {},
   "source": [
    "## 5. Klasifikasi dengan TF-IDF Features\n"
   ]
  },
  {
   "cell_type": "code",
   "execution_count": 42,
   "metadata": {},
   "outputs": [
    {
     "name": "stdout",
     "output_type": "stream",
     "text": [
      "=== KLASIFIKASI DENGAN TF-IDF FEATURES ===\n",
      "Training Naive Bayes...\n",
      "Akurasi Naive Bayes: 0.9400\n",
      "Training SVM...\n",
      "Akurasi SVM: 0.9567\n",
      "\n",
      "=== EVALUASI MODEL ===\n",
      "\n",
      "--- Naive Bayes ---\n",
      "               precision    recall  f1-score   support\n",
      "\n",
      "      Ekonomi       0.84      0.97      0.90        75\n",
      "Internasional       0.99      0.99      0.99        75\n",
      "     Nasional       0.97      0.80      0.88        75\n",
      "     Olahraga       0.99      1.00      0.99        75\n",
      "\n",
      "     accuracy                           0.94       300\n",
      "    macro avg       0.95      0.94      0.94       300\n",
      " weighted avg       0.95      0.94      0.94       300\n",
      "\n",
      "\n",
      "--- SVM ---\n",
      "               precision    recall  f1-score   support\n",
      "\n",
      "      Ekonomi       0.89      0.97      0.93        75\n",
      "Internasional       0.99      0.99      0.99        75\n",
      "     Nasional       0.97      0.87      0.92        75\n",
      "     Olahraga       0.99      1.00      0.99        75\n",
      "\n",
      "     accuracy                           0.96       300\n",
      "    macro avg       0.96      0.96      0.96       300\n",
      " weighted avg       0.96      0.96      0.96       300\n",
      "\n"
     ]
    },
    {
     "data": {
      "image/png": "[encoded data removed]",
      "text/plain": [
       "<Figure size 1500x600 with 4 Axes>"
      ]
     },
     "metadata": {},
     "output_type": "display_data"
    },
    {
     "name": "stdout",
     "output_type": "stream",
     "text": [
      "\n",
      "=== CROSS VALIDATION ===\n",
      "Naive Bayes CV Scores: [0.9375     0.94583333 0.96666667 0.9625     0.93333333]\n",
      "Naive Bayes CV Mean: 0.9492 (+/- 0.0266)\n",
      "SVM CV Scores: [0.93333333 0.9625     0.95       0.97083333 0.92916667]\n",
      "SVM CV Mean: 0.9492 (+/- 0.0322)\n"
     ]
    }
   ],
   "source": [
    "# Cell 10: Training dan Evaluasi dengan TF-IDF Features\n",
    "print(\"=== KLASIFIKASI DENGAN TF-IDF FEATURES ===\")\n",
    "\n",
    "# Training Naive Bayes dengan TF-IDF\n",
    "y_pred_nb_tfidf, acc_nb_tfidf = classifier.train_naive_bayes(X_train_tfidf, X_test_tfidf)\n",
    "\n",
    "# Training SVM dengan TF-IDF\n",
    "y_pred_svm_tfidf, acc_svm_tfidf = classifier.train_svm(X_train_tfidf, X_test_tfidf)\n",
    "\n",
    "# Evaluasi model TF-IDF\n",
    "classifier.evaluate_models(y_pred_nb_tfidf, y_pred_svm_tfidf)\n",
    "\n",
    "# Cross validation untuk TF-IDF\n",
    "classifier.cross_validation_evaluation(X_train_tfidf, X_test_tfidf)\n"
   ]
  },
  {
   "cell_type": "markdown",
   "metadata": {},
   "source": [
    "## 6. Klasifikasi dengan LDA Features\n"
   ]
  },
  {
   "cell_type": "code",
   "execution_count": 7,
   "metadata": {},
   "outputs": [
    {
     "name": "stdout",
     "output_type": "stream",
     "text": [
      "=== KLASIFIKASI DENGAN LDA FEATURES ===\n",
      "Training Naive Bayes...\n",
      "Akurasi Naive Bayes: 0.8700\n",
      "Training SVM...\n",
      "Akurasi SVM: 0.8433\n",
      "\n",
      "=== EVALUASI MODEL ===\n",
      "\n",
      "--- Naive Bayes ---\n",
      "               precision    recall  f1-score   support\n",
      "\n",
      "      Ekonomi       0.78      0.92      0.85        75\n",
      "Internasional       0.89      0.91      0.90        75\n",
      "     Nasional       0.81      0.67      0.73        75\n",
      "     Olahraga       1.00      0.99      0.99        75\n",
      "\n",
      "     accuracy                           0.87       300\n",
      "    macro avg       0.87      0.87      0.87       300\n",
      " weighted avg       0.87      0.87      0.87       300\n",
      "\n",
      "\n",
      "--- SVM ---\n",
      "               precision    recall  f1-score   support\n",
      "\n",
      "      Ekonomi       0.78      0.92      0.85        75\n",
      "Internasional       0.87      0.81      0.84        75\n",
      "     Nasional       0.72      0.65      0.69        75\n",
      "     Olahraga       1.00      0.99      0.99        75\n",
      "\n",
      "     accuracy                           0.84       300\n",
      "    macro avg       0.84      0.84      0.84       300\n",
      " weighted avg       0.84      0.84      0.84       300\n",
      "\n"
     ]
    },
    {
     "data": {
      "image/png": "[encoded data removed]",
      "text/plain": [
       "<Figure size 1500x600 with 4 Axes>"
      ]
     },
     "metadata": {},
     "output_type": "display_data"
    },
    {
     "name": "stdout",
     "output_type": "stream",
     "text": [
      "\n",
      "=== CROSS VALIDATION ===\n",
      "Naive Bayes CV Scores: [0.84166667 0.80416667 0.825      0.82083333 0.80833333]\n",
      "Naive Bayes CV Mean: 0.8200 (+/- 0.0266)\n",
      "SVM CV Scores: [0.79583333 0.775      0.83333333 0.775      0.7875    ]\n",
      "SVM CV Mean: 0.7933 (+/- 0.0430)\n"
     ]
    }
   ],
   "source": [
    "# Cell 11: Training dan Evaluasi dengan LDA Features\n",
    "print(\"=== KLASIFIKASI DENGAN LDA FEATURES ===\")\n",
    "\n",
    "# Pastikan fitur LDA sudah diekstraksi\n",
    "try:\n",
    "    X_train_lda\n",
    "    X_test_lda\n",
    "except NameError:\n",
    "    X_train_lda, X_test_lda = classifier.extract_lda_features(num_topics=10)\n",
    "    # Opsional: tampilkan topik\n",
    "    classifier.show_lda_topics()\n",
    "\n",
    "# Training Naive Bayes dengan LDA\n",
    "y_pred_nb_lda, acc_nb_lda = classifier.train_naive_bayes(X_train_lda, X_test_lda)\n",
    "\n",
    "# Training SVM dengan LDA\n",
    "y_pred_svm_lda, acc_svm_lda = classifier.train_svm(X_train_lda, X_test_lda)\n",
    "\n",
    "# Evaluasi model LDA\n",
    "classifier.evaluate_models(y_pred_nb_lda, y_pred_svm_lda)\n",
    "\n",
    "# Cross validation untuk LDA\n",
    "classifier.cross_validation_evaluation(X_train_lda, X_test_lda)\n"
   ]
  },
  {
   "cell_type": "markdown",
   "metadata": {},
   "source": [
    "## 7. Ringkasan Hasil dan Perbandingan\n"
   ]
  },
  {
   "cell_type": "code",
   "execution_count": 10,
   "metadata": {},
   "outputs": [
    {
     "name": "stdout",
     "output_type": "stream",
     "text": [
      "=== RINGKASAN HASIL AKHIR ===\n",
      "TF-IDF + Naive Bayes: 0.9400\n",
      "TF-IDF + SVM: 0.9567\n",
      "LDA + Naive Bayes: 0.8700\n",
      "LDA + SVM: 0.8433\n"
     ]
    },
    {
     "data": {
      "image/png": "[encoded data removed]",
      "text/plain": [
       "<Figure size 1200x600 with 2 Axes>"
      ]
     },
     "metadata": {},
     "output_type": "display_data"
    },
    {
     "name": "stdout",
     "output_type": "stream",
     "text": [
      "\n",
      "=== KESIMPULAN ===\n",
      "Metode terbaik: TF-IDF + SVM dengan akurasi 0.9567\n",
      "TF-IDF lebih efektif daripada LDA untuk ekstraksi fitur\n",
      "Performa SVM dan Naive Bayes bervariasi tergantung metode ekstraksi fitur\n",
      "\n",
      "Analisis selesai!\n"
     ]
    }
   ],
   "source": [
    "# Cell 12: Ringkasan Hasil dan Visualisasi Perbandingan\n",
    "print(\"=== RINGKASAN HASIL AKHIR ===\")\n",
    "\n",
    "# Pastikan plotting siap\n",
    "try:\n",
    "    plt\n",
    "except NameError:\n",
    "    import matplotlib.pyplot as plt\n",
    "try:\n",
    "    sns\n",
    "except NameError:\n",
    "    import seaborn as sns\n",
    "\n",
    "# Pastikan metrik TF-IDF tersedia; jika belum, hitung dulu\n",
    "try:\n",
    "    acc_nb_tfidf\n",
    "    acc_svm_tfidf\n",
    "except NameError:\n",
    "    try:\n",
    "        X_train_tfidf\n",
    "        X_test_tfidf\n",
    "    except NameError:\n",
    "        X_train_tfidf, X_test_tfidf = classifier.extract_tfidf_features()\n",
    "    y_pred_nb_tfidf, acc_nb_tfidf = classifier.train_naive_bayes(X_train_tfidf, X_test_tfidf)\n",
    "    y_pred_svm_tfidf, acc_svm_tfidf = classifier.train_svm(X_train_tfidf, X_test_tfidf)\n",
    "\n",
    "# Pastikan metrik LDA tersedia; jika belum, jalankan ekstraksi dan training LDA\n",
    "try:\n",
    "    acc_nb_lda\n",
    "    acc_svm_lda\n",
    "except NameError:\n",
    "    try:\n",
    "        X_train_lda\n",
    "        X_test_lda\n",
    "    except NameError:\n",
    "        X_train_lda, X_test_lda = classifier.extract_lda_features(num_topics=10)\n",
    "        classifier.show_lda_topics()\n",
    "    y_pred_nb_lda, acc_nb_lda = classifier.train_naive_bayes(X_train_lda, X_test_lda)\n",
    "    y_pred_svm_lda, acc_svm_lda = classifier.train_svm(X_train_lda, X_test_lda)\n",
    "\n",
    "print(f\"TF-IDF + Naive Bayes: {acc_nb_tfidf:.4f}\")\n",
    "print(f\"TF-IDF + SVM: {acc_svm_tfidf:.4f}\")\n",
    "print(f\"LDA + Naive Bayes: {acc_nb_lda:.4f}\")\n",
    "print(f\"LDA + SVM: {acc_svm_lda:.4f}\")\n",
    "\n",
    "# Buat visualisasi perbandingan hasil\n",
    "methods = ['TF-IDF + NB', 'TF-IDF + SVM', 'LDA + NB', 'LDA + SVM']\n",
    "accuracies = [acc_nb_tfidf, acc_svm_tfidf, acc_nb_lda, acc_svm_lda]\n",
    "\n",
    "plt.figure(figsize=(12, 6))\n",
    "\n",
    "# Subplot 1: Bar chart perbandingan akurasi\n",
    "plt.subplot(1, 2, 1)\n",
    "bars = plt.bar(methods, accuracies, color=['skyblue', 'lightcoral', 'lightgreen', 'orange'])\n",
    "plt.title('Perbandingan Akurasi Model', fontsize=14, fontweight='bold')\n",
    "plt.ylabel('Akurasi', fontsize=12)\n",
    "plt.ylim(0, 1)\n",
    "plt.xticks(rotation=45, ha='right')\n",
    "\n",
    "# Tambahkan nilai akurasi di atas bar\n",
    "for bar, acc in zip(bars, accuracies):\n",
    "    plt.text(bar.get_x() + bar.get_width()/2, bar.get_height() + 0.01, \n",
    "             f'{acc:.4f}', ha='center', va='bottom', fontweight='bold')\n",
    "\n",
    "# Subplot 2: Pie chart distribusi kategori\n",
    "plt.subplot(1, 2, 2)\n",
    "category_counts = data['kategori'].value_counts()\n",
    "plt.pie(category_counts.values, labels=category_counts.index, autopct='%1.1f%%', \n",
    "        startangle=90, colors=['#ff9999', '#66b3ff', '#99ff99', '#ffcc99'])\n",
    "plt.title('Distribusi Kategori Berita', fontsize=14, fontweight='bold')\n",
    "\n",
    "plt.tight_layout()\n",
    "plt.savefig('hasil_analisis.png', dpi=300, bbox_inches='tight')\n",
    "plt.show()\n",
    "\n",
    "# Tampilkan kesimpulan\n",
    "print(\"\\n=== KESIMPULAN ===\")\n",
    "best_method = methods[accuracies.index(max(accuracies))]\n",
    "best_accuracy = max(accuracies)\n",
    "print(f\"Metode terbaik: {best_method} dengan akurasi {best_accuracy:.4f}\")\n",
    "\n",
    "if acc_nb_tfidf > acc_nb_lda:\n",
    "    print(\"TF-IDF lebih efektif daripada LDA untuk ekstraksi fitur\")\n",
    "else:\n",
    "    print(\"LDA lebih efektif daripada TF-IDF untuk ekstraksi fitur\")\n",
    "\n",
    "if acc_svm_tfidf > acc_nb_tfidf and acc_svm_lda > acc_nb_lda:\n",
    "    print(\"SVM menunjukkan performa yang lebih baik daripada Naive Bayes\")\n",
    "elif acc_nb_tfidf > acc_svm_tfidf and acc_nb_lda > acc_svm_lda:\n",
    "    print(\"Naive Bayes menunjukkan performa yang lebih baik daripada SVM\")\n",
    "else:\n",
    "    print(\"Performa SVM dan Naive Bayes bervariasi tergantung metode ekstraksi fitur\")\n",
    "\n",
    "print(\"\\nAnalisis selesai!\")\n"
   ]
  },
  {
   "cell_type": "code",
   "execution_count": 12,
   "metadata": {},
   "outputs": [
    {
     "name": "stdout",
     "output_type": "stream",
     "text": [
      "Method extract_lda_features diperbaiki (menggunakan doc2bow) dan dibind ulang.\n"
     ]
    }
   ],
   "source": [
    "# Perbaikan: ganti doc2vec -> doc2bow untuk LDA\n",
    "\n",
    "def extract_lda_features(self, num_topics=10):\n",
    "    print(f\"Ekstraksi fitur LDA dengan {num_topics} topik (fix doc2bow)...\")\n",
    "\n",
    "    # Persiapan dokumen untuk LDA\n",
    "    documents = [doc.split() for doc in self.X_train]\n",
    "\n",
    "    # Dictionary dan corpus bag-of-words\n",
    "    dictionary = corpora.Dictionary(documents)\n",
    "    dictionary.filter_extremes(no_below=2, no_above=0.95)\n",
    "    corpus = [dictionary.doc2bow(doc) for doc in documents]\n",
    "\n",
    "    # Train LDA\n",
    "    self.lda_model = LdaModel(\n",
    "        corpus=corpus,\n",
    "        id2word=dictionary,\n",
    "        num_topics=num_topics,\n",
    "        random_state=42,\n",
    "        passes=10,\n",
    "        alpha='auto',\n",
    "        per_word_topics=True,\n",
    "    )\n",
    "\n",
    "    # Ekstraksi fitur LDA: probabilitas topik per dokumen\n",
    "    X_train_lda = []\n",
    "    for doc in documents:\n",
    "        bow = dictionary.doc2bow(doc)\n",
    "        topics = self.lda_model.get_document_topics(bow, minimum_probability=0.0)\n",
    "        topic_probs = [prob for _, prob in topics]\n",
    "        X_train_lda.append(topic_probs)\n",
    "\n",
    "    X_test_lda = []\n",
    "    test_documents = [doc.split() for doc in self.X_test]\n",
    "    for doc in test_documents:\n",
    "        bow = dictionary.doc2bow(doc)\n",
    "        topics = self.lda_model.get_document_topics(bow, minimum_probability=0.0)\n",
    "        topic_probs = [prob for _, prob in topics]\n",
    "        X_test_lda.append(topic_probs)\n",
    "\n",
    "    return np.array(X_train_lda), np.array(X_test_lda)\n",
    "\n",
    "# Bind ulang ke class\n",
    "KlasifikasiBerita.extract_lda_features = extract_lda_features\n",
    "\n",
    "print(\"Method extract_lda_features diperbaiki (menggunakan doc2bow) dan dibind ulang.\")\n"
   ]
  }
 ],
 "metadata": {
  "kernelspec": {
   "display_name": "Python 3",
   "language": "python",
   "name": "python3"
  },
  "language_info": {
   "codemirror_mode": {
    "name": "ipython",
    "version": 3
   },
   "file_extension": ".py",
   "mimetype": "text/x-python",
   "name": "python",
   "nbconvert_exporter": "python",
   "pygments_lexer": "ipython3",
   "version": "3.11.7"
  }
 },
 "nbformat": 4,
 "nbformat_minor": 2
}