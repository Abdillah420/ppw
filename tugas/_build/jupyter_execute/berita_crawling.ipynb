{
 "cells": [
  {
   "cell_type": "markdown",
   "id": "07d349c3",
   "metadata": {},
   "source": [
    "#   Crawling Data Berita"
   ]
  },
  {
   "cell_type": "markdown",
   "id": "a2100673",
   "metadata": {},
   "source": [
    "## Data Berita DETIK.COM"
   ]
  },
  {
   "cell_type": "code",
   "execution_count": 8,
   "id": "9c4d0219",
   "metadata": {},
   "outputs": [
    {
     "name": "stdout",
     "output_type": "stream",
     "text": [
      "{'databases': ['Firebase'], 'advertising-networks': ['Google AdSense'], 'tag-managers': ['Google Tag Manager'], 'javascript-frameworks': ['jQuery']}\n"
     ]
    }
   ],
   "source": [
    "import builtwith\n",
    "\n",
    "# Analisis teknologi yang digunakan\n",
    "res = builtwith.parse('https://www.detik.com/')\n",
    "print(res)"
   ]
  },
  {
   "cell_type": "code",
   "execution_count": 9,
   "id": "faa95389",
   "metadata": {},
   "outputs": [],
   "source": [
    "import requests\n",
    "from bs4 import BeautifulSoup\n",
    "import pandas as pd\n",
    "import time"
   ]
  },
  {
   "cell_type": "markdown",
   "id": "e176a329",
   "metadata": {},
   "source": [
    "#   Ambil data berita pada index website detik.com"
   ]
  },
  {
   "cell_type": "code",
   "execution_count": 10,
   "id": "7c8930e7",
   "metadata": {},
   "outputs": [
    {
     "data": {
      "text/html": [
       "<div>\n",
       "<style scoped>\n",
       "    .dataframe tbody tr th:only-of-type {\n",
       "        vertical-align: middle;\n",
       "    }\n",
       "\n",
       "    .dataframe tbody tr th {\n",
       "        vertical-align: top;\n",
       "    }\n",
       "\n",
       "    .dataframe thead th {\n",
       "        text-align: right;\n",
       "    }\n",
       "</style>\n",
       "<table border=\"1\" class=\"dataframe\">\n",
       "  <thead>\n",
       "    <tr style=\"text-align: right;\">\n",
       "      <th></th>\n",
       "      <th>judul</th>\n",
       "      <th>kategori</th>\n",
       "      <th>isi</th>\n",
       "      <th>link</th>\n",
       "    </tr>\n",
       "  </thead>\n",
       "  <tbody>\n",
       "    <tr>\n",
       "      <th>0</th>\n",
       "      <td>Detik-detik Charlie Kirk Influencer Pro-Trump Ditembak saat Pidato di Kampus</td>\n",
       "      <td></td>\n",
       "      <td>Aktivis sayap kanan AS yang juga sekutu berpengaruh PresidenDonald Trump, Charlie Kirk, meningga...</td>\n",
       "      <td>https://news.detik.com/internasional/d-8106350/detik-detik-charlie-kirk-influencer-pro-trump-dit...</td>\n",
       "    </tr>\n",
       "    <tr>\n",
       "      <th>1</th>\n",
       "      <td>Detik-detik Charlie Kirk Influencer Pro-Trump Ditembak saat Pidato di Kampus</td>\n",
       "      <td></td>\n",
       "      <td>Aktivis sayap kanan AS yang juga sekutu berpengaruh PresidenDonald Trump, Charlie Kirk, meningga...</td>\n",
       "      <td>https://news.detik.com/internasional/d-8106350/detik-detik-charlie-kirk-influencer-pro-trump-dit...</td>\n",
       "    </tr>\n",
       "    <tr>\n",
       "      <th>2</th>\n",
       "      <td>Pengakuan Noel soal Setoran Lain Diungkap KPK</td>\n",
       "      <td></td>\n",
       "      <td>Temuan baru mencuat terkait kasus pemerasan sertifikasi keselamatan dan kesehatan kerja (K3) yan...</td>\n",
       "      <td>https://news.detik.com/berita/d-8106306/pengakuan-noel-soal-setoran-lain-diungkap-kpk</td>\n",
       "    </tr>\n",
       "    <tr>\n",
       "      <th>3</th>\n",
       "      <td>Pengakuan Noel soal Setoran Lain Diungkap KPK</td>\n",
       "      <td></td>\n",
       "      <td>Temuan baru mencuat terkait kasus pemerasan sertifikasi keselamatan dan kesehatan kerja (K3) yan...</td>\n",
       "      <td>https://news.detik.com/berita/d-8106306/pengakuan-noel-soal-setoran-lain-diungkap-kpk</td>\n",
       "    </tr>\n",
       "    <tr>\n",
       "      <th>4</th>\n",
       "      <td>Babak Baru RUU Perampasan Aset</td>\n",
       "      <td></td>\n",
       "      <td>Rancangan Undang-Undang (RUU) Perampasan Aset diusulkan masuk ke dalam program legislasi nasiona...</td>\n",
       "      <td>https://news.detik.com/berita/d-8106394/babak-baru-ruu-perampasan-aset</td>\n",
       "    </tr>\n",
       "  </tbody>\n",
       "</table>\n",
       "</div>"
      ],
      "text/plain": [
       "                                                                          judul  \\\n",
       "0  Detik-detik Charlie Kirk Influencer Pro-Trump Ditembak saat Pidato di Kampus   \n",
       "1  Detik-detik Charlie Kirk Influencer Pro-Trump Ditembak saat Pidato di Kampus   \n",
       "2                                 Pengakuan Noel soal Setoran Lain Diungkap KPK   \n",
       "3                                 Pengakuan Noel soal Setoran Lain Diungkap KPK   \n",
       "4                                                Babak Baru RUU Perampasan Aset   \n",
       "\n",
       "  kategori  \\\n",
       "0            \n",
       "1            \n",
       "2            \n",
       "3            \n",
       "4            \n",
       "\n",
       "                                                                                                   isi  \\\n",
       "0  Aktivis sayap kanan AS yang juga sekutu berpengaruh PresidenDonald Trump, Charlie Kirk, meningga...   \n",
       "1  Aktivis sayap kanan AS yang juga sekutu berpengaruh PresidenDonald Trump, Charlie Kirk, meningga...   \n",
       "2  Temuan baru mencuat terkait kasus pemerasan sertifikasi keselamatan dan kesehatan kerja (K3) yan...   \n",
       "3  Temuan baru mencuat terkait kasus pemerasan sertifikasi keselamatan dan kesehatan kerja (K3) yan...   \n",
       "4  Rancangan Undang-Undang (RUU) Perampasan Aset diusulkan masuk ke dalam program legislasi nasiona...   \n",
       "\n",
       "                                                                                                  link  \n",
       "0  https://news.detik.com/internasional/d-8106350/detik-detik-charlie-kirk-influencer-pro-trump-dit...  \n",
       "1  https://news.detik.com/internasional/d-8106350/detik-detik-charlie-kirk-influencer-pro-trump-dit...  \n",
       "2                https://news.detik.com/berita/d-8106306/pengakuan-noel-soal-setoran-lain-diungkap-kpk  \n",
       "3                https://news.detik.com/berita/d-8106306/pengakuan-noel-soal-setoran-lain-diungkap-kpk  \n",
       "4                               https://news.detik.com/berita/d-8106394/babak-baru-ruu-perampasan-aset  "
      ]
     },
     "execution_count": 10,
     "metadata": {},
     "output_type": "execute_result"
    }
   ],
   "source": [
    "# Contoh scraping berita utama dari Detik.com\n",
    "import requests\n",
    "from bs4 import BeautifulSoup\n",
    "import pandas as pd\n",
    "import time\n",
    "\n",
    "url = \"https://www.detik.com/terpopuler\"\n",
    "headers = {\"User-Agent\": \"Mozilla/5.0\"}\n",
    "\n",
    "response = requests.get(url, headers=headers)\n",
    "soup = BeautifulSoup(response.text, \"html.parser\")\n",
    "\n",
    "data = []\n",
    "\n",
    "# Ambil 5 berita terpopuler\n",
    "for item in soup.select(\"article a.media__link\")[:5]:\n",
    "    link = item.get(\"href\")\n",
    "    if not link.startswith(\"http\"):\n",
    "        link = \"https:\" + link\n",
    "    try:\n",
    "        resp_detail = requests.get(link, headers=headers)\n",
    "        soup_detail = BeautifulSoup(resp_detail.text, \"html.parser\")\n",
    "\n",
    "        # Judul\n",
    "        judul_tag = soup_detail.find(\"h1\")\n",
    "        judul = judul_tag.get_text(strip=True) if judul_tag else \"\"\n",
    "\n",
    "        # Kategori\n",
    "        kategori_tag = soup_detail.find(\"a\", class_=\"breadcrumb__link\")\n",
    "        kategori = kategori_tag.get_text(strip=True) if kategori_tag else \"\"\n",
    "\n",
    "        # Isi berita\n",
    "        paragraf = [p.get_text(strip=True) for p in soup_detail.select(\"div.detail__body-text p\") if p.get_text(strip=True)]\n",
    "        isi = \" \".join(paragraf)\n",
    "\n",
    "        if isi:\n",
    "            data.append({\n",
    "                \"judul\": judul,\n",
    "                \"kategori\": kategori,\n",
    "                \"isi\": isi,\n",
    "                \"link\": link\n",
    "            })\n",
    "\n",
    "        time.sleep(1)\n",
    "    except Exception as e:\n",
    "        print(f\"Gagal ambil {link}: {e}\")\n",
    "\n",
    "df = pd.DataFrame(data)\n",
    "df.to_csv(\"berita_detik.csv\", index=False, encoding=\"utf-8-sig\")\n",
    "pd.set_option(\"display.max_colwidth\", 100)\n",
    "df"
   ]
  }
 ],
 "metadata": {
  "kernelspec": {
   "display_name": "Python 3 (ipykernel)",
   "language": "python",
   "name": "python3"
  },
  "language_info": {
   "codemirror_mode": {
    "name": "ipython",
    "version": 3
   },
   "file_extension": ".py",
   "mimetype": "text/x-python",
   "name": "python",
   "nbconvert_exporter": "python",
   "pygments_lexer": "ipython3",
   "version": "3.13.0"
  }
 },
 "nbformat": 4,
 "nbformat_minor": 5
}