{
  "cells": [
    {
      "cell_type": "markdown",
      "metadata": {
        "id": "ehIxLpbh_c3r"
      },
      "source": [
        "# Klasifikasi Berita menggunakan Fitur Latent Dirichlet Allocation"
      ]
    },
    {
      "cell_type": "code",
      "execution_count": 1,
      "metadata": {
        "colab": {
          "base_uri": "https://localhost:8080/",
          "height": 206
        },
        "id": "o71xwBGhe9cC",
        "outputId": "cfebd5ce-2776-4272-a3ba-292b3c19437a"
      },
      "outputs": [
        {
          "data": {
            "application/vnd.google.colaboratory.intrinsic+json": {
              "summary": "{\n  \"name\": \"data[['isi', 'hasil_preprocessing', 'kategori']]\",\n  \"rows\": 5,\n  \"fields\": [\n    {\n      \"column\": \"isi\",\n      \"properties\": {\n        \"dtype\": \"string\",\n        \"num_unique_values\": 5,\n        \"samples\": [\n          \"Timnas Indonesiasudah gagal lolos kePiala Dunia 2026. Eks pelatih kiper Skuad Garuda, Yoo Jae-hoon, mengungkapkan kesedihan. Di King Abdullah Sports City Stadium, Minggu (12/10/2025), Indonesia kalah 0-1 dari Irak. Gol dari Zidane Iqbal uang menjadi penyebab kekalahan tim Merah-Putih. Indonesia dipastikan gagal lolos ke Piala Dunia 2026 karena pada laga sebelumnya kalah 2-3 dari Arab Saudi. Indonesia menjadi juru kunci Grup B babak keempat Kualifikasi Piala Dunia 2026. SCROLL TO CONTINUE WITH CONTENT Perjuangan panjang dijalani Indonesia di Kualifikasi Piala Dunia 2026. Indonesia bermain sejak babak pertama, ada 20 pertandingan yang dijalani. Yoo Jae-hoon, yang menjadi staf pelatih Shin Tae-yong, menjalani pertandingan sebanyak 14 kali. Ketika langkahIndonesiasudah dipastikan setop, eks kiper Persipura Jayapura itu pun merasakan kesedihan. Pernah menjadi perjuangan Indonesia ke Piala Dunia 2026, Yoo Jae-hoon mengucapkan terima kasih atas perjuangan pemain. Dia juga meminta para suporter tak mengendurkan dukungan untuk tim Merah-Putih. \\\"Saya mengucapkan terimakasih kepada seluruh anggota timnas atas perjuangannya. Kami telah berjuang keras dari babak kualifikasi pertama untuk Piala Dunia 2026, tetapi sayangnya mimpi itu pupus, sehingga saya sangat sedih,\\\" kata Yoo Jae-hoon di Instagram pribadinya. \\\"Kami memulai bersama, tetapi tidak bisa mengakhiri bersama, itu membuat hati saya sakit. Namun, saya percaya sepakbola Indonesia bukanlah akhir, melainkan awal baru. Kita harus terus melangkah menuju yang lebih tinggi.\\\" \\\"Saya berharap seluruh rakyat dan para penggemar sepakbola dapat terus mendukung para pemain dan PSSI. Saya pun, seperti selama 16 tahun terakhir, akan terus mencintai dan mendukung sepakbolaIndonesiake depannya,\\\" kata dia menambahkan. [Gambas:Instagram]\",\n          \"Kylian Mbappemengaku merasa lebih tenang sejak pindah keReal Madrid. Ia menilai suasana kehidupan di ibu kota Spanyol membantunya lebih fokus di lapangan hijau. Striker asal Prancis itu bergabung dengan Madrid sejak musim panas 2024 usai kontraknya di Paris Saint-Germain habis. Meski gagal meraih trofi mayor, namun ia mampu mencetak 44 gol dalam 59 penampilan. Pada musim ini, ia langsung tancap gas dengan 14 gol dalam 10 penampilan dan baru satu kali menyelesaikan laga tanpa mencatatkan namanya di papan skor. Jika menghitung performa di Timnas Prancis bulan lalu, total ia sudah mengemas 16 gol dalam 12 penampilan. SCROLL TO CONTINUE WITH CONTENT Padahal Mbappe butuh sampai Januari untuk mencetak gol sebanyak itu pada musim lalu, seolah menandakan bahwa ia semakin nyaman di Madrid yang kini dilatih Xabi Alonso. Mbappe tak menampik bahwa kepindahan ke Madrid turut membantu mengangkat performanya. \\\"Saya beradaptasi dengan baik di Madrid, saya sedikit lebih santai di sana,\\\" ujarnya seperti dikutip dari ESPN pada Kamis (9/10/2025). \\\"Tak ada maksud menjelek-jelekkan Prancis. Hanya saja gaya hidupnya berbeda, tak seramai di Paris. Saya bisa menyesuaikan diri,\\\" jelas pemain 26 tahun itu. Mbappe sedang bersama Timnas Prancis untuk menjalani dua laga Kualifikasi Piala Dunia 2026 menghadapi Azerbaijan di Paris pada Sabtu (11/10) pukul 01.45 WIB dan Islandia tiga hari berselang di Reykjavik. Les Bleus sedang memimpin klasemen sementara Grup D dengan enam poin usai merebut dua kemenangan atas Ukraina dan Islandia bulan lalu.\",\n          \"Sejak pertama kali diperkenalkan pada tahun 1995,Mercedes-Benz Sprinter telah menjadi salah satu kendaraan komersial paling berpengaruhdalam sejarah otomotif modern. Dirancang untuk menggabungkan keandalan khas Mercedes dengan fleksibilitas tinggi, Sprinter muncul sebagai jawaban atas kebutuhan dunia akan kendaraan multiguna yang tangguh dan efisien. Dalam waktu singkat, van ini menjadi pilihan utama di berbagai sektor industri, mulai dari logistik hingga transportasi umum, berkat daya tahan mesinnya, desain kabin yang ergonomis, serta kemampuannya menyesuaikan diri dengan berbagai kebutuhan pengguna.\"\n        ],\n        \"semantic_type\": \"\",\n        \"description\": \"\"\n      }\n    },\n    {\n      \"column\": \"hasil_preprocessing\",\n      \"properties\": {\n        \"dtype\": \"string\",\n        \"num_unique_values\": 5,\n        \"samples\": [\n          \"['timnas', 'indonesiasudah', 'gagal', 'lolos', 'piala', 'dunia', 'eks', 'latih', 'kiper', 'skuad', 'garuda', 'yoo', 'jaehoon', 'sedih', 'king', 'abdullah', 'sports', 'city', 'stadium', 'minggu', 'indonesia', 'kalah', 'irak', 'gol', 'zidane', 'iqbal', 'uang', 'sebab', 'kalah', 'tim', 'merahputih', 'indonesia', 'gagal', 'lolos', 'piala', 'dunia', 'laga', 'kalah', 'arab', 'saudi', 'indonesia', 'juru', 'kunci', 'grup', 'b', 'babak', 'empat', 'kualifikasi', 'piala', 'dunia', 'scroll', 'to', 'continue', 'with', 'content', 'juang', 'jalan', 'indonesia', 'kualifikasi', 'piala', 'dunia', 'indonesia', 'main', 'babak', 'tanding', 'jalan', 'yoo', 'jaehoon', 'staf', 'latih', 'shin', 'taeyong', 'jalan', 'tanding', 'kali', 'langkahindonesiasudah', 'setop', 'eks', 'kiper', 'persipura', 'jayapura', 'rasa', 'sedih', 'juang', 'indonesia', 'piala', 'dunia', 'yoo', 'jaehoon', 'terima', 'kasih', 'juang', 'main', 'suporter', 'kendur', 'dukung', 'tim', 'merahputih', 'terimakasih', 'anggota', 'timnas', 'juang', 'juang', 'keras', 'babak', 'kualifikasi', 'piala', 'dunia', 'sayang', 'mimpi', 'pupus', 'sedih', 'yoo', 'jaehoon', 'instagram', 'pribadi', 'hati', 'sakit', 'percaya', 'sepakbola', 'indonesia', 'lang', 'harap', 'rakyat', 'gemar', 'sepakbola', 'dukung', 'main', 'pssi', 'cinta', 'dukung', 'sepakbolaindonesiake', 'depan', 'gambasinstagram']\",\n          \"['kylian', 'mbappemengaku', 'tenang', 'pindah', 'real', 'madrid', 'nilai', 'suasana', 'hidup', 'kota', 'spanyol', 'bantu', 'fokus', 'lapang', 'hijau', 'striker', 'prancis', 'gabung', 'madrid', 'musim', 'panas', 'kontrak', 'paris', 'saintgermain', 'habis', 'gagal', 'raih', 'trofi', 'mayor', 'cetak', 'gol', 'tampil', 'musim', 'langsung', 'tancap', 'gas', 'gol', 'tampil', 'kali', 'selesai', 'laga', 'catat', 'nama', 'papan', 'skor', 'hitung', 'performa', 'timnas', 'prancis', 'total', 'emas', 'gol', 'tampil', 'scroll', 'to', 'continue', 'with', 'content', 'mbappe', 'butuh', 'januari', 'cetak', 'gol', 'musim', 'tanda', 'nyaman', 'madrid', 'latih', 'xabi', 'alonso', 'mbappe', 'tampik', 'pindah', 'madrid', 'bantu', 'angkat', 'performa', 'adaptasi', 'madrid', 'santai', 'kutip', 'espn', 'kamis', 'maksud', 'menjelekjelekkan', 'prancis', 'gaya', 'hidup', 'beda', 'serama', 'paris', 'sesuai', 'main', 'mbappe', 'timnas', 'prancis', 'jalan', 'laga', 'kualifikasi', 'piala', 'dunia', 'hadap', 'azerbaijan', 'paris', 'sabtu', 'wib', 'islandia', 'selang', 'reykjavik', 'les', 'bleus', 'pimpin', 'klasemen', 'grup', 'd', 'enam', 'poin', 'rebut', 'menang', 'ukraina', 'islandia']\",\n          \"['kali', 'kenal', 'mercedesbenz', 'sprinter', 'salah', 'kendara', 'komersial', 'berpengaruhdalam', 'sejarah', 'otomotif', 'modern', 'rancang', 'gabung', 'andal', 'khas', 'mercedes', 'fleksibilitas', 'sprinter', 'muncul', 'butuh', 'dunia', 'kendara', 'multiguna', 'tangguh', 'efisien', 'singkat', 'van', 'pilih', 'utama', 'sektor', 'industri', 'logistik', 'transportasi', 'berkat', 'daya', 'tahan', 'mesin', 'desain', 'kabin', 'ergonomis', 'mampu', 'sesuai', 'butuh', 'guna']\"\n        ],\n        \"semantic_type\": \"\",\n        \"description\": \"\"\n      }\n    },\n    {\n      \"column\": \"kategori\",\n      \"properties\": {\n        \"dtype\": \"category\",\n        \"num_unique_values\": 2,\n        \"samples\": [\n          \"Edu\",\n          \"Lainnya\"\n        ],\n        \"semantic_type\": \"\",\n        \"description\": \"\"\n      }\n    }\n  ]\n}",
              "type": "dataframe"
            },
            "text/html": [
              "\n",
              "  <div id=\"df-5e2a9654-bf6c-4448-bf0f-174c9123747b\" class=\"colab-df-container\">\n",
              "    <div>\n",
              "<style scoped>\n",
              "    .dataframe tbody tr th:only-of-type {\n",
              "        vertical-align: middle;\n",
              "    }\n",
              "\n",
              "    .dataframe tbody tr th {\n",
              "        vertical-align: top;\n",
              "    }\n",
              "\n",
              "    .dataframe thead th {\n",
              "        text-align: right;\n",
              "    }\n",
              "</style>\n",
              "<table border=\"1\" class=\"dataframe\">\n",
              "  <thead>\n",
              "    <tr style=\"text-align: right;\">\n",
              "      <th></th>\n",
              "      <th>isi</th>\n",
              "      <th>hasil_preprocessing</th>\n",
              "      <th>kategori</th>\n",
              "    </tr>\n",
              "  </thead>\n",
              "  <tbody>\n",
              "    <tr>\n",
              "      <th>0</th>\n",
              "      <td>PebasketSatria MudaAvan Seputramengaku terkeju...</td>\n",
              "      <td>['pebasketsatria', 'mudaavan', 'seputramengaku...</td>\n",
              "      <td>Lainnya</td>\n",
              "    </tr>\n",
              "    <tr>\n",
              "      <th>1</th>\n",
              "      <td>Timnas Indonesiasudah gagal lolos kePiala Duni...</td>\n",
              "      <td>['timnas', 'indonesiasudah', 'gagal', 'lolos',...</td>\n",
              "      <td>Lainnya</td>\n",
              "    </tr>\n",
              "    <tr>\n",
              "      <th>2</th>\n",
              "      <td>Sejak pertama kali diperkenalkan pada tahun 19...</td>\n",
              "      <td>['kali', 'kenal', 'mercedesbenz', 'sprinter', ...</td>\n",
              "      <td>Lainnya</td>\n",
              "    </tr>\n",
              "    <tr>\n",
              "      <th>3</th>\n",
              "      <td>Ada banyak dosen inspiratif di Indonesia. Seba...</td>\n",
              "      <td>['dosen', 'inspiratif', 'indonesia', 'jajar', ...</td>\n",
              "      <td>Edu</td>\n",
              "    </tr>\n",
              "    <tr>\n",
              "      <th>4</th>\n",
              "      <td>Kylian Mbappemengaku merasa lebih tenang sejak...</td>\n",
              "      <td>['kylian', 'mbappemengaku', 'tenang', 'pindah'...</td>\n",
              "      <td>Lainnya</td>\n",
              "    </tr>\n",
              "  </tbody>\n",
              "</table>\n",
              "</div>\n",
              "    <div class=\"colab-df-buttons\">\n",
              "\n",
              "  <div class=\"colab-df-container\">\n",
              "    <button class=\"colab-df-convert\" onclick=\"convertToInteractive('df-5e2a9654-bf6c-4448-bf0f-174c9123747b')\"\n",
              "            title=\"Convert this dataframe to an interactive table.\"\n",
              "            style=\"display:none;\">\n",
              "\n",
              "  <svg xmlns=\"http://www.w3.org/2000/svg\" height=\"24px\" viewBox=\"0 -960 960 960\">\n",
              "    <path d=\"M120-120v-720h720v720H120Zm60-500h600v-160H180v160Zm220 220h160v-160H400v160Zm0 220h160v-160H400v160ZM180-400h160v-160H180v160Zm440 0h160v-160H620v160ZM180-180h160v-160H180v160Zm440 0h160v-160H620v160Z\"/>\n",
              "  </svg>\n",
              "    </button>\n",
              "\n",
              "  <style>\n",
              "    .colab-df-container {\n",
              "      display:flex;\n",
              "      gap: 12px;\n",
              "    }\n",
              "\n",
              "    .colab-df-convert {\n",
              "      background-color: #E8F0FE;\n",
              "      border: none;\n",
              "      border-radius: 50%;\n",
              "      cursor: pointer;\n",
              "      display: none;\n",
              "      fill: #1967D2;\n",
              "      height: 32px;\n",
              "      padding: 0 0 0 0;\n",
              "      width: 32px;\n",
              "    }\n",
              "\n",
              "    .colab-df-convert:hover {\n",
              "      background-color: #E2EBFA;\n",
              "      box-shadow: 0px 1px 2px rgba(60, 64, 67, 0.3), 0px 1px 3px 1px rgba(60, 64, 67, 0.15);\n",
              "      fill: #174EA6;\n",
              "    }\n",
              "\n",
              "    .colab-df-buttons div {\n",
              "      margin-bottom: 4px;\n",
              "    }\n",
              "\n",
              "    [theme=dark] .colab-df-convert {\n",
              "      background-color: #3B4455;\n",
              "      fill: #D2E3FC;\n",
              "    }\n",
              "\n",
              "    [theme=dark] .colab-df-convert:hover {\n",
              "      background-color: #434B5C;\n",
              "      box-shadow: 0px 1px 3px 1px rgba(0, 0, 0, 0.15);\n",
              "      filter: drop-shadow(0px 1px 2px rgba(0, 0, 0, 0.3));\n",
              "      fill: #FFFFFF;\n",
              "    }\n",
              "  </style>\n",
              "\n",
              "    <script>\n",
              "      const buttonEl =\n",
              "        document.querySelector('#df-5e2a9654-bf6c-4448-bf0f-174c9123747b button.colab-df-convert');\n",
              "      buttonEl.style.display =\n",
              "        google.colab.kernel.accessAllowed ? 'block' : 'none';\n",
              "\n",
              "      async function convertToInteractive(key) {\n",
              "        const element = document.querySelector('#df-5e2a9654-bf6c-4448-bf0f-174c9123747b');\n",
              "        const dataTable =\n",
              "          await google.colab.kernel.invokeFunction('convertToInteractive',\n",
              "                                                    [key], {});\n",
              "        if (!dataTable) return;\n",
              "\n",
              "        const docLinkHtml = 'Like what you see? Visit the ' +\n",
              "          '<a target=\"_blank\" href=https://colab.research.google.com/notebooks/data_table.ipynb>data table notebook</a>'\n",
              "          + ' to learn more about interactive tables.';\n",
              "        element.innerHTML = '';\n",
              "        dataTable['output_type'] = 'display_data';\n",
              "        await google.colab.output.renderOutput(dataTable, element);\n",
              "        const docLink = document.createElement('div');\n",
              "        docLink.innerHTML = docLinkHtml;\n",
              "        element.appendChild(docLink);\n",
              "      }\n",
              "    </script>\n",
              "  </div>\n",
              "\n",
              "\n",
              "    <div id=\"df-9c6a616a-d298-495a-94f4-fe5fc67c1615\">\n",
              "      <button class=\"colab-df-quickchart\" onclick=\"quickchart('df-9c6a616a-d298-495a-94f4-fe5fc67c1615')\"\n",
              "                title=\"Suggest charts\"\n",
              "                style=\"display:none;\">\n",
              "\n",
              "<svg xmlns=\"http://www.w3.org/2000/svg\" height=\"24px\"viewBox=\"0 0 24 24\"\n",
              "     width=\"24px\">\n",
              "    <g>\n",
              "        <path d=\"M19 3H5c-1.1 0-2 .9-2 2v14c0 1.1.9 2 2 2h14c1.1 0 2-.9 2-2V5c0-1.1-.9-2-2-2zM9 17H7v-7h2v7zm4 0h-2V7h2v10zm4 0h-2v-4h2v4z\"/>\n",
              "    </g>\n",
              "</svg>\n",
              "      </button>\n",
              "\n",
              "<style>\n",
              "  .colab-df-quickchart {\n",
              "      --bg-color: #E8F0FE;\n",
              "      --fill-color: #1967D2;\n",
              "      --hover-bg-color: #E2EBFA;\n",
              "      --hover-fill-color: #174EA6;\n",
              "      --disabled-fill-color: #AAA;\n",
              "      --disabled-bg-color: #DDD;\n",
              "  }\n",
              "\n",
              "  [theme=dark] .colab-df-quickchart {\n",
              "      --bg-color: #3B4455;\n",
              "      --fill-color: #D2E3FC;\n",
              "      --hover-bg-color: #434B5C;\n",
              "      --hover-fill-color: #FFFFFF;\n",
              "      --disabled-bg-color: #3B4455;\n",
              "      --disabled-fill-color: #666;\n",
              "  }\n",
              "\n",
              "  .colab-df-quickchart {\n",
              "    background-color: var(--bg-color);\n",
              "    border: none;\n",
              "    border-radius: 50%;\n",
              "    cursor: pointer;\n",
              "    display: none;\n",
              "    fill: var(--fill-color);\n",
              "    height: 32px;\n",
              "    padding: 0;\n",
              "    width: 32px;\n",
              "  }\n",
              "\n",
              "  .colab-df-quickchart:hover {\n",
              "    background-color: var(--hover-bg-color);\n",
              "    box-shadow: 0 1px 2px rgba(60, 64, 67, 0.3), 0 1px 3px 1px rgba(60, 64, 67, 0.15);\n",
              "    fill: var(--button-hover-fill-color);\n",
              "  }\n",
              "\n",
              "  .colab-df-quickchart-complete:disabled,\n",
              "  .colab-df-quickchart-complete:disabled:hover {\n",
              "    background-color: var(--disabled-bg-color);\n",
              "    fill: var(--disabled-fill-color);\n",
              "    box-shadow: none;\n",
              "  }\n",
              "\n",
              "  .colab-df-spinner {\n",
              "    border: 2px solid var(--fill-color);\n",
              "    border-color: transparent;\n",
              "    border-bottom-color: var(--fill-color);\n",
              "    animation:\n",
              "      spin 1s steps(1) infinite;\n",
              "  }\n",
              "\n",
              "  @keyframes spin {\n",
              "    0% {\n",
              "      border-color: transparent;\n",
              "      border-bottom-color: var(--fill-color);\n",
              "      border-left-color: var(--fill-color);\n",
              "    }\n",
              "    20% {\n",
              "      border-color: transparent;\n",
              "      border-left-color: var(--fill-color);\n",
              "      border-top-color: var(--fill-color);\n",
              "    }\n",
              "    30% {\n",
              "      border-color: transparent;\n",
              "      border-left-color: var(--fill-color);\n",
              "      border-top-color: var(--fill-color);\n",
              "      border-right-color: var(--fill-color);\n",
              "    }\n",
              "    40% {\n",
              "      border-color: transparent;\n",
              "      border-right-color: var(--fill-color);\n",
              "      border-top-color: var(--fill-color);\n",
              "    }\n",
              "    60% {\n",
              "      border-color: transparent;\n",
              "      border-right-color: var(--fill-color);\n",
              "    }\n",
              "    80% {\n",
              "      border-color: transparent;\n",
              "      border-right-color: var(--fill-color);\n",
              "      border-bottom-color: var(--fill-color);\n",
              "    }\n",
              "    90% {\n",
              "      border-color: transparent;\n",
              "      border-bottom-color: var(--fill-color);\n",
              "    }\n",
              "  }\n",
              "</style>\n",
              "\n",
              "      <script>\n",
              "        async function quickchart(key) {\n",
              "          const quickchartButtonEl =\n",
              "            document.querySelector('#' + key + ' button');\n",
              "          quickchartButtonEl.disabled = true;  // To prevent multiple clicks.\n",
              "          quickchartButtonEl.classList.add('colab-df-spinner');\n",
              "          try {\n",
              "            const charts = await google.colab.kernel.invokeFunction(\n",
              "                'suggestCharts', [key], {});\n",
              "          } catch (error) {\n",
              "            console.error('Error during call to suggestCharts:', error);\n",
              "          }\n",
              "          quickchartButtonEl.classList.remove('colab-df-spinner');\n",
              "          quickchartButtonEl.classList.add('colab-df-quickchart-complete');\n",
              "        }\n",
              "        (() => {\n",
              "          let quickchartButtonEl =\n",
              "            document.querySelector('#df-9c6a616a-d298-495a-94f4-fe5fc67c1615 button');\n",
              "          quickchartButtonEl.style.display =\n",
              "            google.colab.kernel.accessAllowed ? 'block' : 'none';\n",
              "        })();\n",
              "      </script>\n",
              "    </div>\n",
              "\n",
              "    </div>\n",
              "  </div>\n"
            ],
            "text/plain": [
              "                                                 isi  \\\n",
              "0  PebasketSatria MudaAvan Seputramengaku terkeju...   \n",
              "1  Timnas Indonesiasudah gagal lolos kePiala Duni...   \n",
              "2  Sejak pertama kali diperkenalkan pada tahun 19...   \n",
              "3  Ada banyak dosen inspiratif di Indonesia. Seba...   \n",
              "4  Kylian Mbappemengaku merasa lebih tenang sejak...   \n",
              "\n",
              "                                 hasil_preprocessing kategori  \n",
              "0  ['pebasketsatria', 'mudaavan', 'seputramengaku...  Lainnya  \n",
              "1  ['timnas', 'indonesiasudah', 'gagal', 'lolos',...  Lainnya  \n",
              "2  ['kali', 'kenal', 'mercedesbenz', 'sprinter', ...  Lainnya  \n",
              "3  ['dosen', 'inspiratif', 'indonesia', 'jajar', ...      Edu  \n",
              "4  ['kylian', 'mbappemengaku', 'tenang', 'pindah'...  Lainnya  "
            ]
          },
          "execution_count": 1,
          "metadata": {},
          "output_type": "execute_result"
        }
      ],
      "source": [
        "import pandas as pd\n",
        "data = pd.read_csv('hasil_preprocessing_berita_supe.csv')\n",
        "\n",
        "# Tampilkan kolom utama dari file Anda\n",
        "data[['isi', 'hasil_preprocessing', 'kategori']].head()"
      ]
    },
    {
      "cell_type": "code",
      "execution_count": 2,
      "metadata": {
        "colab": {
          "base_uri": "https://localhost:8080/",
          "height": 206
        },
        "id": "6NkHI_2s9OzV",
        "outputId": "7bac6b3a-0c86-4c05-bcad-84dea84f1a9a"
      },
      "outputs": [
        {
          "data": {
            "application/vnd.google.colaboratory.intrinsic+json": {
              "summary": "{\n  \"name\": \"data_text\",\n  \"rows\": 500,\n  \"fields\": [\n    {\n      \"column\": \"hasil_preprocessing\",\n      \"properties\": {\n        \"dtype\": \"string\",\n        \"num_unique_values\": 500,\n        \"samples\": [\n          \"['tensi', 'lagaindonesia', 'vs', 'irakjay', 'idzesmenunjukkan', 'tenang', 'tanggung', 'kaptensaat', 'emosi', 'suporter', 'puncak', 'main', 'sassuolo', 'maju', 'tenang', 'tonton', 'timnas', 'indonesia', 'kalah', 'irak', 'laga', 'ronde', 'empat', 'kualifikasi', 'piala', 'dunia', 'zona', 'asia', 'gol', 'tunggal', 'singa', 'mesopotamia', 'lahir', 'zidane', 'iqbal', 'kalah', 'indonesia', 'tutup', 'ronde', 'juru', 'kunci', 'klasemen', 'grup', 'b', 'indonesia', 'kalah', 'arab', 'saudi']\",\n          \"['byd', 'raya', 'produksi', 'mobil', 'energi', 'juta', 'unit', 'tonggak', 'sejarah', 'byd', 'tumbuh', 'jual', 'signifikan', 'tahun', 'mobil', 'energi', 'juta', 'unit', 'byd', 'luncur', 'produksi', 'pabrik', 'mobil', 'tumpang', 'camacari', 'brasil', 'kutip', 'carnewschina', 'mobil', 'juta', 'unit', 'byd', 'suv', 'hybrid', 'byd', 'song', 'pro', 'mobil', 'serah', 'daftar', 'nama', 'presiden', 'brasil', 'luiz', 'in cio', 'lula', 'da', 'silva', 'scroll', 'to', 'continue', 'with', 'content', 'mobil', 'serah', 'presiden', 'brasil', 'model', 'hybrid', 'superfleksibel', 'byd', 'rancang', 'khusus', 'pasar', 'amerika', 'selatan', 'mobil', 'produksi', 'edisi', 'khusus', 'cop', 'kendara', 'lengkap', 'teknologi', 'hybrid', 'baru', 'byd', 'rancang', 'optimal', 'efisiensi', 'bahan', 'bakar', 'performa', 'kondisi', 'kendara', 'bahan', 'bakar', 'capai', 'produksi', 'juta', 'unit', 'tonggak', 'sejarah', 'byd', 'capai', 'bukti', 'tumbuh', 'cepat', 'produksi', 'jual', 'kendara', 'listrik', 'byd', 'capai', 'tonggak', 'sejarah', 'kendara', 'energi', 'juta', 'unit', 'november', 'genap', 'tahun', 'tepat', 'oktober', 'angka', 'lipat', 'ganda', 'juta', 'unit', 'chairman', 'byd', 'wang', 'chuanfu', 'byd', 'pimpin', 'pasar', 'kendara', 'energi', 'brasil', 'berturutturut', 'dukung', 'operasi', 'regional', 'cakup', 'manufaktur', 'bus', 'listrik', 'produksi', 'kendara', 'tumpang', 'proyek', 'rakit', 'baterai', 'wang', 'umum', 'byd', 'pasok', 'kendara', 'energi', 'dikustomisasi', 'cop', 'konferensi', 'ubah', 'iklim', 'serikat', 'bangsabangsa', 'ada', 'belem', 'brasil', 'acara', 'kendaraankendaraan', 'sumbang', 'sekolahsekolah', 'lembagalembaga', 'publik', 'guna', 'transportasi', 'seharihari']\",\n          \"['media', 'inggrissports', 'molememprediksi', 'lagairak', 'vs', 'indonesiagaruda', 'polesanpatrick', 'kluivertmungkin', 'cercah', 'harap', 'sulit', 'konsistensi', 'ronde', 'keempatkualifikasi', 'piala', 'dunia', 'zona', 'asialanjutkanmatchdaykedua', 'grup', 'b', 'saji', 'duelirak', 'vs', 'indonesiadi', 'king', 'abdullah', 'sports', 'city', 'jeddah', 'minggu', 'wib', 'timnas', 'indonesia', 'poin', 'kalah', 'arab', 'saudi', 'laga', 'indonesia', 'grup', 'b', 'kontra', 'irak', 'menang', 'harga', 'mati', 'pasukanpatrick', 'kluivert', 'scroll', 'to', 'continue', 'with', 'content', 'ronde', 'empat', 'grup', 'a', 'b', 'masingmasing', 'isi', 'tim', 'sistem', 'round', 'robin', 'tim', 'finis', 'atas', 'laga', 'langsung', 'lolos', 'piala', 'dunia', 'tim', 'finis', 'runner', 'up', 'adu', 'ronde', 'tim', 'finis', 'posisi', 'gugur', 'iraktentu', 'incar', 'menang', 'laga', 'perdana', 'ronde', 'empat', 'singa', 'mesopotamia', 'fit', 'kondisi', 'media', 'inggrissports', 'molemepreviewlagairak', 'vs', 'indonesiananti', 'prediksi', 'menang', 'singa', 'mesopotamia', 'nilai', 'sejarah', 'head', 'to', 'head', 'tim', 'irak', 'digdaya', 'delapan', 'kali', 'menang', 'kali', 'imbang', 'kalah', 'satusatunya', 'kalah', 'irak', 'indonesia', 'tim', 'kali', 'temu', 'kualifikasi', 'olimpiade', 'garuda', 'menang', 'irak', 'sapu', 'bersih', 'menang', 'kali', 'untun', 'indonesia', 'temu', 'indonesia', 'inkonsistensi', 'poles', 'pelatihpatrick', 'kluivert', 'pasu', 'kluivert', 'menang', 'tanding', 'kompetisi', 'cercah', 'potensi', 'sulit', 'konsisten', 'tulis', 'sports', 'molemenilaiirakdalam', 'kondisi', 'prima', 'dibandingtimnas', 'indonesiamaka', 'rasarasanya', 'sulit', 'jay', 'idzes', 'dkk', 'kejut', 'sejarah', 'pihak', 'indonesia', 'gagal', 'menang', 'delapan', 'temu', 'irak', 'kalah', 'enam', 'kali', 'seri', 'kali', 'satusatunya', 'menang', 'raih', 'olimpiade', 'tulis', 'menang', 'irak', 'kejut', 'hidup', 'impi', 'indonesia', 'indonesia', 'kalah', 'irak', 'irak', 'kalah', 'arab', 'saudi', 'saing', 'ketat', 'tiga', 'tim', 'tutup']\"\n        ],\n        \"semantic_type\": \"\",\n        \"description\": \"\"\n      }\n    }\n  ]\n}",
              "type": "dataframe",
              "variable_name": "data_text"
            },
            "text/html": [
              "\n",
              "  <div id=\"df-2ae15d78-d6bf-43d1-b278-1980731179bd\" class=\"colab-df-container\">\n",
              "    <div>\n",
              "<style scoped>\n",
              "    .dataframe tbody tr th:only-of-type {\n",
              "        vertical-align: middle;\n",
              "    }\n",
              "\n",
              "    .dataframe tbody tr th {\n",
              "        vertical-align: top;\n",
              "    }\n",
              "\n",
              "    .dataframe thead th {\n",
              "        text-align: right;\n",
              "    }\n",
              "</style>\n",
              "<table border=\"1\" class=\"dataframe\">\n",
              "  <thead>\n",
              "    <tr style=\"text-align: right;\">\n",
              "      <th></th>\n",
              "      <th>hasil_preprocessing</th>\n",
              "    </tr>\n",
              "  </thead>\n",
              "  <tbody>\n",
              "    <tr>\n",
              "      <th>0</th>\n",
              "      <td>['pebasketsatria', 'mudaavan', 'seputramengaku...</td>\n",
              "    </tr>\n",
              "    <tr>\n",
              "      <th>1</th>\n",
              "      <td>['timnas', 'indonesiasudah', 'gagal', 'lolos',...</td>\n",
              "    </tr>\n",
              "    <tr>\n",
              "      <th>2</th>\n",
              "      <td>['kali', 'kenal', 'mercedesbenz', 'sprinter', ...</td>\n",
              "    </tr>\n",
              "    <tr>\n",
              "      <th>3</th>\n",
              "      <td>['dosen', 'inspiratif', 'indonesia', 'jajar', ...</td>\n",
              "    </tr>\n",
              "    <tr>\n",
              "      <th>4</th>\n",
              "      <td>['kylian', 'mbappemengaku', 'tenang', 'pindah'...</td>\n",
              "    </tr>\n",
              "  </tbody>\n",
              "</table>\n",
              "</div>\n",
              "    <div class=\"colab-df-buttons\">\n",
              "\n",
              "  <div class=\"colab-df-container\">\n",
              "    <button class=\"colab-df-convert\" onclick=\"convertToInteractive('df-2ae15d78-d6bf-43d1-b278-1980731179bd')\"\n",
              "            title=\"Convert this dataframe to an interactive table.\"\n",
              "            style=\"display:none;\">\n",
              "\n",
              "  <svg xmlns=\"http://www.w3.org/2000/svg\" height=\"24px\" viewBox=\"0 -960 960 960\">\n",
              "    <path d=\"M120-120v-720h720v720H120Zm60-500h600v-160H180v160Zm220 220h160v-160H400v160Zm0 220h160v-160H400v160ZM180-400h160v-160H180v160Zm440 0h160v-160H620v160ZM180-180h160v-160H180v160Zm440 0h160v-160H620v160Z\"/>\n",
              "  </svg>\n",
              "    </button>\n",
              "\n",
              "  <style>\n",
              "    .colab-df-container {\n",
              "      display:flex;\n",
              "      gap: 12px;\n",
              "    }\n",
              "\n",
              "    .colab-df-convert {\n",
              "      background-color: #E8F0FE;\n",
              "      border: none;\n",
              "      border-radius: 50%;\n",
              "      cursor: pointer;\n",
              "      display: none;\n",
              "      fill: #1967D2;\n",
              "      height: 32px;\n",
              "      padding: 0 0 0 0;\n",
              "      width: 32px;\n",
              "    }\n",
              "\n",
              "    .colab-df-convert:hover {\n",
              "      background-color: #E2EBFA;\n",
              "      box-shadow: 0px 1px 2px rgba(60, 64, 67, 0.3), 0px 1px 3px 1px rgba(60, 64, 67, 0.15);\n",
              "      fill: #174EA6;\n",
              "    }\n",
              "\n",
              "    .colab-df-buttons div {\n",
              "      margin-bottom: 4px;\n",
              "    }\n",
              "\n",
              "    [theme=dark] .colab-df-convert {\n",
              "      background-color: #3B4455;\n",
              "      fill: #D2E3FC;\n",
              "    }\n",
              "\n",
              "    [theme=dark] .colab-df-convert:hover {\n",
              "      background-color: #434B5C;\n",
              "      box-shadow: 0px 1px 3px 1px rgba(0, 0, 0, 0.15);\n",
              "      filter: drop-shadow(0px 1px 2px rgba(0, 0, 0, 0.3));\n",
              "      fill: #FFFFFF;\n",
              "    }\n",
              "  </style>\n",
              "\n",
              "    <script>\n",
              "      const buttonEl =\n",
              "        document.querySelector('#df-2ae15d78-d6bf-43d1-b278-1980731179bd button.colab-df-convert');\n",
              "      buttonEl.style.display =\n",
              "        google.colab.kernel.accessAllowed ? 'block' : 'none';\n",
              "\n",
              "      async function convertToInteractive(key) {\n",
              "        const element = document.querySelector('#df-2ae15d78-d6bf-43d1-b278-1980731179bd');\n",
              "        const dataTable =\n",
              "          await google.colab.kernel.invokeFunction('convertToInteractive',\n",
              "                                                    [key], {});\n",
              "        if (!dataTable) return;\n",
              "\n",
              "        const docLinkHtml = 'Like what you see? Visit the ' +\n",
              "          '<a target=\"_blank\" href=https://colab.research.google.com/notebooks/data_table.ipynb>data table notebook</a>'\n",
              "          + ' to learn more about interactive tables.';\n",
              "        element.innerHTML = '';\n",
              "        dataTable['output_type'] = 'display_data';\n",
              "        await google.colab.output.renderOutput(dataTable, element);\n",
              "        const docLink = document.createElement('div');\n",
              "        docLink.innerHTML = docLinkHtml;\n",
              "        element.appendChild(docLink);\n",
              "      }\n",
              "    </script>\n",
              "  </div>\n",
              "\n",
              "\n",
              "    <div id=\"df-c4d3415d-2f40-4294-84fd-bae66d88a6ba\">\n",
              "      <button class=\"colab-df-quickchart\" onclick=\"quickchart('df-c4d3415d-2f40-4294-84fd-bae66d88a6ba')\"\n",
              "                title=\"Suggest charts\"\n",
              "                style=\"display:none;\">\n",
              "\n",
              "<svg xmlns=\"http://www.w3.org/2000/svg\" height=\"24px\"viewBox=\"0 0 24 24\"\n",
              "     width=\"24px\">\n",
              "    <g>\n",
              "        <path d=\"M19 3H5c-1.1 0-2 .9-2 2v14c0 1.1.9 2 2 2h14c1.1 0 2-.9 2-2V5c0-1.1-.9-2-2-2zM9 17H7v-7h2v7zm4 0h-2V7h2v10zm4 0h-2v-4h2v4z\"/>\n",
              "    </g>\n",
              "</svg>\n",
              "      </button>\n",
              "\n",
              "<style>\n",
              "  .colab-df-quickchart {\n",
              "      --bg-color: #E8F0FE;\n",
              "      --fill-color: #1967D2;\n",
              "      --hover-bg-color: #E2EBFA;\n",
              "      --hover-fill-color: #174EA6;\n",
              "      --disabled-fill-color: #AAA;\n",
              "      --disabled-bg-color: #DDD;\n",
              "  }\n",
              "\n",
              "  [theme=dark] .colab-df-quickchart {\n",
              "      --bg-color: #3B4455;\n",
              "      --fill-color: #D2E3FC;\n",
              "      --hover-bg-color: #434B5C;\n",
              "      --hover-fill-color: #FFFFFF;\n",
              "      --disabled-bg-color: #3B4455;\n",
              "      --disabled-fill-color: #666;\n",
              "  }\n",
              "\n",
              "  .colab-df-quickchart {\n",
              "    background-color: var(--bg-color);\n",
              "    border: none;\n",
              "    border-radius: 50%;\n",
              "    cursor: pointer;\n",
              "    display: none;\n",
              "    fill: var(--fill-color);\n",
              "    height: 32px;\n",
              "    padding: 0;\n",
              "    width: 32px;\n",
              "  }\n",
              "\n",
              "  .colab-df-quickchart:hover {\n",
              "    background-color: var(--hover-bg-color);\n",
              "    box-shadow: 0 1px 2px rgba(60, 64, 67, 0.3), 0 1px 3px 1px rgba(60, 64, 67, 0.15);\n",
              "    fill: var(--button-hover-fill-color);\n",
              "  }\n",
              "\n",
              "  .colab-df-quickchart-complete:disabled,\n",
              "  .colab-df-quickchart-complete:disabled:hover {\n",
              "    background-color: var(--disabled-bg-color);\n",
              "    fill: var(--disabled-fill-color);\n",
              "    box-shadow: none;\n",
              "  }\n",
              "\n",
              "  .colab-df-spinner {\n",
              "    border: 2px solid var(--fill-color);\n",
              "    border-color: transparent;\n",
              "    border-bottom-color: var(--fill-color);\n",
              "    animation:\n",
              "      spin 1s steps(1) infinite;\n",
              "  }\n",
              "\n",
              "  @keyframes spin {\n",
              "    0% {\n",
              "      border-color: transparent;\n",
              "      border-bottom-color: var(--fill-color);\n",
              "      border-left-color: var(--fill-color);\n",
              "    }\n",
              "    20% {\n",
              "      border-color: transparent;\n",
              "      border-left-color: var(--fill-color);\n",
              "      border-top-color: var(--fill-color);\n",
              "    }\n",
              "    30% {\n",
              "      border-color: transparent;\n",
              "      border-left-color: var(--fill-color);\n",
              "      border-top-color: var(--fill-color);\n",
              "      border-right-color: var(--fill-color);\n",
              "    }\n",
              "    40% {\n",
              "      border-color: transparent;\n",
              "      border-right-color: var(--fill-color);\n",
              "      border-top-color: var(--fill-color);\n",
              "    }\n",
              "    60% {\n",
              "      border-color: transparent;\n",
              "      border-right-color: var(--fill-color);\n",
              "    }\n",
              "    80% {\n",
              "      border-color: transparent;\n",
              "      border-right-color: var(--fill-color);\n",
              "      border-bottom-color: var(--fill-color);\n",
              "    }\n",
              "    90% {\n",
              "      border-color: transparent;\n",
              "      border-bottom-color: var(--fill-color);\n",
              "    }\n",
              "  }\n",
              "</style>\n",
              "\n",
              "      <script>\n",
              "        async function quickchart(key) {\n",
              "          const quickchartButtonEl =\n",
              "            document.querySelector('#' + key + ' button');\n",
              "          quickchartButtonEl.disabled = true;  // To prevent multiple clicks.\n",
              "          quickchartButtonEl.classList.add('colab-df-spinner');\n",
              "          try {\n",
              "            const charts = await google.colab.kernel.invokeFunction(\n",
              "                'suggestCharts', [key], {});\n",
              "          } catch (error) {\n",
              "            console.error('Error during call to suggestCharts:', error);\n",
              "          }\n",
              "          quickchartButtonEl.classList.remove('colab-df-spinner');\n",
              "          quickchartButtonEl.classList.add('colab-df-quickchart-complete');\n",
              "        }\n",
              "        (() => {\n",
              "          let quickchartButtonEl =\n",
              "            document.querySelector('#df-c4d3415d-2f40-4294-84fd-bae66d88a6ba button');\n",
              "          quickchartButtonEl.style.display =\n",
              "            google.colab.kernel.accessAllowed ? 'block' : 'none';\n",
              "        })();\n",
              "      </script>\n",
              "    </div>\n",
              "\n",
              "    </div>\n",
              "  </div>\n"
            ],
            "text/plain": [
              "                                 hasil_preprocessing\n",
              "0  ['pebasketsatria', 'mudaavan', 'seputramengaku...\n",
              "1  ['timnas', 'indonesiasudah', 'gagal', 'lolos',...\n",
              "2  ['kali', 'kenal', 'mercedesbenz', 'sprinter', ...\n",
              "3  ['dosen', 'inspiratif', 'indonesia', 'jajar', ...\n",
              "4  ['kylian', 'mbappemengaku', 'tenang', 'pindah'..."
            ]
          },
          "execution_count": 2,
          "metadata": {},
          "output_type": "execute_result"
        }
      ],
      "source": [
        "# Gunakan kolom teks bersih Anda\n",
        "# 'hasil_preprocessing' pada file Anda berisi token hasil preprocessing\n",
        "# Kita simpan sebagai kolom tunggal untuk analisis\n",
        "\n",
        "data_text = data[['hasil_preprocessing']]\n",
        "\n",
        "data_text.head()"
      ]
    },
    {
      "cell_type": "code",
      "execution_count": 3,
      "metadata": {
        "colab": {
          "base_uri": "https://localhost:8080/",
          "height": 311
        },
        "id": "6VO_J0ee9nsg",
        "outputId": "3285cc3e-2a4c-47ac-b7ca-bee1babc61c5"
      },
      "outputs": [
        {
          "name": "stderr",
          "output_type": "stream",
          "text": [
            "/tmp/ipython-input-118329293.py:1: SettingWithCopyWarning: \n",
            "A value is trying to be set on a copy of a slice from a DataFrame.\n",
            "Try using .loc[row_indexer,col_indexer] = value instead\n",
            "\n",
            "See the caveats in the documentation: https://pandas.pydata.org/pandas-docs/stable/user_guide/indexing.html#returning-a-view-versus-a-copy\n",
            "  data_text['index'] = data_text.index\n"
          ]
        },
        {
          "data": {
            "application/vnd.google.colaboratory.intrinsic+json": {
              "summary": "{\n  \"name\": \"documents\",\n  \"rows\": 500,\n  \"fields\": [\n    {\n      \"column\": \"hasil_preprocessing\",\n      \"properties\": {\n        \"dtype\": \"string\",\n        \"num_unique_values\": 500,\n        \"samples\": [\n          \"['tensi', 'lagaindonesia', 'vs', 'irakjay', 'idzesmenunjukkan', 'tenang', 'tanggung', 'kaptensaat', 'emosi', 'suporter', 'puncak', 'main', 'sassuolo', 'maju', 'tenang', 'tonton', 'timnas', 'indonesia', 'kalah', 'irak', 'laga', 'ronde', 'empat', 'kualifikasi', 'piala', 'dunia', 'zona', 'asia', 'gol', 'tunggal', 'singa', 'mesopotamia', 'lahir', 'zidane', 'iqbal', 'kalah', 'indonesia', 'tutup', 'ronde', 'juru', 'kunci', 'klasemen', 'grup', 'b', 'indonesia', 'kalah', 'arab', 'saudi']\",\n          \"['byd', 'raya', 'produksi', 'mobil', 'energi', 'juta', 'unit', 'tonggak', 'sejarah', 'byd', 'tumbuh', 'jual', 'signifikan', 'tahun', 'mobil', 'energi', 'juta', 'unit', 'byd', 'luncur', 'produksi', 'pabrik', 'mobil', 'tumpang', 'camacari', 'brasil', 'kutip', 'carnewschina', 'mobil', 'juta', 'unit', 'byd', 'suv', 'hybrid', 'byd', 'song', 'pro', 'mobil', 'serah', 'daftar', 'nama', 'presiden', 'brasil', 'luiz', 'in cio', 'lula', 'da', 'silva', 'scroll', 'to', 'continue', 'with', 'content', 'mobil', 'serah', 'presiden', 'brasil', 'model', 'hybrid', 'superfleksibel', 'byd', 'rancang', 'khusus', 'pasar', 'amerika', 'selatan', 'mobil', 'produksi', 'edisi', 'khusus', 'cop', 'kendara', 'lengkap', 'teknologi', 'hybrid', 'baru', 'byd', 'rancang', 'optimal', 'efisiensi', 'bahan', 'bakar', 'performa', 'kondisi', 'kendara', 'bahan', 'bakar', 'capai', 'produksi', 'juta', 'unit', 'tonggak', 'sejarah', 'byd', 'capai', 'bukti', 'tumbuh', 'cepat', 'produksi', 'jual', 'kendara', 'listrik', 'byd', 'capai', 'tonggak', 'sejarah', 'kendara', 'energi', 'juta', 'unit', 'november', 'genap', 'tahun', 'tepat', 'oktober', 'angka', 'lipat', 'ganda', 'juta', 'unit', 'chairman', 'byd', 'wang', 'chuanfu', 'byd', 'pimpin', 'pasar', 'kendara', 'energi', 'brasil', 'berturutturut', 'dukung', 'operasi', 'regional', 'cakup', 'manufaktur', 'bus', 'listrik', 'produksi', 'kendara', 'tumpang', 'proyek', 'rakit', 'baterai', 'wang', 'umum', 'byd', 'pasok', 'kendara', 'energi', 'dikustomisasi', 'cop', 'konferensi', 'ubah', 'iklim', 'serikat', 'bangsabangsa', 'ada', 'belem', 'brasil', 'acara', 'kendaraankendaraan', 'sumbang', 'sekolahsekolah', 'lembagalembaga', 'publik', 'guna', 'transportasi', 'seharihari']\",\n          \"['media', 'inggrissports', 'molememprediksi', 'lagairak', 'vs', 'indonesiagaruda', 'polesanpatrick', 'kluivertmungkin', 'cercah', 'harap', 'sulit', 'konsistensi', 'ronde', 'keempatkualifikasi', 'piala', 'dunia', 'zona', 'asialanjutkanmatchdaykedua', 'grup', 'b', 'saji', 'duelirak', 'vs', 'indonesiadi', 'king', 'abdullah', 'sports', 'city', 'jeddah', 'minggu', 'wib', 'timnas', 'indonesia', 'poin', 'kalah', 'arab', 'saudi', 'laga', 'indonesia', 'grup', 'b', 'kontra', 'irak', 'menang', 'harga', 'mati', 'pasukanpatrick', 'kluivert', 'scroll', 'to', 'continue', 'with', 'content', 'ronde', 'empat', 'grup', 'a', 'b', 'masingmasing', 'isi', 'tim', 'sistem', 'round', 'robin', 'tim', 'finis', 'atas', 'laga', 'langsung', 'lolos', 'piala', 'dunia', 'tim', 'finis', 'runner', 'up', 'adu', 'ronde', 'tim', 'finis', 'posisi', 'gugur', 'iraktentu', 'incar', 'menang', 'laga', 'perdana', 'ronde', 'empat', 'singa', 'mesopotamia', 'fit', 'kondisi', 'media', 'inggrissports', 'molemepreviewlagairak', 'vs', 'indonesiananti', 'prediksi', 'menang', 'singa', 'mesopotamia', 'nilai', 'sejarah', 'head', 'to', 'head', 'tim', 'irak', 'digdaya', 'delapan', 'kali', 'menang', 'kali', 'imbang', 'kalah', 'satusatunya', 'kalah', 'irak', 'indonesia', 'tim', 'kali', 'temu', 'kualifikasi', 'olimpiade', 'garuda', 'menang', 'irak', 'sapu', 'bersih', 'menang', 'kali', 'untun', 'indonesia', 'temu', 'indonesia', 'inkonsistensi', 'poles', 'pelatihpatrick', 'kluivert', 'pasu', 'kluivert', 'menang', 'tanding', 'kompetisi', 'cercah', 'potensi', 'sulit', 'konsisten', 'tulis', 'sports', 'molemenilaiirakdalam', 'kondisi', 'prima', 'dibandingtimnas', 'indonesiamaka', 'rasarasanya', 'sulit', 'jay', 'idzes', 'dkk', 'kejut', 'sejarah', 'pihak', 'indonesia', 'gagal', 'menang', 'delapan', 'temu', 'irak', 'kalah', 'enam', 'kali', 'seri', 'kali', 'satusatunya', 'menang', 'raih', 'olimpiade', 'tulis', 'menang', 'irak', 'kejut', 'hidup', 'impi', 'indonesia', 'indonesia', 'kalah', 'irak', 'irak', 'kalah', 'arab', 'saudi', 'saing', 'ketat', 'tiga', 'tim', 'tutup']\"\n        ],\n        \"semantic_type\": \"\",\n        \"description\": \"\"\n      }\n    },\n    {\n      \"column\": \"index\",\n      \"properties\": {\n        \"dtype\": \"number\",\n        \"std\": 144,\n        \"min\": 0,\n        \"max\": 499,\n        \"num_unique_values\": 500,\n        \"samples\": [\n          361,\n          73,\n          374\n        ],\n        \"semantic_type\": \"\",\n        \"description\": \"\"\n      }\n    }\n  ]\n}",
              "type": "dataframe",
              "variable_name": "documents"
            },
            "text/html": [
              "\n",
              "  <div id=\"df-2a6e7722-fd42-4a0d-ba67-04324df7573d\" class=\"colab-df-container\">\n",
              "    <div>\n",
              "<style scoped>\n",
              "    .dataframe tbody tr th:only-of-type {\n",
              "        vertical-align: middle;\n",
              "    }\n",
              "\n",
              "    .dataframe tbody tr th {\n",
              "        vertical-align: top;\n",
              "    }\n",
              "\n",
              "    .dataframe thead th {\n",
              "        text-align: right;\n",
              "    }\n",
              "</style>\n",
              "<table border=\"1\" class=\"dataframe\">\n",
              "  <thead>\n",
              "    <tr style=\"text-align: right;\">\n",
              "      <th></th>\n",
              "      <th>hasil_preprocessing</th>\n",
              "      <th>index</th>\n",
              "    </tr>\n",
              "  </thead>\n",
              "  <tbody>\n",
              "    <tr>\n",
              "      <th>0</th>\n",
              "      <td>['pebasketsatria', 'mudaavan', 'seputramengaku...</td>\n",
              "      <td>0</td>\n",
              "    </tr>\n",
              "    <tr>\n",
              "      <th>1</th>\n",
              "      <td>['timnas', 'indonesiasudah', 'gagal', 'lolos',...</td>\n",
              "      <td>1</td>\n",
              "    </tr>\n",
              "    <tr>\n",
              "      <th>2</th>\n",
              "      <td>['kali', 'kenal', 'mercedesbenz', 'sprinter', ...</td>\n",
              "      <td>2</td>\n",
              "    </tr>\n",
              "    <tr>\n",
              "      <th>3</th>\n",
              "      <td>['dosen', 'inspiratif', 'indonesia', 'jajar', ...</td>\n",
              "      <td>3</td>\n",
              "    </tr>\n",
              "    <tr>\n",
              "      <th>4</th>\n",
              "      <td>['kylian', 'mbappemengaku', 'tenang', 'pindah'...</td>\n",
              "      <td>4</td>\n",
              "    </tr>\n",
              "  </tbody>\n",
              "</table>\n",
              "</div>\n",
              "    <div class=\"colab-df-buttons\">\n",
              "\n",
              "  <div class=\"colab-df-container\">\n",
              "    <button class=\"colab-df-convert\" onclick=\"convertToInteractive('df-2a6e7722-fd42-4a0d-ba67-04324df7573d')\"\n",
              "            title=\"Convert this dataframe to an interactive table.\"\n",
              "            style=\"display:none;\">\n",
              "\n",
              "  <svg xmlns=\"http://www.w3.org/2000/svg\" height=\"24px\" viewBox=\"0 -960 960 960\">\n",
              "    <path d=\"M120-120v-720h720v720H120Zm60-500h600v-160H180v160Zm220 220h160v-160H400v160Zm0 220h160v-160H400v160ZM180-400h160v-160H180v160Zm440 0h160v-160H620v160ZM180-180h160v-160H180v160Zm440 0h160v-160H620v160Z\"/>\n",
              "  </svg>\n",
              "    </button>\n",
              "\n",
              "  <style>\n",
              "    .colab-df-container {\n",
              "      display:flex;\n",
              "      gap: 12px;\n",
              "    }\n",
              "\n",
              "    .colab-df-convert {\n",
              "      background-color: #E8F0FE;\n",
              "      border: none;\n",
              "      border-radius: 50%;\n",
              "      cursor: pointer;\n",
              "      display: none;\n",
              "      fill: #1967D2;\n",
              "      height: 32px;\n",
              "      padding: 0 0 0 0;\n",
              "      width: 32px;\n",
              "    }\n",
              "\n",
              "    .colab-df-convert:hover {\n",
              "      background-color: #E2EBFA;\n",
              "      box-shadow: 0px 1px 2px rgba(60, 64, 67, 0.3), 0px 1px 3px 1px rgba(60, 64, 67, 0.15);\n",
              "      fill: #174EA6;\n",
              "    }\n",
              "\n",
              "    .colab-df-buttons div {\n",
              "      margin-bottom: 4px;\n",
              "    }\n",
              "\n",
              "    [theme=dark] .colab-df-convert {\n",
              "      background-color: #3B4455;\n",
              "      fill: #D2E3FC;\n",
              "    }\n",
              "\n",
              "    [theme=dark] .colab-df-convert:hover {\n",
              "      background-color: #434B5C;\n",
              "      box-shadow: 0px 1px 3px 1px rgba(0, 0, 0, 0.15);\n",
              "      filter: drop-shadow(0px 1px 2px rgba(0, 0, 0, 0.3));\n",
              "      fill: #FFFFFF;\n",
              "    }\n",
              "  </style>\n",
              "\n",
              "    <script>\n",
              "      const buttonEl =\n",
              "        document.querySelector('#df-2a6e7722-fd42-4a0d-ba67-04324df7573d button.colab-df-convert');\n",
              "      buttonEl.style.display =\n",
              "        google.colab.kernel.accessAllowed ? 'block' : 'none';\n",
              "\n",
              "      async function convertToInteractive(key) {\n",
              "        const element = document.querySelector('#df-2a6e7722-fd42-4a0d-ba67-04324df7573d');\n",
              "        const dataTable =\n",
              "          await google.colab.kernel.invokeFunction('convertToInteractive',\n",
              "                                                    [key], {});\n",
              "        if (!dataTable) return;\n",
              "\n",
              "        const docLinkHtml = 'Like what you see? Visit the ' +\n",
              "          '<a target=\"_blank\" href=https://colab.research.google.com/notebooks/data_table.ipynb>data table notebook</a>'\n",
              "          + ' to learn more about interactive tables.';\n",
              "        element.innerHTML = '';\n",
              "        dataTable['output_type'] = 'display_data';\n",
              "        await google.colab.output.renderOutput(dataTable, element);\n",
              "        const docLink = document.createElement('div');\n",
              "        docLink.innerHTML = docLinkHtml;\n",
              "        element.appendChild(docLink);\n",
              "      }\n",
              "    </script>\n",
              "  </div>\n",
              "\n",
              "\n",
              "    <div id=\"df-98b4154a-721c-4860-92b5-6650e75d8ad2\">\n",
              "      <button class=\"colab-df-quickchart\" onclick=\"quickchart('df-98b4154a-721c-4860-92b5-6650e75d8ad2')\"\n",
              "                title=\"Suggest charts\"\n",
              "                style=\"display:none;\">\n",
              "\n",
              "<svg xmlns=\"http://www.w3.org/2000/svg\" height=\"24px\"viewBox=\"0 0 24 24\"\n",
              "     width=\"24px\">\n",
              "    <g>\n",
              "        <path d=\"M19 3H5c-1.1 0-2 .9-2 2v14c0 1.1.9 2 2 2h14c1.1 0 2-.9 2-2V5c0-1.1-.9-2-2-2zM9 17H7v-7h2v7zm4 0h-2V7h2v10zm4 0h-2v-4h2v4z\"/>\n",
              "    </g>\n",
              "</svg>\n",
              "      </button>\n",
              "\n",
              "<style>\n",
              "  .colab-df-quickchart {\n",
              "      --bg-color: #E8F0FE;\n",
              "      --fill-color: #1967D2;\n",
              "      --hover-bg-color: #E2EBFA;\n",
              "      --hover-fill-color: #174EA6;\n",
              "      --disabled-fill-color: #AAA;\n",
              "      --disabled-bg-color: #DDD;\n",
              "  }\n",
              "\n",
              "  [theme=dark] .colab-df-quickchart {\n",
              "      --bg-color: #3B4455;\n",
              "      --fill-color: #D2E3FC;\n",
              "      --hover-bg-color: #434B5C;\n",
              "      --hover-fill-color: #FFFFFF;\n",
              "      --disabled-bg-color: #3B4455;\n",
              "      --disabled-fill-color: #666;\n",
              "  }\n",
              "\n",
              "  .colab-df-quickchart {\n",
              "    background-color: var(--bg-color);\n",
              "    border: none;\n",
              "    border-radius: 50%;\n",
              "    cursor: pointer;\n",
              "    display: none;\n",
              "    fill: var(--fill-color);\n",
              "    height: 32px;\n",
              "    padding: 0;\n",
              "    width: 32px;\n",
              "  }\n",
              "\n",
              "  .colab-df-quickchart:hover {\n",
              "    background-color: var(--hover-bg-color);\n",
              "    box-shadow: 0 1px 2px rgba(60, 64, 67, 0.3), 0 1px 3px 1px rgba(60, 64, 67, 0.15);\n",
              "    fill: var(--button-hover-fill-color);\n",
              "  }\n",
              "\n",
              "  .colab-df-quickchart-complete:disabled,\n",
              "  .colab-df-quickchart-complete:disabled:hover {\n",
              "    background-color: var(--disabled-bg-color);\n",
              "    fill: var(--disabled-fill-color);\n",
              "    box-shadow: none;\n",
              "  }\n",
              "\n",
              "  .colab-df-spinner {\n",
              "    border: 2px solid var(--fill-color);\n",
              "    border-color: transparent;\n",
              "    border-bottom-color: var(--fill-color);\n",
              "    animation:\n",
              "      spin 1s steps(1) infinite;\n",
              "  }\n",
              "\n",
              "  @keyframes spin {\n",
              "    0% {\n",
              "      border-color: transparent;\n",
              "      border-bottom-color: var(--fill-color);\n",
              "      border-left-color: var(--fill-color);\n",
              "    }\n",
              "    20% {\n",
              "      border-color: transparent;\n",
              "      border-left-color: var(--fill-color);\n",
              "      border-top-color: var(--fill-color);\n",
              "    }\n",
              "    30% {\n",
              "      border-color: transparent;\n",
              "      border-left-color: var(--fill-color);\n",
              "      border-top-color: var(--fill-color);\n",
              "      border-right-color: var(--fill-color);\n",
              "    }\n",
              "    40% {\n",
              "      border-color: transparent;\n",
              "      border-right-color: var(--fill-color);\n",
              "      border-top-color: var(--fill-color);\n",
              "    }\n",
              "    60% {\n",
              "      border-color: transparent;\n",
              "      border-right-color: var(--fill-color);\n",
              "    }\n",
              "    80% {\n",
              "      border-color: transparent;\n",
              "      border-right-color: var(--fill-color);\n",
              "      border-bottom-color: var(--fill-color);\n",
              "    }\n",
              "    90% {\n",
              "      border-color: transparent;\n",
              "      border-bottom-color: var(--fill-color);\n",
              "    }\n",
              "  }\n",
              "</style>\n",
              "\n",
              "      <script>\n",
              "        async function quickchart(key) {\n",
              "          const quickchartButtonEl =\n",
              "            document.querySelector('#' + key + ' button');\n",
              "          quickchartButtonEl.disabled = true;  // To prevent multiple clicks.\n",
              "          quickchartButtonEl.classList.add('colab-df-spinner');\n",
              "          try {\n",
              "            const charts = await google.colab.kernel.invokeFunction(\n",
              "                'suggestCharts', [key], {});\n",
              "          } catch (error) {\n",
              "            console.error('Error during call to suggestCharts:', error);\n",
              "          }\n",
              "          quickchartButtonEl.classList.remove('colab-df-spinner');\n",
              "          quickchartButtonEl.classList.add('colab-df-quickchart-complete');\n",
              "        }\n",
              "        (() => {\n",
              "          let quickchartButtonEl =\n",
              "            document.querySelector('#df-98b4154a-721c-4860-92b5-6650e75d8ad2 button');\n",
              "          quickchartButtonEl.style.display =\n",
              "            google.colab.kernel.accessAllowed ? 'block' : 'none';\n",
              "        })();\n",
              "      </script>\n",
              "    </div>\n",
              "\n",
              "    </div>\n",
              "  </div>\n"
            ],
            "text/plain": [
              "                                 hasil_preprocessing  index\n",
              "0  ['pebasketsatria', 'mudaavan', 'seputramengaku...      0\n",
              "1  ['timnas', 'indonesiasudah', 'gagal', 'lolos',...      1\n",
              "2  ['kali', 'kenal', 'mercedesbenz', 'sprinter', ...      2\n",
              "3  ['dosen', 'inspiratif', 'indonesia', 'jajar', ...      3\n",
              "4  ['kylian', 'mbappemengaku', 'tenang', 'pindah'...      4"
            ]
          },
          "execution_count": 3,
          "metadata": {},
          "output_type": "execute_result"
        }
      ],
      "source": [
        "data_text['index'] = data_text.index\n",
        "\n",
        "documents = data_text\n",
        "documents.head()"
      ]
    },
    {
      "cell_type": "code",
      "execution_count": 4,
      "metadata": {
        "colab": {
          "base_uri": "https://localhost:8080/"
        },
        "id": "ElRQd9ri9rzK",
        "outputId": "61fb5226-7803-4382-f8d7-121f4fe19a87"
      },
      "outputs": [
        {
          "data": {
            "text/plain": [
              "500"
            ]
          },
          "execution_count": 4,
          "metadata": {},
          "output_type": "execute_result"
        }
      ],
      "source": [
        "len(documents)"
      ]
    },
    {
      "cell_type": "code",
      "execution_count": 5,
      "metadata": {
        "colab": {
          "base_uri": "https://localhost:8080/",
          "height": 668
        },
        "id": "-u5dAXfoA9q3",
        "outputId": "4ee54fca-421d-4559-927e-b176c05ff9b9"
      },
      "outputs": [
        {
          "name": "stdout",
          "output_type": "stream",
          "text": [
            "Collecting gensim\n",
            "  Downloading gensim-4.3.3-cp312-cp312-manylinux_2_17_x86_64.manylinux2014_x86_64.whl.metadata (8.1 kB)\n",
            "Collecting numpy<2.0,>=1.18.5 (from gensim)\n",
            "  Downloading numpy-1.26.4-cp312-cp312-manylinux_2_17_x86_64.manylinux2014_x86_64.whl.metadata (61 kB)\n",
            "\u001b[2K     \u001b[90m━━━━━━━━━━━━━━━━━━━━━━━━━━━━━━━━━━━━━━━━\u001b[0m \u001b[32m61.0/61.0 kB\u001b[0m \u001b[31m2.4 MB/s\u001b[0m eta \u001b[36m0:00:00\u001b[0m\n",
            "\u001b[?25hCollecting scipy<1.14.0,>=1.7.0 (from gensim)\n",
            "  Downloading scipy-1.13.1-cp312-cp312-manylinux_2_17_x86_64.manylinux2014_x86_64.whl.metadata (60 kB)\n",
            "\u001b[2K     \u001b[90m━━━━━━━━━━━━━━━━━━━━━━━━━━━━━━━━━━━━━━━━\u001b[0m \u001b[32m60.6/60.6 kB\u001b[0m \u001b[31m4.7 MB/s\u001b[0m eta \u001b[36m0:00:00\u001b[0m\n",
            "\u001b[?25hRequirement already satisfied: smart-open>=1.8.1 in /usr/local/lib/python3.12/dist-packages (from gensim) (7.3.1)\n",
            "Requirement already satisfied: wrapt in /usr/local/lib/python3.12/dist-packages (from smart-open>=1.8.1->gensim) (1.17.3)\n",
            "Downloading gensim-4.3.3-cp312-cp312-manylinux_2_17_x86_64.manylinux2014_x86_64.whl (26.6 MB)\n",
            "\u001b[2K   \u001b[90m━━━━━━━━━━━━━━━━━━━━━━━━━━━━━━━━━━━━━━━━\u001b[0m \u001b[32m26.6/26.6 MB\u001b[0m \u001b[31m16.8 MB/s\u001b[0m eta \u001b[36m0:00:00\u001b[0m\n",
            "\u001b[?25hDownloading numpy-1.26.4-cp312-cp312-manylinux_2_17_x86_64.manylinux2014_x86_64.whl (18.0 MB)\n",
            "\u001b[2K   \u001b[90m━━━━━━━━━━━━━━━━━━━━━━━━━━━━━━━━━━━━━━━━\u001b[0m \u001b[32m18.0/18.0 MB\u001b[0m \u001b[31m94.1 MB/s\u001b[0m eta \u001b[36m0:00:00\u001b[0m\n",
            "\u001b[?25hDownloading scipy-1.13.1-cp312-cp312-manylinux_2_17_x86_64.manylinux2014_x86_64.whl (38.2 MB)\n",
            "\u001b[2K   \u001b[90m━━━━━━━━━━━━━━━━━━━━━━━━━━━━━━━━━━━━━━━━\u001b[0m \u001b[32m38.2/38.2 MB\u001b[0m \u001b[31m14.9 MB/s\u001b[0m eta \u001b[36m0:00:00\u001b[0m\n",
            "\u001b[?25hInstalling collected packages: numpy, scipy, gensim\n",
            "  Attempting uninstall: numpy\n",
            "    Found existing installation: numpy 2.0.2\n",
            "    Uninstalling numpy-2.0.2:\n",
            "      Successfully uninstalled numpy-2.0.2\n",
            "  Attempting uninstall: scipy\n",
            "    Found existing installation: scipy 1.16.2\n",
            "    Uninstalling scipy-1.16.2:\n",
            "      Successfully uninstalled scipy-1.16.2\n",
            "\u001b[31mERROR: pip's dependency resolver does not currently take into account all the packages that are installed. This behaviour is the source of the following dependency conflicts.\n",
            "opencv-python-headless 4.12.0.88 requires numpy<2.3.0,>=2; python_version >= \"3.9\", but you have numpy 1.26.4 which is incompatible.\n",
            "tsfresh 0.21.1 requires scipy>=1.14.0; python_version >= \"3.10\", but you have scipy 1.13.1 which is incompatible.\n",
            "thinc 8.3.6 requires numpy<3.0.0,>=2.0.0, but you have numpy 1.26.4 which is incompatible.\n",
            "opencv-python 4.12.0.88 requires numpy<2.3.0,>=2; python_version >= \"3.9\", but you have numpy 1.26.4 which is incompatible.\n",
            "opencv-contrib-python 4.12.0.88 requires numpy<2.3.0,>=2; python_version >= \"3.9\", but you have numpy 1.26.4 which is incompatible.\u001b[0m\u001b[31m\n",
            "\u001b[0mSuccessfully installed gensim-4.3.3 numpy-1.26.4 scipy-1.13.1\n"
          ]
        },
        {
          "data": {
            "application/vnd.colab-display-data+json": {
              "id": "623e5ff77ea64eb48c96a6d2b7f7fef1",
              "pip_warning": {
                "packages": [
                  "numpy"
                ]
              }
            }
          },
          "metadata": {},
          "output_type": "display_data"
        }
      ],
      "source": [
        "!pip install gensim\n"
      ]
    },
    {
      "cell_type": "code",
      "execution_count": 1,
      "metadata": {
        "id": "kE4DmLnL9u3u"
      },
      "outputs": [],
      "source": [
        "import gensim\n",
        "from gensim.utils import simple_preprocess\n",
        "from nltk.corpus import stopwords\n",
        "from nltk.stem.porter import *\n",
        "import numpy as np"
      ]
    },
    {
      "cell_type": "code",
      "execution_count": 2,
      "metadata": {
        "colab": {
          "base_uri": "https://localhost:8080/"
        },
        "id": "f5fae9bf",
        "outputId": "94586278-6316-4e27-9d3f-ffcc81a05bb3"
      },
      "outputs": [
        {
          "name": "stdout",
          "output_type": "stream",
          "text": [
            "Requirement already satisfied: gensim in /usr/local/lib/python3.12/dist-packages (4.3.3)\n",
            "Requirement already satisfied: numpy<2.0,>=1.18.5 in /usr/local/lib/python3.12/dist-packages (from gensim) (1.26.4)\n",
            "Requirement already satisfied: scipy<1.14.0,>=1.7.0 in /usr/local/lib/python3.12/dist-packages (from gensim) (1.13.1)\n",
            "Requirement already satisfied: smart-open>=1.8.1 in /usr/local/lib/python3.12/dist-packages (from gensim) (7.3.1)\n",
            "Requirement already satisfied: wrapt in /usr/local/lib/python3.12/dist-packages (from smart-open>=1.8.1->gensim) (1.17.3)\n"
          ]
        }
      ],
      "source": [
        "!pip install gensim"
      ]
    },
    {
      "cell_type": "code",
      "execution_count": 3,
      "metadata": {
        "colab": {
          "base_uri": "https://localhost:8080/"
        },
        "id": "cfgXU-4_90to",
        "outputId": "82565c7f-5121-4ceb-bf44-6c1cd38aa520"
      },
      "outputs": [
        {
          "name": "stderr",
          "output_type": "stream",
          "text": [
            "[nltk_data] Downloading package wordnet to /root/nltk_data...\n"
          ]
        },
        {
          "data": {
            "text/plain": [
              "True"
            ]
          },
          "execution_count": 3,
          "metadata": {},
          "output_type": "execute_result"
        }
      ],
      "source": [
        "import nltk\n",
        "nltk.download('wordnet')"
      ]
    },
    {
      "cell_type": "code",
      "execution_count": 4,
      "metadata": {
        "colab": {
          "base_uri": "https://localhost:8080/"
        },
        "id": "Z_Dwd2hSBYOJ",
        "outputId": "8bcfd841-2c6f-41b8-8a99-cb7d217da422"
      },
      "outputs": [
        {
          "name": "stdout",
          "output_type": "stream",
          "text": [
            "Collecting Sastrawi\n",
            "  Downloading Sastrawi-1.0.1-py2.py3-none-any.whl.metadata (909 bytes)\n",
            "Downloading Sastrawi-1.0.1-py2.py3-none-any.whl (209 kB)\n",
            "\u001b[?25l   \u001b[90m━━━━━━━━━━━━━━━━━━━━━━━━━━━━━━━━━━━━━━━━\u001b[0m \u001b[32m0.0/209.7 kB\u001b[0m \u001b[31m?\u001b[0m eta \u001b[36m-:--:--\u001b[0m\r\u001b[2K   \u001b[91m━━━━━━━━━━━━━━━━━━━━━━━━━━━━━━━━━━━━━━━\u001b[0m\u001b[90m╺\u001b[0m \u001b[32m204.8/209.7 kB\u001b[0m \u001b[31m11.5 MB/s\u001b[0m eta \u001b[36m0:00:01\u001b[0m\r\u001b[2K   \u001b[90m━━━━━━━━━━━━━━━━━━━━━━━━━━━━━━━━━━━━━━━━\u001b[0m \u001b[32m209.7/209.7 kB\u001b[0m \u001b[31m4.9 MB/s\u001b[0m eta \u001b[36m0:00:00\u001b[0m\n",
            "\u001b[?25hInstalling collected packages: Sastrawi\n",
            "Successfully installed Sastrawi-1.0.1\n"
          ]
        }
      ],
      "source": [
        "!pip install Sastrawi\n"
      ]
    },
    {
      "cell_type": "code",
      "execution_count": 5,
      "metadata": {
        "colab": {
          "base_uri": "https://localhost:8080/"
        },
        "id": "cp_l_15s93OM",
        "outputId": "74d07c21-57c0-4fc8-9bbd-4386be9ca544"
      },
      "outputs": [
        {
          "name": "stderr",
          "output_type": "stream",
          "text": [
            "[nltk_data] Downloading package stopwords to /root/nltk_data...\n",
            "[nltk_data]   Unzipping corpora/stopwords.zip.\n"
          ]
        }
      ],
      "source": [
        "from Sastrawi.Stemmer.StemmerFactory import StemmerFactory\n",
        "from nltk.corpus import stopwords\n",
        "import nltk\n",
        "\n",
        "nltk.download('stopwords')\n",
        "\n",
        "factory = StemmerFactory()\n",
        "stemmer = factory.create_stemmer()\n",
        "\n",
        "stop_words = stopwords.words('indonesian')\n",
        "\n",
        "def stemming_indonesia(text):\n",
        "    return stemmer.stem(text)\n",
        "\n",
        "def preprocess(text):\n",
        "    result = []\n",
        "    for token in gensim.utils.simple_preprocess(str(text)):  # tokenisasi\n",
        "        if token not in stop_words and len(token) > 3:\n",
        "            result.append(stemming_indonesia(token))\n",
        "    return result"
      ]
    },
    {
      "cell_type": "code",
      "execution_count": 6,
      "metadata": {
        "colab": {
          "base_uri": "https://localhost:8080/"
        },
        "id": "8oRoTjbl9-AB",
        "outputId": "03f01142-6628-458f-db0a-fc8ca0241a49"
      },
      "outputs": [
        {
          "name": "stdout",
          "output_type": "stream",
          "text": [
            "\n",
            "Tampilan kolom 'isi' dan 'hasil_preprocessing':\n",
            "                                                 isi  \\\n",
            "0  PebasketSatria MudaAvan Seputramengaku terkeju...   \n",
            "1  Timnas Indonesiasudah gagal lolos kePiala Duni...   \n",
            "2  Sejak pertama kali diperkenalkan pada tahun 19...   \n",
            "3  Ada banyak dosen inspiratif di Indonesia. Seba...   \n",
            "4  Kylian Mbappemengaku merasa lebih tenang sejak...   \n",
            "\n",
            "                                 hasil_preprocessing  \n",
            "0  ['pebasketsatria', 'mudaavan', 'seputramengaku...  \n",
            "1  ['timnas', 'indonesiasudah', 'gagal', 'lolos',...  \n",
            "2  ['kali', 'kenal', 'mercedesbenz', 'sprinter', ...  \n",
            "3  ['dosen', 'inspiratif', 'indonesia', 'jajar', ...  \n",
            "4  ['kylian', 'mbappemengaku', 'tenang', 'pindah'...  \n",
            "\n",
            "Jumlah data: (500, 3)\n"
          ]
        }
      ],
      "source": [
        "import pandas as pd\n",
        "\n",
        "# Pakai file dan kolom milik Anda\n",
        "data = pd.read_csv('hasil_preprocessing_berita_supe.csv')\n",
        "document = data  # alias agar konsisten di cell lain\n",
        "\n",
        "print(\"\\nTampilan kolom 'isi' dan 'hasil_preprocessing':\")\n",
        "print(document[['isi', 'hasil_preprocessing']].head())\n",
        "\n",
        "print(\"\\nJumlah data:\", document.shape)"
      ]
    },
    {
      "cell_type": "code",
      "execution_count": 9,
      "metadata": {
        "id": "vNZnFYya-2XK"
      },
      "outputs": [],
      "source": [
        "import ast\n",
        "\n",
        "def to_tokens(text: str):\n",
        "    # Jika sudah list, kembalikan langsung\n",
        "    if isinstance(text, list):\n",
        "        return [t for t in text if t]\n",
        "    # Jika string: coba parse list-string, kalau gagal split spasi\n",
        "    s = str(text).strip()\n",
        "    if s.startswith('[') and s.endswith(']'):\n",
        "        try:\n",
        "            parsed = ast.literal_eval(s)\n",
        "            if isinstance(parsed, list):\n",
        "                return [str(t).strip(\"'\\\"\") for t in parsed if str(t).strip(\"'\\\"\")]\n",
        "        except Exception:\n",
        "            pass\n",
        "    return [t for t in s.split() if t]"
      ]
    },
    {
      "cell_type": "code",
      "execution_count": 12,
      "metadata": {
        "colab": {
          "base_uri": "https://localhost:8080/"
        },
        "id": "wj5K7Pl_-AuU",
        "outputId": "5e122ace-65d6-45f0-87fe-88545f178d78"
      },
      "outputs": [
        {
          "name": "stdout",
          "output_type": "stream",
          "text": [
            "\n",
            "Original document (isi):\n",
            "PebasketSatria MudaAvan Seputramengaku terkejut timnya diakuisisi Persib. Namun, ia meyakini ada hal positif dari perubahan tersebut. Manajemen grup Persib diketahui membuat langkah besar dengan mengambil alih klub basket Satria Muda. Pengumuman pertama kali muncul dalam akun sosial media klub Satria Muda dan Persib pada Senin (4/8/2025). Dengan akuisisi ini maka Satria Muda resmi pindah ke Bandung, Jawa Barat. \"Kalau saya dari sisi pemain memang perubahan atau perpindahan ini sangat mengejutkan perbasketan dan pecinta bola basket,\" kata Avan saat ditemui di Media Center Kemenpora, pada Rabu (6/8/2025). SCROLL TO CONTINUE WITH CONTENT \"Tapi dari segi manajemen dan holding sudah sangat memikirkan dengan matang atas perubahan ini, jadi menurut saya pribadi sebagai pemain, memang tidak gampang untuk melakukan suatu perubahan, karena itu memaksa kita untuk keluar dari kebiasaan lama kita.\" \"Memang belum terlihat sisi positifnya, tapi saya yakin suatu organisasi atau individu yang berani melakukan langkah untuk perubahan yang besar, saya yakin suatu saat bukan dari sisi kita, tapi media, pecinta bola basket itu sendiri akan melihat sisi positif yang luar biasa dari perubahan ini,\" ujarnya. Pemain kelahiran Surabaya 18 Mei 1994 itu menyebut perubahan bakal menjadi tantangan besar bagi tim. Apalagi Satria Muda menjadi satu-satunya tim perwakilan dari Bandung. \"Tantangan memang benar karena kami sekarang Satria Muda menjadi satu-satunya tim perwakilan dari Bandung untuk membuat atmosfer di kota tetap hidup. Jadi bukan kami anggap sebagai beban tapi akan mencoba sebagai tantangan baru bagi kami untuk lebih memajukan bola basket di Bandung itu sendiri,\" ujarnya. Sebelum proses pengambilalihan Satria Muda, PT Persib Bandung Bermartabat juga memiliki klub basket bernama Prawira Bandung. Dengan perubahan ini, maka Prawira otomatis bubar dan Satria Muda menjadi satu-satunya klub di kota kembang tersebut di musim kompetisi IBL mendatang. Menariknya, Satria Muda bahkan juga mengambil tiga pilar Prawira di antaranya Yudha Saputera dan Kelvin Sanjaya. \"Pasti nanti kami pertimbangkan akan ada beberapa sisi pemain yang bergabung, tapi siapa-siapanya dalam 24 jam ke depan akan kami umumkan, tapi tidak semua karena dari sisi Satria Muda ada beberapa slot yang dirampingkan. Tapi pada intinya kami masih Satria Muda jadi orang kalau record masih 80-90 persen Satria Muda,\" ujar Manajer Satria Muda Theodore Adi dalam kesempatan yang sama. Theo, sapaan karibnya, berharap fans basket Indonesia bisa tetap mendukung Satria Muda meski kini berpindah ke Bandung. \"Kalau pun kami di Bandung, kami akan berusaha agar diterima masyarakat sekitar dan harapannya untuk teman-teman yang mendukung Satria Muda di mana pun tak hanya di Jakarta, tetap bisa dukung kami ke depannya. Kami juga akan tetap merangkul semua seperti yang ada di logo Satria Muda, kami tak menulis nama kota tapi kita Indonesia,\" ujarnya. Satria Muda terdekat akan tampil di IBL All Indonesian 2025 di Solo, Jawa Tengah, 16-31 Agustus. Ini adalah turnamen pertama setelah resmi diakuisisi Persib. \"Persiapan matang dengan ada suntikan energi yang baru itu membuat kami lebih percaya diri menghadapi IBL All Indonesian 2025 untuk mengambil gelar yang tahun lalu kami kepleset di final,\" kata Theo.\n",
            "\n",
            "Hasil preprocessing (hasil_preprocessing):\n",
            "['pebasketsatria', 'mudaavan', 'seputramengaku', 'kejut', 'tim', 'akuisisi', 'persib', 'positif', 'ubah', 'manajemen', 'grup', 'persib', 'langkah', 'ambil', 'alih', 'klub', 'basket', 'satria', 'muda', 'umum', 'kali', 'muncul', 'akun', 'sosial', 'media', 'klub', 'satria', 'muda', 'persib', 'senin', 'akuisisi', 'satria', 'muda', 'resmi', 'pindah', 'bandung', 'jawa', 'barat', 'sisi', 'main', 'ubah', 'pindah', 'kejut', 'basket', 'cinta', 'bola', 'basket', 'avan', 'temu', 'media', 'center', 'kemenpora', 'rabu', 'scroll', 'to', 'continue', 'with', 'content', 'segi', 'manajemen', 'holding', 'pikir', 'matang', 'ubah', 'pribadi', 'main', 'gampang', 'ubah', 'paksa', 'biasa', 'sisi', 'positif', 'organisasi', 'individu', 'berani', 'langkah', 'ubah', 'sisi', 'media', 'cinta', 'bola', 'basket', 'sisi', 'positif', 'ubah', 'main', 'lahir', 'surabaya', 'mei', 'sebut', 'ubah', 'tantang', 'tim', 'satria', 'muda', 'satusatunya', 'tim', 'wakil', 'bandung', 'tantang', 'satria', 'muda', 'satusatunya', 'tim', 'wakil', 'bandung', 'atmosfer', 'kota', 'hidup', 'anggap', 'beban', 'coba', 'tantang', 'maju', 'bola', 'basket', 'bandung', 'proses', 'pengambilalihan', 'satria', 'muda', 'pt', 'persib', 'bandung', 'martabat', 'milik', 'klub', 'basket', 'nama', 'prawira', 'bandung', 'ubah', 'prawira', 'otomatis', 'bubar', 'satria', 'muda', 'satusatunya', 'klub', 'kota', 'kembang', 'musim', 'kompetisi', 'ibl', 'tarik', 'satria', 'muda', 'ambil', 'pilar', 'prawira', 'yudha', 'saputera', 'kelvin', 'sanjaya', 'timbang', 'sisi', 'main', 'gabung', 'siapasiapanya', 'jam', 'umum', 'sisi', 'satria', 'muda', 'slot', 'ramping', 'inti', 'satria', 'muda', 'orang', 'record', 'persen', 'satria', 'muda', 'manajer', 'satria', 'muda', 'theodore', 'adi', 'sempat', 'theo', 'sapa', 'karib', 'harap', 'fans', 'basket', 'indonesia', 'dukung', 'satria', 'muda', 'pindah', 'bandung', 'bandung', 'usaha', 'terima', 'masyarakat', 'harap', 'temanteman', 'dukung', 'satria', 'muda', 'jakarta', 'dukung', 'depan', 'rangkul', 'logo', 'satria', 'muda', 'tulis', 'nama', 'kota', 'indonesia', 'satria', 'muda', 'dekat', 'tampil', 'ibl', 'all', 'indonesian', 'solo', 'jawa', 'agustus', 'turnamen', 'resmi', 'akuisisi', 'persib', 'siap', 'matang', 'sunti', 'energi', 'percaya', 'hadap', 'ibl', 'all', 'indonesian', 'ambil', 'gelar', 'kepleset', 'final', 'theo']\n",
            "\n",
            "Tokenized words:\n",
            "['pebasketsatria', 'mudaavan', 'seputramengaku', 'kejut', 'tim', 'akuisisi', 'persib', 'positif', 'ubah', 'manajemen', 'grup', 'persib', 'langkah', 'ambil', 'alih', 'klub', 'basket', 'satria', 'muda', 'umum', 'kali', 'muncul', 'akun', 'sosial', 'media', 'klub', 'satria', 'muda', 'persib', 'senin', 'akuisisi', 'satria', 'muda', 'resmi', 'pindah', 'bandung', 'jawa', 'barat', 'sisi', 'main', 'ubah', 'pindah', 'kejut', 'basket', 'cinta', 'bola', 'basket', 'avan', 'temu', 'media', 'center', 'kemenpora', 'rabu', 'scroll', 'to', 'continue', 'with', 'content', 'segi', 'manajemen', 'holding', 'pikir', 'matang', 'ubah', 'pribadi', 'main', 'gampang', 'ubah', 'paksa', 'biasa', 'sisi', 'positif', 'organisasi', 'individu', 'berani', 'langkah', 'ubah', 'sisi', 'media', 'cinta', 'bola', 'basket', 'sisi', 'positif', 'ubah', 'main', 'lahir', 'surabaya', 'mei', 'sebut', 'ubah', 'tantang', 'tim', 'satria', 'muda', 'satusatunya', 'tim', 'wakil', 'bandung', 'tantang', 'satria', 'muda', 'satusatunya', 'tim', 'wakil', 'bandung', 'atmosfer', 'kota', 'hidup', 'anggap', 'beban', 'coba', 'tantang', 'maju', 'bola', 'basket', 'bandung', 'proses', 'pengambilalihan', 'satria', 'muda', 'pt', 'persib', 'bandung', 'martabat', 'milik', 'klub', 'basket', 'nama', 'prawira', 'bandung', 'ubah', 'prawira', 'otomatis', 'bubar', 'satria', 'muda', 'satusatunya', 'klub', 'kota', 'kembang', 'musim', 'kompetisi', 'ibl', 'tarik', 'satria', 'muda', 'ambil', 'pilar', 'prawira', 'yudha', 'saputera', 'kelvin', 'sanjaya', 'timbang', 'sisi', 'main', 'gabung', 'siapasiapanya', 'jam', 'umum', 'sisi', 'satria', 'muda', 'slot', 'ramping', 'inti', 'satria', 'muda', 'orang', 'record', 'persen', 'satria', 'muda', 'manajer', 'satria', 'muda', 'theodore', 'adi', 'sempat', 'theo', 'sapa', 'karib', 'harap', 'fans', 'basket', 'indonesia', 'dukung', 'satria', 'muda', 'pindah', 'bandung', 'bandung', 'usaha', 'terima', 'masyarakat', 'harap', 'temanteman', 'dukung', 'satria', 'muda', 'jakarta', 'dukung', 'depan', 'rangkul', 'logo', 'satria', 'muda', 'tulis', 'nama', 'kota', 'indonesia', 'satria', 'muda', 'dekat', 'tampil', 'ibl', 'all', 'indonesian', 'solo', 'jawa', 'agustus', 'turnamen', 'resmi', 'akuisisi', 'persib', 'siap', 'matang', 'sunti', 'energi', 'percaya', 'hadap', 'ibl', 'all', 'indonesian', 'ambil', 'gelar', 'kepleset', 'final', 'theo']\n"
          ]
        }
      ],
      "source": [
        "document_num = 0  # Definisikan document_num sesuai dengan kebutuhan Anda\n",
        "\n",
        "if document_num < len(document):\n",
        "    doc_raw = document.iloc[document_num]['isi']\n",
        "    doc_tokens = document.iloc[document_num]['hasil_preprocessing']\n",
        "\n",
        "    print(\"\\nOriginal document (isi):\")\n",
        "    print(doc_raw)\n",
        "\n",
        "    print(\"\\nHasil preprocessing (hasil_preprocessing):\")\n",
        "    print(doc_tokens)\n",
        "\n",
        "    # Token array dari hasil_preprocessing (list-string -> list token)\n",
        "    words = to_tokens(str(doc_tokens))\n",
        "    print(\"\\nTokenized words:\")\n",
        "    print(words)\n",
        "else:\n",
        "    print(f\"\\n⚠️ Nomor {document_num} melebihi jumlah baris ({len(document)})\")\n"
      ]
    },
    {
      "cell_type": "code",
      "execution_count": 13,
      "metadata": {
        "colab": {
          "base_uri": "https://localhost:8080/"
        },
        "id": "8ce2t6lfBP3-",
        "outputId": "ba0c757b-cb83-4465-be0f-8cc4b6178d1b"
      },
      "outputs": [
        {
          "name": "stdout",
          "output_type": "stream",
          "text": [
            "['isi', 'hasil_preprocessing', 'kategori']\n"
          ]
        }
      ],
      "source": [
        "print(document.columns.tolist())"
      ]
    },
    {
      "cell_type": "code",
      "execution_count": 14,
      "metadata": {
        "colab": {
          "base_uri": "https://localhost:8080/"
        },
        "id": "7A_DMAO9-2XL",
        "outputId": "ea8263f5-d0a3-443e-c7d9-be909a1ee95b"
      },
      "outputs": [
        {
          "name": "stdout",
          "output_type": "stream",
          "text": [
            "['pebasketsatria', 'mudaavan', 'seputramengaku', 'kejut', 'tim', 'akuisisi', 'persib', 'positif', 'ubah', 'manajemen', 'grup', 'persib', 'langkah', 'ambil', 'alih', 'klub', 'basket', 'satria', 'muda', 'umum']\n"
          ]
        }
      ],
      "source": [
        "# Helper untuk mengubah kolom 'hasil_preprocessing' menjadi list token\n",
        "# Menangani format list-string seperti \"['kata1', 'kata2', ...]\" atau string biasa terpisah spasi\n",
        "import ast\n",
        "\n",
        "def to_tokens(text: str):\n",
        "    if isinstance(text, list):\n",
        "        return [t for t in text if t]\n",
        "    if isinstance(text, str):\n",
        "        s = text.strip()\n",
        "        # Coba parse sebagai list literal\n",
        "        if s.startswith('[') and s.endswith(']'):\n",
        "            try:\n",
        "                parsed = ast.literal_eval(s)\n",
        "                if isinstance(parsed, list):\n",
        "                    return [str(t).strip(\"'\\\"\") for t in parsed if str(t).strip(\"'\\\"\")]\n",
        "            except Exception:\n",
        "                pass\n",
        "        # Fallback: split spasi\n",
        "        return [t for t in s.split() if t]\n",
        "    return []\n",
        "\n",
        "# Tampilkan contoh token hasil konversi\n",
        "sample_idx = 0\n",
        "print(to_tokens(str(data.iloc[sample_idx]['hasil_preprocessing']))[:20])\n"
      ]
    },
    {
      "cell_type": "code",
      "execution_count": 15,
      "metadata": {
        "id": "BJFy_vevAqij"
      },
      "outputs": [],
      "source": [
        "process_docs = document['isi'].map(preprocess)"
      ]
    },
    {
      "cell_type": "code",
      "execution_count": 16,
      "metadata": {
        "colab": {
          "base_uri": "https://localhost:8080/",
          "height": 398
        },
        "id": "Ov5iXLanBHf0",
        "outputId": "533282bc-637a-4637-ccc9-130a52b7497d"
      },
      "outputs": [
        {
          "data": {
            "text/html": [
              "<div>\n",
              "<style scoped>\n",
              "    .dataframe tbody tr th:only-of-type {\n",
              "        vertical-align: middle;\n",
              "    }\n",
              "\n",
              "    .dataframe tbody tr th {\n",
              "        vertical-align: top;\n",
              "    }\n",
              "\n",
              "    .dataframe thead th {\n",
              "        text-align: right;\n",
              "    }\n",
              "</style>\n",
              "<table border=\"1\" class=\"dataframe\">\n",
              "  <thead>\n",
              "    <tr style=\"text-align: right;\">\n",
              "      <th></th>\n",
              "      <th>isi</th>\n",
              "    </tr>\n",
              "  </thead>\n",
              "  <tbody>\n",
              "    <tr>\n",
              "      <th>0</th>\n",
              "      <td>[pebasketsatria, mudaavan, seputramengaku, kej...</td>\n",
              "    </tr>\n",
              "    <tr>\n",
              "      <th>1</th>\n",
              "      <td>[timnas, indonesiasudah, gagal, lolos, piala, ...</td>\n",
              "    </tr>\n",
              "    <tr>\n",
              "      <th>2</th>\n",
              "      <td>[kali, kenal, mercedes, benz, sprinter, salah,...</td>\n",
              "    </tr>\n",
              "    <tr>\n",
              "      <th>3</th>\n",
              "      <td>[dosen, inspiratif, indonesia, jajar, ilmuwan,...</td>\n",
              "    </tr>\n",
              "    <tr>\n",
              "      <th>4</th>\n",
              "      <td>[kylian, mbappemengaku, tenang, pindah, real, ...</td>\n",
              "    </tr>\n",
              "    <tr>\n",
              "      <th>5</th>\n",
              "      <td>[harry, maguiresudah, pasuk, kontrak, dimanche...</td>\n",
              "    </tr>\n",
              "    <tr>\n",
              "      <th>6</th>\n",
              "      <td>[legenda, jermanmichael, ballackmemahami, muni...</td>\n",
              "    </tr>\n",
              "    <tr>\n",
              "      <th>7</th>\n",
              "      <td>[matamiyu, dancer, cilik, indonesia, bikin, ba...</td>\n",
              "    </tr>\n",
              "    <tr>\n",
              "      <th>8</th>\n",
              "      <td>[christian, vierimenyambut, rencana, runtuh, s...</td>\n",
              "    </tr>\n",
              "    <tr>\n",
              "      <th>9</th>\n",
              "      <td>[putus, menteri, uang, purbaya, yudhi, sadewa,...</td>\n",
              "    </tr>\n",
              "  </tbody>\n",
              "</table>\n",
              "</div><br><label><b>dtype:</b> object</label>"
            ],
            "text/plain": [
              "0    [pebasketsatria, mudaavan, seputramengaku, kej...\n",
              "1    [timnas, indonesiasudah, gagal, lolos, piala, ...\n",
              "2    [kali, kenal, mercedes, benz, sprinter, salah,...\n",
              "3    [dosen, inspiratif, indonesia, jajar, ilmuwan,...\n",
              "4    [kylian, mbappemengaku, tenang, pindah, real, ...\n",
              "5    [harry, maguiresudah, pasuk, kontrak, dimanche...\n",
              "6    [legenda, jermanmichael, ballackmemahami, muni...\n",
              "7    [matamiyu, dancer, cilik, indonesia, bikin, ba...\n",
              "8    [christian, vierimenyambut, rencana, runtuh, s...\n",
              "9    [putus, menteri, uang, purbaya, yudhi, sadewa,...\n",
              "Name: isi, dtype: object"
            ]
          },
          "execution_count": 16,
          "metadata": {},
          "output_type": "execute_result"
        }
      ],
      "source": [
        "process_docs[:10]"
      ]
    },
    {
      "cell_type": "markdown",
      "metadata": {
        "id": "2y5BUigKCve-"
      },
      "source": [
        "**Get a BOW Dict from data**"
      ]
    },
    {
      "cell_type": "code",
      "execution_count": 17,
      "metadata": {
        "colab": {
          "base_uri": "https://localhost:8080/"
        },
        "id": "X3kioNfHCsAP",
        "outputId": "178963ca-cac1-4399-c39e-1c76ead5aac5"
      },
      "outputs": [
        {
          "name": "stdout",
          "output_type": "stream",
          "text": [
            "0 agustus\n",
            "1 akuisisi\n",
            "2 akun\n",
            "3 alih\n",
            "4 ambil\n",
            "5 anggap\n",
            "6 atmosfer\n",
            "7 avan\n",
            "8 bandung\n",
            "9 barat\n",
            "10 basket\n"
          ]
        }
      ],
      "source": [
        "dic = gensim.corpora.Dictionary(process_docs)\n",
        "count = 0\n",
        "for k, v in dic.items():\n",
        "    print(k, v)\n",
        "    count += 1\n",
        "    if count > 10:\n",
        "        break"
      ]
    },
    {
      "cell_type": "markdown",
      "metadata": {
        "id": "uZ0iE9_DC7fv"
      },
      "source": [
        "**filter the dict**"
      ]
    },
    {
      "cell_type": "code",
      "execution_count": 18,
      "metadata": {
        "id": "xPd8jHj8C48G"
      },
      "outputs": [],
      "source": [
        "dic.filter_extremes(no_below=15, no_above=0.1, keep_n=100000)"
      ]
    },
    {
      "cell_type": "markdown",
      "metadata": {
        "id": "y1t_jtiuDCCy"
      },
      "source": [
        "**Convert document into BOW format by doc2bow**"
      ]
    },
    {
      "cell_type": "code",
      "execution_count": 19,
      "metadata": {
        "id": "sPGfeQLRDAXO"
      },
      "outputs": [],
      "source": [
        "bow_corpus = [dic.doc2bow(doc) for doc in process_docs]"
      ]
    },
    {
      "cell_type": "code",
      "execution_count": 68,
      "metadata": {
        "colab": {
          "base_uri": "https://localhost:8080/"
        },
        "id": "r0Wpivq6DGsv",
        "outputId": "97bc7666-6d1c-4bc0-b216-8a1a8dad9717"
      },
      "outputs": [
        {
          "name": "stdout",
          "output_type": "stream",
          "text": [
            "=== Isi dokumen ke-34 ===\n",
            "\n",
            "Word ID 10 (\"bola\") appears 2 time(s).\n",
            "Word ID 23 (\"maju\") appears 2 time(s).\n",
            "Word ID 30 (\"paksa\") appears 1 time(s).\n",
            "Word ID 50 (\"babak\") appears 2 time(s).\n",
            "Word ID 53 (\"gagal\") appears 1 time(s).\n",
            "Word ID 67 (\"mimpi\") appears 1 time(s).\n",
            "Word ID 104 (\"cetak\") appears 1 time(s).\n",
            "Word ID 140 (\"madrid\") appears 1 time(s).\n",
            "Word ID 141 (\"nyaman\") appears 1 time(s).\n",
            "Word ID 144 (\"poin\") appears 4 time(s).\n",
            "Word ID 145 (\"raih\") appears 1 time(s).\n",
            "Word ID 146 (\"real\") appears 1 time(s).\n",
            "Word ID 148 (\"selesai\") appears 1 time(s).\n",
            "Word ID 149 (\"skor\") appears 7 time(s).\n",
            "Word ID 150 (\"spanyol\") appears 1 time(s).\n",
            "Word ID 169 (\"rekan\") appears 1 time(s).\n",
            "Word ID 197 (\"bikin\") appears 1 time(s).\n",
            "Word ID 210 (\"mantan\") appears 1 time(s).\n",
            "Word ID 214 (\"pekan\") appears 1 time(s).\n",
            "Word ID 218 (\"stadion\") appears 1 time(s).\n",
            "Word ID 221 (\"tuan\") appears 1 time(s).\n",
            "Word ID 224 (\"cari\") appears 1 time(s).\n",
            "Word ID 228 (\"imbang\") appears 1 time(s).\n",
            "Word ID 303 (\"lebar\") appears 1 time(s).\n",
            "Word ID 309 (\"sang\") appears 1 time(s).\n",
            "Word ID 311 (\"serang\") appears 4 time(s).\n",
            "Word ID 312 (\"sisa\") appears 1 time(s).\n",
            "Word ID 338 (\"buah\") appears 1 time(s).\n",
            "Word ID 346 (\"barcelona\") appears 13 time(s).\n",
            "Word ID 348 (\"buruk\") appears 1 time(s).\n",
            "Word ID 349 (\"kejar\") appears 1 time(s).\n",
            "Word ID 363 (\"situ\") appears 1 time(s).\n",
            "Word ID 388 (\"gawang\") appears 5 time(s).\n",
            "Word ID 389 (\"hukum\") appears 3 time(s).\n",
            "Word ID 409 (\"tiga\") appears 1 time(s).\n",
            "Word ID 427 (\"susun\") appears 1 time(s).\n",
            "Word ID 438 (\"langgar\") appears 2 time(s).\n",
            "Word ID 463 (\"kiri\") appears 1 time(s).\n",
            "Word ID 497 (\"minum\") appears 1 time(s).\n",
            "Word ID 514 (\"arah\") appears 1 time(s).\n",
            "Word ID 526 (\"ancam\") appears 1 time(s).\n",
            "Word ID 527 (\"bobol\") appears 1 time(s).\n",
            "Word ID 528 (\"kotak\") appears 1 time(s).\n",
            "Word ID 529 (\"lini\") appears 1 time(s).\n",
            "Word ID 530 (\"menit\") appears 6 time(s).\n",
            "Word ID 531 (\"penalti\") appears 4 time(s).\n"
          ]
        }
      ],
      "source": [
        "dictionary = dic\n",
        "\n",
        "document_num = 34\n",
        "\n",
        "bow_doc = bow_corpus[document_num]\n",
        "\n",
        "if len(bow_doc) == 0:\n",
        "    print(f\"Dokumen ke-{document_num} kosong.\")\n",
        "else:\n",
        "    print(f\"=== Isi dokumen ke-{document_num} ===\\n\")\n",
        "    for word_id, freq in bow_doc:\n",
        "        print(f\"Word ID {word_id} (\\\"{dictionary[word_id]}\\\") appears {freq} time(s).\")"
      ]
    },
    {
      "cell_type": "markdown",
      "metadata": {
        "id": "HiZw1WDtGBMg"
      },
      "source": [
        "**TF-IDF on our document set**"
      ]
    },
    {
      "cell_type": "code",
      "execution_count": 20,
      "metadata": {
        "id": "xmjaA4L_FbwR"
      },
      "outputs": [],
      "source": [
        "tfidf = gensim.models.TfidfModel(bow_corpus)"
      ]
    },
    {
      "cell_type": "code",
      "execution_count": 21,
      "metadata": {
        "id": "Dt6h-n2UGGuo"
      },
      "outputs": [],
      "source": [
        "corpus_tfidf = tfidf[bow_corpus]"
      ]
    },
    {
      "cell_type": "code",
      "execution_count": 22,
      "metadata": {
        "colab": {
          "base_uri": "https://localhost:8080/"
        },
        "id": "8dtgk28jGIc_",
        "outputId": "3773579f-620b-422e-8726-9c7160c06eeb"
      },
      "outputs": [
        {
          "name": "stdout",
          "output_type": "stream",
          "text": [
            "[(0, 0.04758716654100069), (1, 0.050067711994295744), (2, 0.04594193633874891), (3, 0.04351550754208484), (4, 0.4303769042851289), (5, 0.04397342694987031), (6, 0.38258064966835936), (7, 0.051461269896260306), (8, 0.0555580046881079), (9, 0.0555580046881079), (10, 0.12790701644302108), (11, 0.051461269896260306), (12, 0.09188387267749781), (13, 0.04492871625507722), (14, 0.054654378524051334), (15, 0.039876692158022704), (16, 0.051461269896260306), (17, 0.04542764921192031), (18, 0.04594193633874891), (19, 0.08527134429534738), (20, 0.10596336478948186), (21, 0.04594193633874891), (22, 0.056513293993314805), (23, 0.05298168239474093), (24, 0.0555580046881079), (25, 0.11721029442064124), (26, 0.6687975575326085), (27, 0.03882078236313636), (28, 0.05752651407698651), (29, 0.05860514721032062), (30, 0.04941221571123179), (31, 0.038483134256058156), (32, 0.040619615037240805), (33, 0.044444247178716055), (34, 0.1463443833736494), (35, 0.14276149962300205), (36, 0.0487814611245498), (37, 0.04397342694987031), (38, 0.03951725867372939), (39, 0.04594193633874891), (40, 0.051461269896260306), (41, 0.13192028084961094), (42, 0.1014999410268568), (43, 0.0507499705134284), (44, 0.054654378524051334), (45, 0.09517433308200138), (46, 0.08200767830166336)]\n"
          ]
        }
      ],
      "source": [
        "for docu in corpus_tfidf:\n",
        "    print(docu)\n",
        "    break"
      ]
    },
    {
      "cell_type": "markdown",
      "metadata": {
        "id": "TS8JicjeGRfs"
      },
      "source": [
        "**Running LDA using Bag of Words data**"
      ]
    },
    {
      "cell_type": "code",
      "execution_count": 23,
      "metadata": {
        "colab": {
          "base_uri": "https://localhost:8080/"
        },
        "id": "C5JwF81yGPQ7",
        "outputId": "fc904da1-cb5e-4f3c-d470-b0cabfbfc3c8"
      },
      "outputs": [
        {
          "name": "stderr",
          "output_type": "stream",
          "text": [
            "WARNING:gensim.models.ldamulticore:too few updates, training might not converge; consider increasing the number of passes or iterations to improve accuracy\n"
          ]
        }
      ],
      "source": [
        "lda_model = gensim.models.LdaMulticore(bow_corpus, num_topics=10, id2word = dic, passes = 2, workers=2)"
      ]
    },
    {
      "cell_type": "code",
      "execution_count": 24,
      "metadata": {
        "colab": {
          "base_uri": "https://localhost:8080/"
        },
        "id": "WwTy2N4QGc6x",
        "outputId": "dc928d05-e9f1-40a4-c7a0-33b0a61d28d0"
      },
      "outputs": [
        {
          "name": "stdout",
          "output_type": "stream",
          "text": [
            "Topic: 0 \n",
            "Words: 0.020*\"bank\" + 0.020*\"triliun\" + 0.016*\"china\" + 0.014*\"biaya\" + 0.014*\"purbaya\" + 0.012*\"presiden\" + 0.012*\"kaya\" + 0.011*\"dana\" + 0.010*\"amerika\" + 0.009*\"tempat\"\n",
            "\n",
            "\n",
            "Topic: 1 \n",
            "Words: 0.020*\"poin\" + 0.020*\"irak\" + 0.012*\"king\" + 0.011*\"bal\" + 0.009*\"jawa\" + 0.009*\"kartu\" + 0.009*\"bola\" + 0.008*\"united\" + 0.008*\"area\" + 0.008*\"unjung\"\n",
            "\n",
            "\n",
            "Topic: 2 \n",
            "Words: 0.026*\"mobil\" + 0.012*\"lindung\" + 0.011*\"umkm\" + 0.011*\"listrik\" + 0.010*\"baru\" + 0.009*\"unit\" + 0.008*\"partai\" + 0.008*\"kendara\" + 0.008*\"korban\" + 0.007*\"strategi\"\n",
            "\n",
            "\n",
            "Topic: 3 \n",
            "Words: 0.013*\"china\" + 0.013*\"bahlil\" + 0.009*\"negeri\" + 0.009*\"presiden\" + 0.009*\"dagang\" + 0.008*\"impor\" + 0.008*\"ekspor\" + 0.008*\"miliar\" + 0.008*\"layan\" + 0.007*\"esdm\"\n",
            "\n",
            "\n",
            "Topic: 4 \n",
            "Words: 0.030*\"warna\" + 0.019*\"bayern\" + 0.012*\"pakai\" + 0.012*\"emas\" + 0.011*\"serta\" + 0.011*\"fitur\" + 0.011*\"guna\" + 0.010*\"daftar\" + 0.009*\"matang\" + 0.008*\"kesan\"\n",
            "\n",
            "\n",
            "Topic: 5 \n",
            "Words: 0.022*\"kendara\" + 0.015*\"bebas\" + 0.013*\"nikah\" + 0.012*\"motor\" + 0.009*\"wanita\" + 0.008*\"kaki\" + 0.008*\"hari\" + 0.008*\"ribu\" + 0.007*\"menit\" + 0.007*\"pekan\"\n",
            "\n",
            "\n",
            "Topic: 6 \n",
            "Words: 0.026*\"irak\" + 0.020*\"madrid\" + 0.018*\"saudi\" + 0.018*\"arab\" + 0.015*\"kluivert\" + 0.013*\"kualifikasi\" + 0.011*\"china\" + 0.011*\"patrick\" + 0.010*\"ronde\" + 0.010*\"garuda\"\n",
            "\n",
            "\n",
            "Topic: 7 \n",
            "Words: 0.028*\"bank\" + 0.024*\"diskon\" + 0.024*\"mega\" + 0.015*\"prime\" + 0.015*\"full\" + 0.015*\"kandung\" + 0.013*\"kartu\" + 0.012*\"kredit\" + 0.011*\"tembak\" + 0.011*\"darah\"\n",
            "\n",
            "\n",
            "Topic: 8 \n",
            "Words: 0.021*\"foto\" + 0.017*\"muda\" + 0.012*\"liverpool\" + 0.009*\"saing\" + 0.009*\"karya\" + 0.008*\"ajang\" + 0.008*\"basket\" + 0.007*\"syariah\" + 0.007*\"bikin\" + 0.007*\"performa\"\n",
            "\n",
            "\n",
            "Topic: 9 \n",
            "Words: 0.024*\"foto\" + 0.022*\"instagram\" + 0.015*\"undang\" + 0.015*\"kendara\" + 0.009*\"momen\" + 0.008*\"lapor\" + 0.007*\"ulang\" + 0.007*\"putri\" + 0.007*\"keluarga\" + 0.007*\"utara\"\n",
            "\n",
            "\n"
          ]
        }
      ],
      "source": [
        "for idx, topic in lda_model.print_topics():\n",
        "    print(\"Topic: {} \\nWords: {}\".format(idx, topic))\n",
        "    print(\"\\n\")"
      ]
    },
    {
      "cell_type": "markdown",
      "metadata": {
        "id": "ZFFL4xz_G7TI"
      },
      "source": [
        "**Topic coherence**"
      ]
    },
    {
      "cell_type": "code",
      "execution_count": 25,
      "metadata": {
        "colab": {
          "base_uri": "https://localhost:8080/"
        },
        "id": "UrpNZeQfGmKi",
        "outputId": "0bfa5b43-8c3e-49ba-bb1f-49c2e25acf70"
      },
      "outputs": [
        {
          "name": "stdout",
          "output_type": "stream",
          "text": [
            "\n",
            "Coherence Score:  0.3070154082219965\n"
          ]
        }
      ],
      "source": [
        "from gensim.models import CoherenceModel\n",
        "\n",
        "coherence_model_lda = CoherenceModel(model=lda_model, texts=process_docs, dictionary=dic, coherence='c_v')\n",
        "coherence_lda = coherence_model_lda.get_coherence()\n",
        "print('\\nCoherence Score: ', coherence_lda)"
      ]
    },
    {
      "cell_type": "code",
      "execution_count": 26,
      "metadata": {
        "colab": {
          "base_uri": "https://localhost:8080/"
        },
        "id": "y4hBUbeyHADs",
        "outputId": "35507950-7650-4c92-c840-f8748e6a8afe"
      },
      "outputs": [
        {
          "name": "stdout",
          "output_type": "stream",
          "text": [
            "\n",
            "Coherence Score:  -6.166335021964192\n"
          ]
        }
      ],
      "source": [
        "from gensim.models import CoherenceModel\n",
        "\n",
        "coherence_model_lda = CoherenceModel(model=lda_model, texts=process_docs, dictionary=dic, coherence=\"u_mass\")\n",
        "coherence_lda = coherence_model_lda.get_coherence()\n",
        "print('\\nCoherence Score: ', coherence_lda)"
      ]
    },
    {
      "cell_type": "markdown",
      "metadata": {
        "id": "6gSygZOhHEZT"
      },
      "source": [
        "**find the optimal number of topics**"
      ]
    },
    {
      "cell_type": "code",
      "execution_count": 27,
      "metadata": {
        "id": "GtiGOAOyHCj5"
      },
      "outputs": [],
      "source": [
        "def compute_coherence_values(dictionary, corpus, texts, limit, start=2, step=3):\n",
        "\n",
        "    coherence_values = []\n",
        "    model_list = []\n",
        "    for num_topics in range(start, limit, step):\n",
        "        model=gensim.models.LdaMulticore(corpus=corpus, id2word=dic, num_topics=num_topics)\n",
        "        model_list.append(model)\n",
        "        coherencemodel = CoherenceModel(model=model, texts=texts, dictionary=dic, coherence='c_v')\n",
        "        coherence_values.append(coherencemodel.get_coherence())\n",
        "\n",
        "    return model_list, coherence_values"
      ]
    },
    {
      "cell_type": "code",
      "execution_count": 28,
      "metadata": {
        "colab": {
          "base_uri": "https://localhost:8080/"
        },
        "id": "A8JXTeeLHHp3",
        "outputId": "0f836d7d-e8ad-486c-9517-026920a8b785"
      },
      "outputs": [
        {
          "name": "stderr",
          "output_type": "stream",
          "text": [
            "WARNING:gensim.models.ldamulticore:too few updates, training might not converge; consider increasing the number of passes or iterations to improve accuracy\n",
            "WARNING:gensim.models.ldamulticore:too few updates, training might not converge; consider increasing the number of passes or iterations to improve accuracy\n",
            "WARNING:gensim.models.ldamulticore:too few updates, training might not converge; consider increasing the number of passes or iterations to improve accuracy\n",
            "WARNING:gensim.models.ldamulticore:too few updates, training might not converge; consider increasing the number of passes or iterations to improve accuracy\n",
            "WARNING:gensim.models.ldamulticore:too few updates, training might not converge; consider increasing the number of passes or iterations to improve accuracy\n",
            "WARNING:gensim.models.ldamulticore:too few updates, training might not converge; consider increasing the number of passes or iterations to improve accuracy\n",
            "WARNING:gensim.models.ldamulticore:too few updates, training might not converge; consider increasing the number of passes or iterations to improve accuracy\n"
          ]
        }
      ],
      "source": [
        "model_list, coherence_values = compute_coherence_values(dictionary=dic, corpus=bow_corpus, texts=process_docs, start=2, limit=40, step=6)"
      ]
    },
    {
      "cell_type": "code",
      "execution_count": 29,
      "metadata": {
        "colab": {
          "base_uri": "https://localhost:8080/",
          "height": 449
        },
        "id": "AeLNT0aGHK85",
        "outputId": "c9a3a556-4ebe-4913-b302-5e03e8f3e86c"
      },
      "outputs": [
        {
          "data": {
            "image/png": "[encoded data removed]",
            "text/plain": [
              "<Figure size 640x480 with 1 Axes>"
            ]
          },
          "metadata": {},
          "output_type": "display_data"
        }
      ],
      "source": [
        "import matplotlib.pyplot as plt\n",
        "limit=40; start=2; step=6;\n",
        "x = range(start, limit, step)\n",
        "plt.plot(x, coherence_values)\n",
        "plt.xlabel(\"Num Topics\")\n",
        "plt.ylabel(\"Coherence score\")\n",
        "plt.legend((\"coherence_values\"), loc='best')\n",
        "plt.show()"
      ]
    },
    {
      "cell_type": "markdown",
      "metadata": {
        "id": "0Bkur3ZCHR5t"
      },
      "source": [
        "**Running LDA using TF-IDF**"
      ]
    },
    {
      "cell_type": "code",
      "execution_count": 30,
      "metadata": {
        "colab": {
          "base_uri": "https://localhost:8080/"
        },
        "id": "E9Cp5LP3HPf3",
        "outputId": "cfe8ae55-019e-4cd2-84b1-c09dfb21fcf3"
      },
      "outputs": [
        {
          "name": "stderr",
          "output_type": "stream",
          "text": [
            "WARNING:gensim.models.ldamulticore:too few updates, training might not converge; consider increasing the number of passes or iterations to improve accuracy\n"
          ]
        }
      ],
      "source": [
        "lda_model_tfidf = gensim.models.LdaMulticore(corpus_tfidf, num_topics=10, id2word = dic, passes = 2, workers=4)"
      ]
    },
    {
      "cell_type": "code",
      "execution_count": 31,
      "metadata": {
        "colab": {
          "base_uri": "https://localhost:8080/"
        },
        "id": "TYSOBsTfHb44",
        "outputId": "492f45a0-74c2-498b-86a2-64922777121b"
      },
      "outputs": [
        {
          "name": "stdout",
          "output_type": "stream",
          "text": [
            "Topic: 0 Word: 0.008*\"desain\" + 0.007*\"fitur\" + 0.007*\"syariah\" + 0.007*\"spesifikasi\" + 0.007*\"karakter\" + 0.007*\"peran\" + 0.006*\"china\" + 0.006*\"partai\" + 0.005*\"mil\" + 0.005*\"kontribusi\"\n",
            "\n",
            "\n",
            "Topic: 1 Word: 0.008*\"bijak\" + 0.007*\"purbaya\" + 0.006*\"listrik\" + 0.005*\"selatan\" + 0.005*\"alat\" + 0.005*\"olahraga\" + 0.005*\"serap\" + 0.005*\"bal\" + 0.005*\"foto\" + 0.005*\"rokok\"\n",
            "\n",
            "\n",
            "Topic: 2 Word: 0.012*\"liverpool\" + 0.011*\"madrid\" + 0.010*\"menit\" + 0.009*\"bayern\" + 0.009*\"bola\" + 0.008*\"impor\" + 0.007*\"gawang\" + 0.007*\"bahlil\" + 0.007*\"poin\" + 0.007*\"real\"\n",
            "\n",
            "\n",
            "Topic: 3 Word: 0.021*\"irak\" + 0.012*\"kluivert\" + 0.011*\"saudi\" + 0.011*\"arab\" + 0.011*\"kualifikasi\" + 0.010*\"poin\" + 0.010*\"patrick\" + 0.009*\"king\" + 0.008*\"garuda\" + 0.007*\"juara\"\n",
            "\n",
            "\n",
            "Topic: 4 Word: 0.016*\"bayern\" + 0.014*\"foto\" + 0.008*\"presiden\" + 0.008*\"mobil\" + 0.007*\"layan\" + 0.006*\"bogor\" + 0.006*\"perempuan\" + 0.006*\"trofi\" + 0.006*\"instagram\" + 0.006*\"polisi\"\n",
            "\n",
            "\n",
            "Topic: 5 Word: 0.009*\"wisata\" + 0.008*\"malam\" + 0.006*\"olahraga\" + 0.006*\"foto\" + 0.006*\"september\" + 0.006*\"miliar\" + 0.006*\"undang\" + 0.005*\"barat\" + 0.005*\"prabowo\" + 0.005*\"ruang\"\n",
            "\n",
            "\n",
            "Topic: 6 Word: 0.008*\"basket\" + 0.008*\"nikah\" + 0.007*\"kandung\" + 0.007*\"korban\" + 0.007*\"tubuh\" + 0.007*\"darah\" + 0.007*\"konsumsi\" + 0.007*\"mil\" + 0.007*\"luka\" + 0.006*\"barcelona\"\n",
            "\n",
            "\n",
            "Topic: 7 Word: 0.017*\"diskon\" + 0.015*\"mega\" + 0.014*\"bank\" + 0.011*\"prime\" + 0.011*\"kartu\" + 0.011*\"full\" + 0.008*\"kredit\" + 0.006*\"promo\" + 0.006*\"irak\" + 0.006*\"bakar\"\n",
            "\n",
            "\n",
            "Topic: 8 Word: 0.014*\"instagram\" + 0.012*\"foto\" + 0.008*\"karya\" + 0.007*\"netizen\" + 0.007*\"mobil\" + 0.007*\"rilis\" + 0.007*\"cedera\" + 0.006*\"fitur\" + 0.006*\"korea\" + 0.006*\"karakter\"\n",
            "\n",
            "\n",
            "Topic: 9 Word: 0.012*\"kendara\" + 0.011*\"mobil\" + 0.010*\"listrik\" + 0.008*\"fitur\" + 0.008*\"pekan\" + 0.007*\"baterai\" + 0.006*\"madrid\" + 0.006*\"mesin\" + 0.006*\"motor\" + 0.006*\"warna\"\n",
            "\n",
            "\n"
          ]
        }
      ],
      "source": [
        "for idx, topic in lda_model_tfidf.print_topics(-1):\n",
        "    print(\"Topic: {} Word: {}\".format(idx, topic))\n",
        "    print(\"\\n\")"
      ]
    },
    {
      "cell_type": "code",
      "execution_count": 32,
      "metadata": {
        "colab": {
          "base_uri": "https://localhost:8080/"
        },
        "id": "yVHe-ez3HeNF",
        "outputId": "1e987a44-e231-4968-d9da-79cfd8194ac8"
      },
      "outputs": [
        {
          "name": "stdout",
          "output_type": "stream",
          "text": [
            "\n",
            "Coherence Score:  0.4366435522243962\n"
          ]
        }
      ],
      "source": [
        "from gensim.models import CoherenceModel\n",
        "\n",
        "coherence_model_lda_idf = CoherenceModel(model=lda_model_tfidf, texts=process_docs, dictionary=dic, coherence='c_v')\n",
        "coherence_model_lda_idf = coherence_model_lda_idf.get_coherence()\n",
        "print('\\nCoherence Score: ', coherence_model_lda_idf)"
      ]
    },
    {
      "cell_type": "markdown",
      "metadata": {
        "id": "YxEjdAVOHjf2"
      },
      "source": [
        "**classifying sample document using LDA Bag of Words model**"
      ]
    },
    {
      "cell_type": "code",
      "execution_count": 33,
      "metadata": {
        "colab": {
          "base_uri": "https://localhost:8080/"
        },
        "id": "EzlyPSPtHgzv",
        "outputId": "8bfcd5e1-4767-439f-fdf9-8d48668727c9"
      },
      "outputs": [
        {
          "data": {
            "text/plain": [
              "['pebasketsatria',\n",
              " 'mudaavan',\n",
              " 'seputramengaku',\n",
              " 'kejut',\n",
              " 'tim',\n",
              " 'akuisisi',\n",
              " 'persib',\n",
              " 'positif',\n",
              " 'ubah',\n",
              " 'manajemen',\n",
              " 'grup',\n",
              " 'persib',\n",
              " 'langkah',\n",
              " 'ambil',\n",
              " 'alih',\n",
              " 'klub',\n",
              " 'basket',\n",
              " 'satria',\n",
              " 'muda',\n",
              " 'umum',\n",
              " 'kali',\n",
              " 'muncul',\n",
              " 'akun',\n",
              " 'sosial',\n",
              " 'media',\n",
              " 'klub',\n",
              " 'satria',\n",
              " 'muda',\n",
              " 'persib',\n",
              " 'senin',\n",
              " 'akuisisi',\n",
              " 'satria',\n",
              " 'muda',\n",
              " 'resmi',\n",
              " 'pindah',\n",
              " 'bandung',\n",
              " 'jawa',\n",
              " 'barat',\n",
              " 'sisi',\n",
              " 'main',\n",
              " 'ubah',\n",
              " 'pindah',\n",
              " 'kejut',\n",
              " 'basket',\n",
              " 'cinta',\n",
              " 'bola',\n",
              " 'basket',\n",
              " 'avan',\n",
              " 'temu',\n",
              " 'media',\n",
              " 'center',\n",
              " 'kemenpora',\n",
              " 'rabu',\n",
              " 'scroll',\n",
              " 'continue',\n",
              " 'with',\n",
              " 'content',\n",
              " 'segi',\n",
              " 'manajemen',\n",
              " 'holding',\n",
              " 'pikir',\n",
              " 'matang',\n",
              " 'ubah',\n",
              " 'pribadi',\n",
              " 'main',\n",
              " 'gampang',\n",
              " 'ubah',\n",
              " 'paksa',\n",
              " 'biasa',\n",
              " 'sisi',\n",
              " 'positif',\n",
              " 'organisasi',\n",
              " 'individu',\n",
              " 'berani',\n",
              " 'langkah',\n",
              " 'ubah',\n",
              " 'sisi',\n",
              " 'media',\n",
              " 'cinta',\n",
              " 'bola',\n",
              " 'basket',\n",
              " 'sisi',\n",
              " 'positif',\n",
              " 'ubah',\n",
              " 'main',\n",
              " 'lahir',\n",
              " 'surabaya',\n",
              " 'sebut',\n",
              " 'ubah',\n",
              " 'tantang',\n",
              " 'satria',\n",
              " 'muda',\n",
              " 'satu',\n",
              " 'wakil',\n",
              " 'bandung',\n",
              " 'tantang',\n",
              " 'satria',\n",
              " 'muda',\n",
              " 'satu',\n",
              " 'wakil',\n",
              " 'bandung',\n",
              " 'atmosfer',\n",
              " 'kota',\n",
              " 'hidup',\n",
              " 'anggap',\n",
              " 'beban',\n",
              " 'coba',\n",
              " 'tantang',\n",
              " 'maju',\n",
              " 'bola',\n",
              " 'basket',\n",
              " 'bandung',\n",
              " 'proses',\n",
              " 'pengambilalihan',\n",
              " 'satria',\n",
              " 'muda',\n",
              " 'persib',\n",
              " 'bandung',\n",
              " 'martabat',\n",
              " 'milik',\n",
              " 'klub',\n",
              " 'basket',\n",
              " 'nama',\n",
              " 'prawira',\n",
              " 'bandung',\n",
              " 'ubah',\n",
              " 'prawira',\n",
              " 'otomatis',\n",
              " 'bubar',\n",
              " 'satria',\n",
              " 'muda',\n",
              " 'satu',\n",
              " 'klub',\n",
              " 'kota',\n",
              " 'kembang',\n",
              " 'musim',\n",
              " 'kompetisi',\n",
              " 'tarik',\n",
              " 'satria',\n",
              " 'muda',\n",
              " 'ambil',\n",
              " 'pilar',\n",
              " 'prawira',\n",
              " 'yudha',\n",
              " 'saputera',\n",
              " 'kelvin',\n",
              " 'sanjaya',\n",
              " 'timbang',\n",
              " 'sisi',\n",
              " 'main',\n",
              " 'gabung',\n",
              " 'siapa',\n",
              " 'umum',\n",
              " 'sisi',\n",
              " 'satria',\n",
              " 'muda',\n",
              " 'slot',\n",
              " 'ramping',\n",
              " 'inti',\n",
              " 'satria',\n",
              " 'muda',\n",
              " 'orang',\n",
              " 'record',\n",
              " 'persen',\n",
              " 'satria',\n",
              " 'muda',\n",
              " 'manajer',\n",
              " 'satria',\n",
              " 'muda',\n",
              " 'theodore',\n",
              " 'sempat',\n",
              " 'theo',\n",
              " 'sapa',\n",
              " 'karib',\n",
              " 'harap',\n",
              " 'fans',\n",
              " 'basket',\n",
              " 'indonesia',\n",
              " 'dukung',\n",
              " 'satria',\n",
              " 'muda',\n",
              " 'pindah',\n",
              " 'bandung',\n",
              " 'bandung',\n",
              " 'usaha',\n",
              " 'terima',\n",
              " 'masyarakat',\n",
              " 'harap',\n",
              " 'teman',\n",
              " 'teman',\n",
              " 'dukung',\n",
              " 'satria',\n",
              " 'muda',\n",
              " 'jakarta',\n",
              " 'dukung',\n",
              " 'depan',\n",
              " 'rangkul',\n",
              " 'logo',\n",
              " 'satria',\n",
              " 'muda',\n",
              " 'tulis',\n",
              " 'nama',\n",
              " 'kota',\n",
              " 'indonesia',\n",
              " 'satria',\n",
              " 'muda',\n",
              " 'dekat',\n",
              " 'tampil',\n",
              " 'indonesian',\n",
              " 'solo',\n",
              " 'jawa',\n",
              " 'agustus',\n",
              " 'turnamen',\n",
              " 'resmi',\n",
              " 'akuisisi',\n",
              " 'persib',\n",
              " 'siap',\n",
              " 'matang',\n",
              " 'sunti',\n",
              " 'energi',\n",
              " 'percaya',\n",
              " 'hadap',\n",
              " 'indonesian',\n",
              " 'ambil',\n",
              " 'gelar',\n",
              " 'kepleset',\n",
              " 'final',\n",
              " 'theo']"
            ]
          },
          "execution_count": 33,
          "metadata": {},
          "output_type": "execute_result"
        }
      ],
      "source": [
        "process_docs[document_num]"
      ]
    },
    {
      "cell_type": "code",
      "execution_count": 34,
      "metadata": {
        "colab": {
          "base_uri": "https://localhost:8080/"
        },
        "id": "NBiAZdo9Hnyk",
        "outputId": "b161562f-ab56-4f10-880f-6cd6f31a908c"
      },
      "outputs": [
        {
          "name": "stdout",
          "output_type": "stream",
          "text": [
            "\n",
            "Score: 0.9901076555252075\t Topic: 0.021*\"foto\" + 0.017*\"muda\" + 0.012*\"liverpool\" + 0.009*\"saing\" + 0.009*\"karya\"\n"
          ]
        }
      ],
      "source": [
        "for index, score in sorted(lda_model[bow_corpus[document_num]], key=lambda tup: tup[1], reverse=True):\n",
        "    print(\"\\nScore: {}\\t Topic: {}\".format(score, lda_model.print_topic(index, 5)))"
      ]
    },
    {
      "cell_type": "code",
      "execution_count": 35,
      "metadata": {
        "colab": {
          "base_uri": "https://localhost:8080/"
        },
        "id": "rBYdjdNpHu1e",
        "outputId": "4926a0bc-6248-47a4-f063-5e2224790514"
      },
      "outputs": [
        {
          "data": {
            "text/plain": [
              "[(8, 0.99010766)]"
            ]
          },
          "execution_count": 35,
          "metadata": {},
          "output_type": "execute_result"
        }
      ],
      "source": [
        "lda_model[bow_corpus[document_num]]"
      ]
    },
    {
      "cell_type": "code",
      "execution_count": 36,
      "metadata": {
        "colab": {
          "base_uri": "https://localhost:8080/"
        },
        "id": "lVrSxtcOHxhA",
        "outputId": "5770eb88-50d7-4b27-c348-9bbef84a079c"
      },
      "outputs": [
        {
          "data": {
            "text/plain": [
              "[(8, 0.9901076)]"
            ]
          },
          "execution_count": 36,
          "metadata": {},
          "output_type": "execute_result"
        }
      ],
      "source": [
        "sorted(lda_model[bow_corpus[document_num]], key=lambda tup: tup[1], reverse=True)"
      ]
    },
    {
      "cell_type": "code",
      "execution_count": 37,
      "metadata": {
        "colab": {
          "base_uri": "https://localhost:8080/",
          "height": 35
        },
        "id": "plnINTQ4H0ho",
        "outputId": "f329c2fe-1177-4232-bee4-0cd28644c29f"
      },
      "outputs": [
        {
          "data": {
            "application/vnd.google.colaboratory.intrinsic+json": {
              "type": "string"
            },
            "text/plain": [
              "'0.021*\"foto\" + 0.017*\"muda\" + 0.012*\"liverpool\" + 0.009*\"saing\" + 0.009*\"karya\" + 0.008*\"ajang\" + 0.008*\"basket\" + 0.007*\"syariah\" + 0.007*\"bikin\" + 0.007*\"performa\"'"
            ]
          },
          "execution_count": 37,
          "metadata": {},
          "output_type": "execute_result"
        }
      ],
      "source": [
        "lda_model.print_topic(index, 10)"
      ]
    },
    {
      "cell_type": "markdown",
      "metadata": {
        "id": "4tjI1kvdJbqq"
      },
      "source": [
        "**classifying sample document using LDA TF-IDF model**"
      ]
    },
    {
      "cell_type": "code",
      "execution_count": 38,
      "metadata": {
        "colab": {
          "base_uri": "https://localhost:8080/"
        },
        "id": "sFzBGFQCJZNZ",
        "outputId": "72201f22-9528-4c1a-a4ba-3c313e8b3ca6"
      },
      "outputs": [
        {
          "name": "stdout",
          "output_type": "stream",
          "text": [
            "\n",
            "Score: 0.6442279815673828\t Topic: 0.008*\"basket\" + 0.008*\"nikah\" + 0.007*\"kandung\" + 0.007*\"korban\" + 0.007*\"tubuh\"\n",
            "\n",
            "Score: 0.17573833465576172\t Topic: 0.009*\"wisata\" + 0.008*\"malam\" + 0.006*\"olahraga\" + 0.006*\"foto\" + 0.006*\"september\"\n",
            "\n",
            "Score: 0.13444708287715912\t Topic: 0.021*\"irak\" + 0.012*\"kluivert\" + 0.011*\"saudi\" + 0.011*\"arab\" + 0.011*\"kualifikasi\"\n",
            "\n",
            "Score: 0.03898896276950836\t Topic: 0.012*\"kendara\" + 0.011*\"mobil\" + 0.010*\"listrik\" + 0.008*\"fitur\" + 0.008*\"pekan\"\n"
          ]
        }
      ],
      "source": [
        "for index, score in sorted(lda_model_tfidf[bow_corpus[document_num]], key=lambda tup: tup[1], reverse=True):\n",
        "    print(\"\\nScore: {}\\t Topic: {}\".format(score, lda_model_tfidf.print_topic(index, 5)))"
      ]
    },
    {
      "cell_type": "markdown",
      "metadata": {
        "id": "6Ukmmq6wJkCF"
      },
      "source": [
        "**Testing model on unseen document**"
      ]
    },
    {
      "cell_type": "code",
      "execution_count": null,
      "metadata": {
        "colab": {
          "base_uri": "https://localhost:8080/"
        },
        "id": "1ptdEnf0Jhjl",
        "outputId": "4d5069d4-8253-453b-e09b-faa1eadbf144"
      },
      "outputs": [
        {
          "name": "stdout",
          "output_type": "stream",
          "text": [
            "Score: 0.5498747825622559\t Topik 0.030*\"warna\" + 0.019*\"bayern\" + 0.012*\"pakai\" + 0.012*\"emas\" + 0.011*\"serta\"\n",
            "Score: 0.05003386363387108\t Topik 0.026*\"mobil\" + 0.012*\"lindung\" + 0.011*\"umkm\" + 0.011*\"listrik\" + 0.010*\"baru\"\n",
            "Score: 0.05002230405807495\t Topik 0.020*\"bank\" + 0.020*\"triliun\" + 0.016*\"china\" + 0.014*\"biaya\" + 0.014*\"purbaya\"\n",
            "Score: 0.05001581460237503\t Topik 0.021*\"foto\" + 0.017*\"muda\" + 0.012*\"liverpool\" + 0.009*\"saing\" + 0.009*\"karya\"\n",
            "Score: 0.050012100487947464\t Topik 0.026*\"irak\" + 0.020*\"madrid\" + 0.018*\"saudi\" + 0.018*\"arab\" + 0.015*\"kluivert\"\n",
            "Score: 0.05001060292124748\t Topik 0.013*\"china\" + 0.013*\"bahlil\" + 0.009*\"negeri\" + 0.009*\"presiden\" + 0.009*\"dagang\"\n",
            "Score: 0.05000902712345123\t Topik 0.020*\"poin\" + 0.020*\"irak\" + 0.012*\"king\" + 0.011*\"bal\" + 0.009*\"jawa\"\n",
            "Score: 0.05000784248113632\t Topik 0.024*\"foto\" + 0.022*\"instagram\" + 0.015*\"undang\" + 0.015*\"kendara\" + 0.009*\"momen\"\n",
            "Score: 0.050007086247205734\t Topik 0.022*\"kendara\" + 0.015*\"bebas\" + 0.013*\"nikah\" + 0.012*\"motor\" + 0.009*\"wanita\"\n",
            "Score: 0.050006620585918427\t Topik 0.028*\"bank\" + 0.024*\"diskon\" + 0.024*\"mega\" + 0.015*\"prime\" + 0.015*\"full\"\n"
          ]
        }
      ],
      "source": [
        "unseen_document = \"abdillah\"\n",
        "\n",
        "bow_vector = dic.doc2bow(preprocess(unseen_document))\n",
        "for index, score in sorted(lda_model[bow_vector], key = lambda tup : tup[1], reverse=True):\n",
        "  print('Score: {}\\t Topik {}'.format(score, lda_model.print_topic(index, 5)))"
      ]
    },
    {
      "cell_type": "code",
      "execution_count": null,
      "metadata": {
        "id": "unxdhZY0Jwip"
      },
      "outputs": [],
      "source": []
    }
  ],
  "metadata": {
    "colab": {
      "provenance": []
    },
    "kernelspec": {
      "display_name": "Python 3",
      "name": "python3"
    },
    "language_info": {
      "codemirror_mode": {
        "name": "ipython",
        "version": 3
      },
      "file_extension": ".py",
      "mimetype": "text/x-python",
      "name": "python",
      "nbconvert_exporter": "python",
      "pygments_lexer": "ipython3",
      "version": "3.11.9"
    }
  },
  "nbformat": 4,
  "nbformat_minor": 0
}
