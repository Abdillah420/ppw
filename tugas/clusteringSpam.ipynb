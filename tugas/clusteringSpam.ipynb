{
  "cells": [
    {
      "cell_type": "markdown",
      "metadata": {},
      "source": [
        "# Clustering Dokumen SMS Spam\n",
        "Analisis singkat clustering pada `spam.csv` menggunakan TF-IDF + KMeans (k=2).\n"
      ]
    },
    {
      "cell_type": "code",
      "execution_count": null,
      "metadata": {},
      "outputs": [],
      "source": [
        "# Cell 1: Import Library & Fungsi Utilitas\n",
        "import pandas as pd\n",
        "import re\n",
        "from sklearn.feature_extraction.text import TfidfVectorizer\n",
        "from sklearn.cluster import KMeans\n",
        "from sklearn.metrics import silhouette_score\n",
        "\n",
        "\n",
        "def load_spam_csv(path: str) -> pd.DataFrame:\n",
        "    df = pd.read_csv(path)\n",
        "    # Ambil kolom teks (nama kolom di file adalah 'Text')\n",
        "    if 'Text' not in df.columns:\n",
        "        # Coba deteksi kolom teks jika berbeda\n",
        "        for col in df.columns:\n",
        "            if str(col).strip().lower() in {'text', 'message', 'sms'}:\n",
        "                df.rename(columns={col: 'Text'}, inplace=True)\n",
        "                break\n",
        "    df = df[['Text']].dropna()\n",
        "    df['Text'] = df['Text'].astype(str).str.strip()\n",
        "    df = df[df['Text'] != '']\n",
        "    return df.reset_index(drop=True)\n",
        "\n",
        "\n",
        "def simple_clean(text: str) -> str:\n",
        "    text = text.lower()\n",
        "    text = re.sub(r\"[^a-z\\s]\", \" \", text)\n",
        "    text = re.sub(r\"\\s+\", \" \", text).strip()\n",
        "    return text\n",
        "\n",
        "\n",
        "def vectorize_text(texts):\n",
        "    vectorizer = TfidfVectorizer(\n",
        "        preprocessor=simple_clean,\n",
        "        stop_words='english',\n",
        "        ngram_range=(1, 2),\n",
        "        max_features=5000,\n",
        "        min_df=2,\n",
        "        max_df=0.95,\n",
        "    )\n",
        "    X = vectorizer.fit_transform(texts)\n",
        "    return X, vectorizer\n",
        "\n",
        "\n",
        "def kmeans_cluster(X, k=2, random_state=42):\n",
        "    model = KMeans(n_clusters=k, n_init='auto', random_state=random_state)\n",
        "    labels = model.fit_predict(X)\n",
        "    return model, labels\n",
        "\n",
        "\n",
        "def show_top_terms_per_cluster(model: KMeans, vectorizer: TfidfVectorizer, top_n: int = 10):\n",
        "    feature_names = vectorizer.get_feature_names_out()\n",
        "    order_centroids = model.cluster_centers_.argsort()[:, ::-1]\n",
        "    results = []\n",
        "    for i in range(model.n_clusters):\n",
        "        terms = [feature_names[ind] for ind in order_centroids[i, :top_n]]\n",
        "        results.append((i, terms))\n",
        "    return results\n"
      ]
    },
    {
      "cell_type": "markdown",
      "metadata": {},
      "source": [
        "## 1) Load Data\n"
      ]
    },
    {
      "cell_type": "code",
      "execution_count": 2,
      "metadata": {},
      "outputs": [
        {
          "name": "stdout",
          "output_type": "stream",
          "text": [
            "Total pesan: 5572\n",
            "                                                Text\n",
            "0  Go until jurong point, crazy.. Available only ...\n",
            "1                      Ok lar... Joking wif u oni...\n",
            "2  Free entry in 2 a wkly comp to win FA Cup fina...\n",
            "3  U dun say so early hor... U c already then say...\n",
            "4  Nah I don't think he goes to usf, he lives aro...\n"
          ]
        }
      ],
      "source": [
        "# Cell 2: Load Data\n",
        "spam_df = load_spam_csv('spam.csv')\n",
        "print(f\"Total pesan: {len(spam_df)}\")\n",
        "print(spam_df.head())\n"
      ]
    },
    {
      "cell_type": "markdown",
      "metadata": {},
      "source": [
        "## 2) Vectorize Teks (TF-IDF)\n"
      ]
    },
    {
      "cell_type": "code",
      "execution_count": 3,
      "metadata": {},
      "outputs": [
        {
          "name": "stdout",
          "output_type": "stream",
          "text": [
            "Shape TF-IDF: (5572, 5000)\n"
          ]
        }
      ],
      "source": [
        "# Cell 3: TF-IDF Vectorization\n",
        "X, vectorizer = vectorize_text(spam_df['Text'].tolist())\n",
        "print(f\"Shape TF-IDF: {X.shape}\")\n"
      ]
    },
    {
      "cell_type": "markdown",
      "metadata": {},
      "source": [
        "## 3) Clustering dengan KMeans (k=2)\n"
      ]
    },
    {
      "cell_type": "code",
      "execution_count": 4,
      "metadata": {},
      "outputs": [
        {
          "name": "stdout",
          "output_type": "stream",
          "text": [
            "Silhouette score (cosine): 0.0085\n"
          ]
        }
      ],
      "source": [
        "# Cell 4: KMeans Clustering (k=2)\n",
        "model, labels = kmeans_cluster(X, k=2)\n",
        "spam_df['cluster'] = labels\n",
        "\n",
        "sil = silhouette_score(X, labels, metric='cosine') if X.shape[0] > 2 else float('nan')\n",
        "print(f\"Silhouette score (cosine): {sil:.4f}\")\n"
      ]
    },
    {
      "cell_type": "markdown",
      "metadata": {},
      "source": [
        "## 4) Top Terms per Cluster & Contoh Pesan\n"
      ]
    },
    {
      "cell_type": "code",
      "execution_count": 5,
      "metadata": {},
      "outputs": [
        {
          "name": "stdout",
          "output_type": "stream",
          "text": [
            "\n",
            "Top terms per cluster:\n",
            "- Cluster 0: ok, just, ll, ur, come, good, know, like, got, time, home, going\n",
            "- Cluster 1: gt, lt, lt gt, gt min, lt decimal, decimal gt, decimal, like lt, like, ll, min, minutes\n",
            "\n",
            "Contoh pesan per cluster:\n",
            "\n",
            "Cluster 0 (contoh 3 pesan):\n",
            "- Go until jurong point, crazy.. Available only in bugis n great world la e buffet... Cine there got amore wat...\n",
            "- Ok lar... Joking wif u oni...\n",
            "- Free entry in 2 a wkly comp to win FA Cup final tkts 21st May 2005. Text FA to 87121 to receive entry question(std txt rate)T&C's apply 08452810075over18's\n",
            "\n",
            "Cluster 1 (contoh 3 pesan):\n",
            "- Great! I hope you like your man well endowed. I am  &lt;#&gt;  inches...\n",
            "- A gram usually runs like  &lt;#&gt; , a half eighth is smarter though and gets you almost a whole second gram for  &lt;#&gt;\n",
            "- Do you know what Mallika Sherawat did yesterday? Find out now @  &lt;URL&gt;\n"
          ]
        }
      ],
      "source": [
        "# Cell 5: Ringkas Hasil Cluster (Top Terms & Contoh)\n",
        "print(\"\\nTop terms per cluster:\")\n",
        "for i, terms in show_top_terms_per_cluster(model, vectorizer, top_n=12):\n",
        "    print(f\"- Cluster {i}: {', '.join(terms)}\")\n",
        "\n",
        "print(\"\\nContoh pesan per cluster:\")\n",
        "for cid in sorted(spam_df['cluster'].unique()):\n",
        "    sample = spam_df[spam_df['cluster'] == cid]['Text'].head(3).tolist()\n",
        "    print(f\"\\nCluster {cid} (contoh 3 pesan):\")\n",
        "    for s in sample:\n",
        "        print(f\"- {s}\")\n"
      ]
    },
    {
      "cell_type": "markdown",
      "metadata": {},
      "source": [
        "## 5) Simpan Hasil\n"
      ]
    },
    {
      "cell_type": "code",
      "execution_count": 6,
      "metadata": {},
      "outputs": [
        {
          "name": "stdout",
          "output_type": "stream",
          "text": [
            "Hasil disimpan ke spam_clusters.csv\n"
          ]
        }
      ],
      "source": [
        "# Cell 6: Simpan Hasil\n",
        "spam_df[['Text', 'cluster']].to_csv('spam_clusters.csv', index=False)\n",
        "print(\"Hasil disimpan ke spam_clusters.csv\")\n"
      ]
    }
  ],
  "metadata": {
    "kernelspec": {
      "display_name": "Python 3",
      "language": "python",
      "name": "python3"
    },
    "language_info": {
      "codemirror_mode": {
        "name": "ipython",
        "version": 3
      },
      "file_extension": ".py",
      "mimetype": "text/x-python",
      "name": "python",
      "nbconvert_exporter": "python",
      "pygments_lexer": "ipython3",
      "version": "3.11.7"
    }
  },
  "nbformat": 4,
  "nbformat_minor": 2
}
